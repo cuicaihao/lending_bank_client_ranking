{
 "cells": [
  {
   "cell_type": "markdown",
   "metadata": {},
   "source": [
    "# Case Study: Data Exploration\n",
    "\n",
    "## 01 Project Description\n",
    "\n",
    "Lending Bank wants to attract term deposits to fund its lending business. In a term deposit, a client agrees to deposit funds and allow the bank to use them for a fixed length of time. In return, the bank will pay interest on the deposit.\n",
    "\n",
    "The bank’s sales manager wants to market the product to their existing clients. They have historical information from a previous marketing campaign that includes client demographics, prior call experience, market conditions and the interest rate offered.\n",
    "\n",
    "Using machine learning, help the bank predict which clients are likely to subscribe to a new term deposit. Explain how different features affect the decision.\n",
    "\n",
    "**Problem**\n",
    "\n",
    "Perform an analysis of the given data to determine how different features are related to credit card eligibility. Build a machine learning model that can predict the subs_deposit.\n",
    "\n",
    "**Data Schema**\n",
    "| NAME                  | DESCRIPTION                                                                                                                                          |\n",
    "|---------------------- |----------------------------------------------------------------------------------------------------------------------------------------------------- |\n",
    "| client_id             | unique ID of the client called [unique key]                                                                                                          |\n",
    "| age_bracket           | age bracket of the contacted client (in years)                                                                                                       |\n",
    "| job                   | job type of the contacted client                                                                                                                     |\n",
    "| marital               | marital status of the contacted client                                                                                                               |\n",
    "| education             | highest level of education done by the client                                                                                                        |\n",
    "| has_housing_loan      | whether the client has a house loan                                                                                                                  |\n",
    "| has_personal_loan     | whether the client has a personal loan                                                                                                               |\n",
    "| prev_call_duration    | last contact duration (value = 0 if the client has not been contacted ever)                                                                          |\n",
    "| contact_date          | date at which contact was made with the client (YYYY-MM-DD)                                                                                          |\n",
    "| days_since_last_call  | number of days that passed by after the client was last contacted from a previous campaign (numeric; 999 means client was not previously contacted)  |\n",
    "| num_contacts_prev     | number of contacts performed before this campaign and for this client (numeric)                                                                      |\n",
    "| poutcome              | outcome of the previous marketing campaign (categorical: \"failure\",\"nonexistent\",\"success\")                                                          |\n",
    "| cpi                   | standing consumer price index before the call (monthly indicator)                                                                                    |\n",
    "| subs_deposit          | Did the client subscribe to the term deposit? (binary: 1,0) [dependent variable]                                                                     |\n"
   ]
  },
  {
   "cell_type": "markdown",
   "metadata": {},
   "source": [
    "## 02 Data Exploration\n",
    "\n",
    "This section we will explore the data and get to know the data features."
   ]
  },
  {
   "cell_type": "code",
   "execution_count": 7,
   "metadata": {},
   "outputs": [
    {
     "data": {
      "text/html": [
       "<div>\n",
       "<style scoped>\n",
       "    .dataframe tbody tr th:only-of-type {\n",
       "        vertical-align: middle;\n",
       "    }\n",
       "\n",
       "    .dataframe tbody tr th {\n",
       "        vertical-align: top;\n",
       "    }\n",
       "\n",
       "    .dataframe thead th {\n",
       "        text-align: right;\n",
       "    }\n",
       "</style>\n",
       "<table border=\"1\" class=\"dataframe\">\n",
       "  <thead>\n",
       "    <tr style=\"text-align: right;\">\n",
       "      <th></th>\n",
       "      <th>client_id</th>\n",
       "      <th>age_bracket</th>\n",
       "      <th>job</th>\n",
       "      <th>marital</th>\n",
       "      <th>education</th>\n",
       "      <th>has_housing_loan</th>\n",
       "      <th>has_personal_loan</th>\n",
       "      <th>prev_call_duration</th>\n",
       "      <th>days_since_last_call</th>\n",
       "      <th>num_contacts_prev</th>\n",
       "      <th>poutcome</th>\n",
       "      <th>contact_date</th>\n",
       "      <th>cpi</th>\n",
       "      <th>subs_deposit</th>\n",
       "    </tr>\n",
       "  </thead>\n",
       "  <tbody>\n",
       "    <tr>\n",
       "      <th>0</th>\n",
       "      <td>41020</td>\n",
       "      <td>41-60</td>\n",
       "      <td>white-collar</td>\n",
       "      <td>divorced</td>\n",
       "      <td>bachelors</td>\n",
       "      <td>yes</td>\n",
       "      <td>no</td>\n",
       "      <td>283</td>\n",
       "      <td>3</td>\n",
       "      <td>1</td>\n",
       "      <td>success</td>\n",
       "      <td>07/09/18</td>\n",
       "      <td>92.379</td>\n",
       "      <td>1</td>\n",
       "    </tr>\n",
       "    <tr>\n",
       "      <th>1</th>\n",
       "      <td>23720</td>\n",
       "      <td>60+</td>\n",
       "      <td>other</td>\n",
       "      <td>divorced</td>\n",
       "      <td>secondary</td>\n",
       "      <td>no</td>\n",
       "      <td>yes</td>\n",
       "      <td>169</td>\n",
       "      <td>6</td>\n",
       "      <td>2</td>\n",
       "      <td>success</td>\n",
       "      <td>05/07/18</td>\n",
       "      <td>94.215</td>\n",
       "      <td>1</td>\n",
       "    </tr>\n",
       "    <tr>\n",
       "      <th>2</th>\n",
       "      <td>29378</td>\n",
       "      <td>41-60</td>\n",
       "      <td>white-collar</td>\n",
       "      <td>married</td>\n",
       "      <td>bachelors</td>\n",
       "      <td>no</td>\n",
       "      <td>no</td>\n",
       "      <td>552</td>\n",
       "      <td>999</td>\n",
       "      <td>0</td>\n",
       "      <td>nonexistent</td>\n",
       "      <td>01/08/18</td>\n",
       "      <td>93.444</td>\n",
       "      <td>1</td>\n",
       "    </tr>\n",
       "    <tr>\n",
       "      <th>3</th>\n",
       "      <td>36636</td>\n",
       "      <td>25-40</td>\n",
       "      <td>technician</td>\n",
       "      <td>single</td>\n",
       "      <td>senior_secondary</td>\n",
       "      <td>yes</td>\n",
       "      <td>yes</td>\n",
       "      <td>206</td>\n",
       "      <td>999</td>\n",
       "      <td>0</td>\n",
       "      <td>nonexistent</td>\n",
       "      <td>02/11/18</td>\n",
       "      <td>93.200</td>\n",
       "      <td>0</td>\n",
       "    </tr>\n",
       "    <tr>\n",
       "      <th>4</th>\n",
       "      <td>38229</td>\n",
       "      <td>18-24</td>\n",
       "      <td>white-collar</td>\n",
       "      <td>single</td>\n",
       "      <td>bachelors</td>\n",
       "      <td>no</td>\n",
       "      <td>no</td>\n",
       "      <td>341</td>\n",
       "      <td>999</td>\n",
       "      <td>0</td>\n",
       "      <td>nonexistent</td>\n",
       "      <td>04/04/18</td>\n",
       "      <td>93.075</td>\n",
       "      <td>1</td>\n",
       "    </tr>\n",
       "  </tbody>\n",
       "</table>\n",
       "</div>"
      ],
      "text/plain": [
       "   client_id age_bracket           job   marital         education  \\\n",
       "0      41020       41-60  white-collar  divorced         bachelors   \n",
       "1      23720         60+         other  divorced         secondary   \n",
       "2      29378       41-60  white-collar   married         bachelors   \n",
       "3      36636       25-40    technician    single  senior_secondary   \n",
       "4      38229       18-24  white-collar    single         bachelors   \n",
       "\n",
       "  has_housing_loan has_personal_loan  prev_call_duration  \\\n",
       "0              yes                no                 283   \n",
       "1               no               yes                 169   \n",
       "2               no                no                 552   \n",
       "3              yes               yes                 206   \n",
       "4               no                no                 341   \n",
       "\n",
       "   days_since_last_call  num_contacts_prev     poutcome contact_date     cpi  \\\n",
       "0                     3                  1      success     07/09/18  92.379   \n",
       "1                     6                  2      success     05/07/18  94.215   \n",
       "2                   999                  0  nonexistent     01/08/18  93.444   \n",
       "3                   999                  0  nonexistent     02/11/18  93.200   \n",
       "4                   999                  0  nonexistent     04/04/18  93.075   \n",
       "\n",
       "   subs_deposit  \n",
       "0             1  \n",
       "1             1  \n",
       "2             1  \n",
       "3             0  \n",
       "4             1  "
      ]
     },
     "metadata": {},
     "output_type": "display_data"
    }
   ],
   "source": [
    "import pandas as pd\n",
    "data_filepath = '../data/raw/train.csv'\n",
    "\n",
    "# Read just the fist 10 rows to understand the sample values.\n",
    "df_preview = pd.read_csv(data_filepath, nrows=10)\n",
    "display(df_preview.head())"
   ]
  },
  {
   "cell_type": "code",
   "execution_count": 8,
   "metadata": {},
   "outputs": [],
   "source": [
    "df_preview.head(5).T.to_csv('../reports/df_review_small.csv')"
   ]
  },
  {
   "cell_type": "markdown",
   "metadata": {},
   "source": [
    "Base on the above description, we can see that the data set contains the following features:\n",
    "\n",
    "- client_id: 5 digit string, unique identifier for each client\n",
    "- age_bracket: categorical, string, age bracket of the client\n",
    "- job: categorical, string, job of the client\n",
    "- marital: categorical, string, marital status of the client\n",
    "- education: categorical, string, education of the client\n",
    "- has_housing_load: categorical, string, whether the client has a housing loan (check binary)\n",
    "- has_car_loan: categorical, string, whether the client has a car loan (check binary)\n",
    "- has_personal_loan: categorical, string, whether the client has a personal loan (check binary)\n",
    "- pre_call_duration: numeric, duration of the client’s prior call experience, check the maximum value (seconds or minutes ?).\n",
    "- days_since_last_call: numeric, number of days since the client’s last call\n",
    "- poutcome: categorical, string, outcome of the client’s prior call (aka. previous call outcome)\n",
    "- contact_data: date, date of the client’s last call, format DD/MM/YY, e.g. 07/09/18 (check day first)\n",
    "- cpi: numeric, consumer price index (CPI) of the client’s last call\n",
    "- sub_deposit: categorical, string, whether the client subscribes to a term deposit (check binary)"
   ]
  },
  {
   "cell_type": "code",
   "execution_count": 210,
   "metadata": {},
   "outputs": [],
   "source": [
    "column_names = list(df_preview.columns.values)\n",
    "# column_names # just to make it easier to copy and paste in the next cell."
   ]
  },
  {
   "cell_type": "markdown",
   "metadata": {},
   "source": [
    "Now, read the data with data type and parse the data to get the data in the right format."
   ]
  },
  {
   "cell_type": "code",
   "execution_count": 3,
   "metadata": {},
   "outputs": [
    {
     "data": {
      "text/html": [
       "<div>\n",
       "<style scoped>\n",
       "    .dataframe tbody tr th:only-of-type {\n",
       "        vertical-align: middle;\n",
       "    }\n",
       "\n",
       "    .dataframe tbody tr th {\n",
       "        vertical-align: top;\n",
       "    }\n",
       "\n",
       "    .dataframe thead th {\n",
       "        text-align: right;\n",
       "    }\n",
       "</style>\n",
       "<table border=\"1\" class=\"dataframe\">\n",
       "  <thead>\n",
       "    <tr style=\"text-align: right;\">\n",
       "      <th></th>\n",
       "      <th>client_id</th>\n",
       "      <th>age_bracket</th>\n",
       "      <th>job</th>\n",
       "      <th>marital</th>\n",
       "      <th>education</th>\n",
       "      <th>has_housing_loan</th>\n",
       "      <th>has_personal_loan</th>\n",
       "      <th>prev_call_duration</th>\n",
       "      <th>days_since_last_call</th>\n",
       "      <th>num_contacts_prev</th>\n",
       "      <th>poutcome</th>\n",
       "      <th>contact_date</th>\n",
       "      <th>cpi</th>\n",
       "      <th>subs_deposit</th>\n",
       "    </tr>\n",
       "  </thead>\n",
       "  <tbody>\n",
       "    <tr>\n",
       "      <th>0</th>\n",
       "      <td>41020</td>\n",
       "      <td>41-60</td>\n",
       "      <td>white-collar</td>\n",
       "      <td>divorced</td>\n",
       "      <td>bachelors</td>\n",
       "      <td>yes</td>\n",
       "      <td>no</td>\n",
       "      <td>283</td>\n",
       "      <td>3</td>\n",
       "      <td>1</td>\n",
       "      <td>success</td>\n",
       "      <td>2018-07-09</td>\n",
       "      <td>92.379</td>\n",
       "      <td>1</td>\n",
       "    </tr>\n",
       "    <tr>\n",
       "      <th>1</th>\n",
       "      <td>23720</td>\n",
       "      <td>60+</td>\n",
       "      <td>other</td>\n",
       "      <td>divorced</td>\n",
       "      <td>secondary</td>\n",
       "      <td>no</td>\n",
       "      <td>yes</td>\n",
       "      <td>169</td>\n",
       "      <td>6</td>\n",
       "      <td>2</td>\n",
       "      <td>success</td>\n",
       "      <td>2018-05-07</td>\n",
       "      <td>94.215</td>\n",
       "      <td>1</td>\n",
       "    </tr>\n",
       "    <tr>\n",
       "      <th>2</th>\n",
       "      <td>29378</td>\n",
       "      <td>41-60</td>\n",
       "      <td>white-collar</td>\n",
       "      <td>married</td>\n",
       "      <td>bachelors</td>\n",
       "      <td>no</td>\n",
       "      <td>no</td>\n",
       "      <td>552</td>\n",
       "      <td>999</td>\n",
       "      <td>0</td>\n",
       "      <td>nonexistent</td>\n",
       "      <td>2018-01-08</td>\n",
       "      <td>93.444</td>\n",
       "      <td>1</td>\n",
       "    </tr>\n",
       "    <tr>\n",
       "      <th>3</th>\n",
       "      <td>36636</td>\n",
       "      <td>25-40</td>\n",
       "      <td>technician</td>\n",
       "      <td>single</td>\n",
       "      <td>senior_secondary</td>\n",
       "      <td>yes</td>\n",
       "      <td>yes</td>\n",
       "      <td>206</td>\n",
       "      <td>999</td>\n",
       "      <td>0</td>\n",
       "      <td>nonexistent</td>\n",
       "      <td>2018-02-11</td>\n",
       "      <td>93.200</td>\n",
       "      <td>0</td>\n",
       "    </tr>\n",
       "    <tr>\n",
       "      <th>4</th>\n",
       "      <td>38229</td>\n",
       "      <td>18-24</td>\n",
       "      <td>white-collar</td>\n",
       "      <td>single</td>\n",
       "      <td>bachelors</td>\n",
       "      <td>no</td>\n",
       "      <td>no</td>\n",
       "      <td>341</td>\n",
       "      <td>999</td>\n",
       "      <td>0</td>\n",
       "      <td>nonexistent</td>\n",
       "      <td>2018-04-04</td>\n",
       "      <td>93.075</td>\n",
       "      <td>1</td>\n",
       "    </tr>\n",
       "  </tbody>\n",
       "</table>\n",
       "</div>"
      ],
      "text/plain": [
       "  client_id age_bracket           job   marital         education  \\\n",
       "0     41020       41-60  white-collar  divorced         bachelors   \n",
       "1     23720         60+         other  divorced         secondary   \n",
       "2     29378       41-60  white-collar   married         bachelors   \n",
       "3     36636       25-40    technician    single  senior_secondary   \n",
       "4     38229       18-24  white-collar    single         bachelors   \n",
       "\n",
       "  has_housing_loan has_personal_loan  prev_call_duration  \\\n",
       "0              yes                no                 283   \n",
       "1               no               yes                 169   \n",
       "2               no                no                 552   \n",
       "3              yes               yes                 206   \n",
       "4               no                no                 341   \n",
       "\n",
       "   days_since_last_call  num_contacts_prev     poutcome contact_date     cpi  \\\n",
       "0                     3                  1      success   2018-07-09  92.379   \n",
       "1                     6                  2      success   2018-05-07  94.215   \n",
       "2                   999                  0  nonexistent   2018-01-08  93.444   \n",
       "3                   999                  0  nonexistent   2018-02-11  93.200   \n",
       "4                   999                  0  nonexistent   2018-04-04  93.075   \n",
       "\n",
       "   subs_deposit  \n",
       "0             1  \n",
       "1             1  \n",
       "2             1  \n",
       "3             0  \n",
       "4             1  "
      ]
     },
     "metadata": {},
     "output_type": "display_data"
    }
   ],
   "source": [
    "sample_type = {\n",
    "    'client_id': 'string',\n",
    " 'age_bracket': 'string',\n",
    " 'job': 'string',\n",
    " 'marital': 'string',\n",
    " 'education': 'string',\n",
    " 'has_housing_loan': 'string',\n",
    " 'has_personal_loan': 'string',\n",
    " 'prev_call_duration': 'int', # ! check the maximum value\n",
    " 'days_since_last_call': 'int', # ! check the maximum value\n",
    " 'num_contacts_prev':'int', # ! check the maximum value\n",
    " 'poutcome': 'string',\n",
    " 'contact_date': 'str',\n",
    " 'cpi': 'float',\n",
    " 'subs_deposit':'int', # ! check the binary, this could be the target label.\n",
    "}\n",
    "\n",
    "df_raw = pd.read_csv(data_filepath, dtype=sample_type, parse_dates=['contact_date'], infer_datetime_format=True)\n",
    "display(df_raw.head())"
   ]
  },
  {
   "cell_type": "code",
   "execution_count": 5,
   "metadata": {},
   "outputs": [
    {
     "data": {
      "text/html": [
       "<div>\n",
       "<style scoped>\n",
       "    .dataframe tbody tr th:only-of-type {\n",
       "        vertical-align: middle;\n",
       "    }\n",
       "\n",
       "    .dataframe tbody tr th {\n",
       "        vertical-align: top;\n",
       "    }\n",
       "\n",
       "    .dataframe thead th {\n",
       "        text-align: right;\n",
       "    }\n",
       "</style>\n",
       "<table border=\"1\" class=\"dataframe\">\n",
       "  <thead>\n",
       "    <tr style=\"text-align: right;\">\n",
       "      <th></th>\n",
       "      <th>0</th>\n",
       "      <th>1</th>\n",
       "      <th>2</th>\n",
       "      <th>3</th>\n",
       "      <th>4</th>\n",
       "    </tr>\n",
       "  </thead>\n",
       "  <tbody>\n",
       "    <tr>\n",
       "      <th>client_id</th>\n",
       "      <td>41020</td>\n",
       "      <td>23720</td>\n",
       "      <td>29378</td>\n",
       "      <td>36636</td>\n",
       "      <td>38229</td>\n",
       "    </tr>\n",
       "    <tr>\n",
       "      <th>age_bracket</th>\n",
       "      <td>41-60</td>\n",
       "      <td>60+</td>\n",
       "      <td>41-60</td>\n",
       "      <td>25-40</td>\n",
       "      <td>18-24</td>\n",
       "    </tr>\n",
       "    <tr>\n",
       "      <th>job</th>\n",
       "      <td>white-collar</td>\n",
       "      <td>other</td>\n",
       "      <td>white-collar</td>\n",
       "      <td>technician</td>\n",
       "      <td>white-collar</td>\n",
       "    </tr>\n",
       "    <tr>\n",
       "      <th>marital</th>\n",
       "      <td>divorced</td>\n",
       "      <td>divorced</td>\n",
       "      <td>married</td>\n",
       "      <td>single</td>\n",
       "      <td>single</td>\n",
       "    </tr>\n",
       "    <tr>\n",
       "      <th>education</th>\n",
       "      <td>bachelors</td>\n",
       "      <td>secondary</td>\n",
       "      <td>bachelors</td>\n",
       "      <td>senior_secondary</td>\n",
       "      <td>bachelors</td>\n",
       "    </tr>\n",
       "    <tr>\n",
       "      <th>has_housing_loan</th>\n",
       "      <td>yes</td>\n",
       "      <td>no</td>\n",
       "      <td>no</td>\n",
       "      <td>yes</td>\n",
       "      <td>no</td>\n",
       "    </tr>\n",
       "    <tr>\n",
       "      <th>has_personal_loan</th>\n",
       "      <td>no</td>\n",
       "      <td>yes</td>\n",
       "      <td>no</td>\n",
       "      <td>yes</td>\n",
       "      <td>no</td>\n",
       "    </tr>\n",
       "    <tr>\n",
       "      <th>prev_call_duration</th>\n",
       "      <td>283</td>\n",
       "      <td>169</td>\n",
       "      <td>552</td>\n",
       "      <td>206</td>\n",
       "      <td>341</td>\n",
       "    </tr>\n",
       "    <tr>\n",
       "      <th>days_since_last_call</th>\n",
       "      <td>3</td>\n",
       "      <td>6</td>\n",
       "      <td>999</td>\n",
       "      <td>999</td>\n",
       "      <td>999</td>\n",
       "    </tr>\n",
       "    <tr>\n",
       "      <th>num_contacts_prev</th>\n",
       "      <td>1</td>\n",
       "      <td>2</td>\n",
       "      <td>0</td>\n",
       "      <td>0</td>\n",
       "      <td>0</td>\n",
       "    </tr>\n",
       "    <tr>\n",
       "      <th>poutcome</th>\n",
       "      <td>success</td>\n",
       "      <td>success</td>\n",
       "      <td>nonexistent</td>\n",
       "      <td>nonexistent</td>\n",
       "      <td>nonexistent</td>\n",
       "    </tr>\n",
       "    <tr>\n",
       "      <th>contact_date</th>\n",
       "      <td>2018-07-09 00:00:00</td>\n",
       "      <td>2018-05-07 00:00:00</td>\n",
       "      <td>2018-01-08 00:00:00</td>\n",
       "      <td>2018-02-11 00:00:00</td>\n",
       "      <td>2018-04-04 00:00:00</td>\n",
       "    </tr>\n",
       "    <tr>\n",
       "      <th>cpi</th>\n",
       "      <td>92.379</td>\n",
       "      <td>94.215</td>\n",
       "      <td>93.444</td>\n",
       "      <td>93.2</td>\n",
       "      <td>93.075</td>\n",
       "    </tr>\n",
       "    <tr>\n",
       "      <th>subs_deposit</th>\n",
       "      <td>1</td>\n",
       "      <td>1</td>\n",
       "      <td>1</td>\n",
       "      <td>0</td>\n",
       "      <td>1</td>\n",
       "    </tr>\n",
       "  </tbody>\n",
       "</table>\n",
       "</div>"
      ],
      "text/plain": [
       "                                        0                    1  \\\n",
       "client_id                           41020                23720   \n",
       "age_bracket                         41-60                  60+   \n",
       "job                          white-collar                other   \n",
       "marital                          divorced             divorced   \n",
       "education                       bachelors            secondary   \n",
       "has_housing_loan                      yes                   no   \n",
       "has_personal_loan                      no                  yes   \n",
       "prev_call_duration                    283                  169   \n",
       "days_since_last_call                    3                    6   \n",
       "num_contacts_prev                       1                    2   \n",
       "poutcome                          success              success   \n",
       "contact_date          2018-07-09 00:00:00  2018-05-07 00:00:00   \n",
       "cpi                                92.379               94.215   \n",
       "subs_deposit                            1                    1   \n",
       "\n",
       "                                        2                    3  \\\n",
       "client_id                           29378                36636   \n",
       "age_bracket                         41-60                25-40   \n",
       "job                          white-collar           technician   \n",
       "marital                           married               single   \n",
       "education                       bachelors     senior_secondary   \n",
       "has_housing_loan                       no                  yes   \n",
       "has_personal_loan                      no                  yes   \n",
       "prev_call_duration                    552                  206   \n",
       "days_since_last_call                  999                  999   \n",
       "num_contacts_prev                       0                    0   \n",
       "poutcome                      nonexistent          nonexistent   \n",
       "contact_date          2018-01-08 00:00:00  2018-02-11 00:00:00   \n",
       "cpi                                93.444                 93.2   \n",
       "subs_deposit                            1                    0   \n",
       "\n",
       "                                        4  \n",
       "client_id                           38229  \n",
       "age_bracket                         18-24  \n",
       "job                          white-collar  \n",
       "marital                            single  \n",
       "education                       bachelors  \n",
       "has_housing_loan                       no  \n",
       "has_personal_loan                      no  \n",
       "prev_call_duration                    341  \n",
       "days_since_last_call                  999  \n",
       "num_contacts_prev                       0  \n",
       "poutcome                      nonexistent  \n",
       "contact_date          2018-04-04 00:00:00  \n",
       "cpi                                93.075  \n",
       "subs_deposit                            1  "
      ]
     },
     "metadata": {},
     "output_type": "display_data"
    }
   ],
   "source": [
    "display(df_raw.head().T)"
   ]
  },
  {
   "cell_type": "code",
   "execution_count": null,
   "metadata": {},
   "outputs": [],
   "source": []
  },
  {
   "cell_type": "code",
   "execution_count": 4,
   "metadata": {},
   "outputs": [
    {
     "name": "stdout",
     "output_type": "stream",
     "text": [
      "<class 'pandas.core.frame.DataFrame'>\n",
      "RangeIndex: 4000 entries, 0 to 3999\n",
      "Data columns (total 14 columns):\n",
      " #   Column                Non-Null Count  Dtype         \n",
      "---  ------                --------------  -----         \n",
      " 0   client_id             4000 non-null   string        \n",
      " 1   age_bracket           4000 non-null   string        \n",
      " 2   job                   4000 non-null   string        \n",
      " 3   marital               4000 non-null   string        \n",
      " 4   education             4000 non-null   string        \n",
      " 5   has_housing_loan      4000 non-null   string        \n",
      " 6   has_personal_loan     4000 non-null   string        \n",
      " 7   prev_call_duration    4000 non-null   int64         \n",
      " 8   days_since_last_call  4000 non-null   int64         \n",
      " 9   num_contacts_prev     4000 non-null   int64         \n",
      " 10  poutcome              4000 non-null   string        \n",
      " 11  contact_date          4000 non-null   datetime64[ns]\n",
      " 12  cpi                   4000 non-null   float64       \n",
      " 13  subs_deposit          4000 non-null   int64         \n",
      "dtypes: datetime64[ns](1), float64(1), int64(4), string(8)\n",
      "memory usage: 437.6 KB\n"
     ]
    },
    {
     "data": {
      "text/plain": [
       "None"
      ]
     },
     "metadata": {},
     "output_type": "display_data"
    }
   ],
   "source": [
    "# Check the data types \n",
    "display(df_raw.info())"
   ]
  },
  {
   "cell_type": "code",
   "execution_count": null,
   "metadata": {},
   "outputs": [],
   "source": []
  },
  {
   "cell_type": "markdown",
   "metadata": {},
   "source": [
    "## 03 Raw Data Profiling  \n",
    "Data Profiling is a process of analyzing the data to find out the data types, values, distributions and their internal relationships."
   ]
  },
  {
   "cell_type": "code",
   "execution_count": 213,
   "metadata": {},
   "outputs": [],
   "source": [
    "# from pandas_profiling import ProfileReport\n",
    "# output_dir = '../reports/data_profiling.html'\n",
    "# profile = ProfileReport(df_raw,   title='Data Profiling Report', html={'style':{'full_width':True}})\n",
    "# profile.to_file(output_dir)"
   ]
  },
  {
   "cell_type": "markdown",
   "metadata": {},
   "source": [
    "## 04: Feature Engineering\n",
    "\n",
    "This step is to review the feature values and find the insights from the data. \n",
    "\n",
    "Understanding the data: categorical features, min/max values of the features, missing values or outliers, etc."
   ]
  },
  {
   "cell_type": "code",
   "execution_count": 214,
   "metadata": {},
   "outputs": [],
   "source": [
    "# Make a copy of the dataframe to work with and always keep the original one intact.\n",
    "df_data = df_raw.copy()"
   ]
  },
  {
   "cell_type": "markdown",
   "metadata": {},
   "source": [
    "### 04.0 Sample ID\n",
    "#### client_id\n",
    "\n",
    "Id is not used in the model, so we can drop it later in modelling, but let check the id uniqueness."
   ]
  },
  {
   "cell_type": "code",
   "execution_count": 215,
   "metadata": {},
   "outputs": [
    {
     "data": {
      "text/html": [
       "<div>\n",
       "<style scoped>\n",
       "    .dataframe tbody tr th:only-of-type {\n",
       "        vertical-align: middle;\n",
       "    }\n",
       "\n",
       "    .dataframe tbody tr th {\n",
       "        vertical-align: top;\n",
       "    }\n",
       "\n",
       "    .dataframe thead th {\n",
       "        text-align: right;\n",
       "    }\n",
       "</style>\n",
       "<table border=\"1\" class=\"dataframe\">\n",
       "  <thead>\n",
       "    <tr style=\"text-align: right;\">\n",
       "      <th></th>\n",
       "      <th>client_id</th>\n",
       "      <th>age_bracket</th>\n",
       "      <th>job</th>\n",
       "      <th>marital</th>\n",
       "      <th>education</th>\n",
       "      <th>has_housing_loan</th>\n",
       "      <th>has_personal_loan</th>\n",
       "      <th>prev_call_duration</th>\n",
       "      <th>days_since_last_call</th>\n",
       "      <th>num_contacts_prev</th>\n",
       "      <th>poutcome</th>\n",
       "      <th>contact_date</th>\n",
       "      <th>cpi</th>\n",
       "      <th>subs_deposit</th>\n",
       "    </tr>\n",
       "  </thead>\n",
       "  <tbody>\n",
       "    <tr>\n",
       "      <th>1119</th>\n",
       "      <td>17</td>\n",
       "      <td>41-60</td>\n",
       "      <td>blue-collar</td>\n",
       "      <td>married</td>\n",
       "      <td>secondary</td>\n",
       "      <td>yes</td>\n",
       "      <td>yes</td>\n",
       "      <td>440</td>\n",
       "      <td>999</td>\n",
       "      <td>0</td>\n",
       "      <td>nonexistent</td>\n",
       "      <td>2018-07-05</td>\n",
       "      <td>93.994</td>\n",
       "      <td>0</td>\n",
       "    </tr>\n",
       "  </tbody>\n",
       "</table>\n",
       "</div>"
      ],
      "text/plain": [
       "     client_id age_bracket          job  marital  education has_housing_loan  \\\n",
       "1119        17       41-60  blue-collar  married  secondary              yes   \n",
       "\n",
       "     has_personal_loan  prev_call_duration  days_since_last_call  \\\n",
       "1119               yes                 440                   999   \n",
       "\n",
       "      num_contacts_prev     poutcome contact_date     cpi  subs_deposit  \n",
       "1119                  0  nonexistent   2018-07-05  93.994             0  "
      ]
     },
     "metadata": {},
     "output_type": "display_data"
    },
    {
     "data": {
      "text/html": [
       "<div>\n",
       "<style scoped>\n",
       "    .dataframe tbody tr th:only-of-type {\n",
       "        vertical-align: middle;\n",
       "    }\n",
       "\n",
       "    .dataframe tbody tr th {\n",
       "        vertical-align: top;\n",
       "    }\n",
       "\n",
       "    .dataframe thead th {\n",
       "        text-align: right;\n",
       "    }\n",
       "</style>\n",
       "<table border=\"1\" class=\"dataframe\">\n",
       "  <thead>\n",
       "    <tr style=\"text-align: right;\">\n",
       "      <th></th>\n",
       "      <th>client_id</th>\n",
       "      <th>age_bracket</th>\n",
       "      <th>job</th>\n",
       "      <th>marital</th>\n",
       "      <th>education</th>\n",
       "      <th>has_housing_loan</th>\n",
       "      <th>has_personal_loan</th>\n",
       "      <th>prev_call_duration</th>\n",
       "      <th>days_since_last_call</th>\n",
       "      <th>num_contacts_prev</th>\n",
       "      <th>poutcome</th>\n",
       "      <th>contact_date</th>\n",
       "      <th>cpi</th>\n",
       "      <th>subs_deposit</th>\n",
       "    </tr>\n",
       "  </thead>\n",
       "  <tbody>\n",
       "    <tr>\n",
       "      <th>2571</th>\n",
       "      <td>41186</td>\n",
       "      <td>41-60</td>\n",
       "      <td>other</td>\n",
       "      <td>married</td>\n",
       "      <td>masters</td>\n",
       "      <td>yes</td>\n",
       "      <td>no</td>\n",
       "      <td>315</td>\n",
       "      <td>999</td>\n",
       "      <td>0</td>\n",
       "      <td>nonexistent</td>\n",
       "      <td>2018-03-09</td>\n",
       "      <td>94.199</td>\n",
       "      <td>1</td>\n",
       "    </tr>\n",
       "  </tbody>\n",
       "</table>\n",
       "</div>"
      ],
      "text/plain": [
       "     client_id age_bracket    job  marital education has_housing_loan  \\\n",
       "2571     41186       41-60  other  married   masters              yes   \n",
       "\n",
       "     has_personal_loan  prev_call_duration  days_since_last_call  \\\n",
       "2571                no                 315                   999   \n",
       "\n",
       "      num_contacts_prev     poutcome contact_date     cpi  subs_deposit  \n",
       "2571                  0  nonexistent   2018-03-09  94.199             1  "
      ]
     },
     "metadata": {},
     "output_type": "display_data"
    }
   ],
   "source": [
    "# print(df_raw.client_id.describe())\n",
    "## Client ID is the unique identifier for each client. Thus 4000 unique client IDs (hashable).\n",
    "assert len(df_raw.client_id.unique()) == len(df_raw), 'client_id is not unique'\n",
    "\n",
    "# df_raw.client_id.describe(include='all')\n",
    "# We can also check the ID distribution\n",
    "df_temp = df_raw.client_id.astype('int')\n",
    "# ax = df_temp.hist()\n",
    "\n",
    "## show client with min and max ID\n",
    "display(df_raw[df_raw.client_id == str(df_temp.min())])\n",
    "display(df_raw[df_raw.client_id == str(df_temp.max())])"
   ]
  },
  {
   "cell_type": "code",
   "execution_count": 216,
   "metadata": {},
   "outputs": [],
   "source": [
    "df_data.set_index('client_id', inplace=True)"
   ]
  },
  {
   "cell_type": "code",
   "execution_count": 217,
   "metadata": {},
   "outputs": [
    {
     "data": {
      "text/html": [
       "<div>\n",
       "<style scoped>\n",
       "    .dataframe tbody tr th:only-of-type {\n",
       "        vertical-align: middle;\n",
       "    }\n",
       "\n",
       "    .dataframe tbody tr th {\n",
       "        vertical-align: top;\n",
       "    }\n",
       "\n",
       "    .dataframe thead th {\n",
       "        text-align: right;\n",
       "    }\n",
       "</style>\n",
       "<table border=\"1\" class=\"dataframe\">\n",
       "  <thead>\n",
       "    <tr style=\"text-align: right;\">\n",
       "      <th></th>\n",
       "      <th>age_bracket</th>\n",
       "      <th>job</th>\n",
       "      <th>marital</th>\n",
       "      <th>education</th>\n",
       "      <th>has_housing_loan</th>\n",
       "      <th>has_personal_loan</th>\n",
       "      <th>prev_call_duration</th>\n",
       "      <th>days_since_last_call</th>\n",
       "      <th>num_contacts_prev</th>\n",
       "      <th>poutcome</th>\n",
       "      <th>contact_date</th>\n",
       "      <th>cpi</th>\n",
       "      <th>subs_deposit</th>\n",
       "    </tr>\n",
       "    <tr>\n",
       "      <th>client_id</th>\n",
       "      <th></th>\n",
       "      <th></th>\n",
       "      <th></th>\n",
       "      <th></th>\n",
       "      <th></th>\n",
       "      <th></th>\n",
       "      <th></th>\n",
       "      <th></th>\n",
       "      <th></th>\n",
       "      <th></th>\n",
       "      <th></th>\n",
       "      <th></th>\n",
       "      <th></th>\n",
       "    </tr>\n",
       "  </thead>\n",
       "  <tbody>\n",
       "    <tr>\n",
       "      <th>41020</th>\n",
       "      <td>41-60</td>\n",
       "      <td>white-collar</td>\n",
       "      <td>divorced</td>\n",
       "      <td>bachelors</td>\n",
       "      <td>yes</td>\n",
       "      <td>no</td>\n",
       "      <td>283</td>\n",
       "      <td>3</td>\n",
       "      <td>1</td>\n",
       "      <td>success</td>\n",
       "      <td>2018-07-09</td>\n",
       "      <td>92.379</td>\n",
       "      <td>1</td>\n",
       "    </tr>\n",
       "    <tr>\n",
       "      <th>23720</th>\n",
       "      <td>60+</td>\n",
       "      <td>other</td>\n",
       "      <td>divorced</td>\n",
       "      <td>secondary</td>\n",
       "      <td>no</td>\n",
       "      <td>yes</td>\n",
       "      <td>169</td>\n",
       "      <td>6</td>\n",
       "      <td>2</td>\n",
       "      <td>success</td>\n",
       "      <td>2018-05-07</td>\n",
       "      <td>94.215</td>\n",
       "      <td>1</td>\n",
       "    </tr>\n",
       "    <tr>\n",
       "      <th>29378</th>\n",
       "      <td>41-60</td>\n",
       "      <td>white-collar</td>\n",
       "      <td>married</td>\n",
       "      <td>bachelors</td>\n",
       "      <td>no</td>\n",
       "      <td>no</td>\n",
       "      <td>552</td>\n",
       "      <td>999</td>\n",
       "      <td>0</td>\n",
       "      <td>nonexistent</td>\n",
       "      <td>2018-01-08</td>\n",
       "      <td>93.444</td>\n",
       "      <td>1</td>\n",
       "    </tr>\n",
       "    <tr>\n",
       "      <th>36636</th>\n",
       "      <td>25-40</td>\n",
       "      <td>technician</td>\n",
       "      <td>single</td>\n",
       "      <td>senior_secondary</td>\n",
       "      <td>yes</td>\n",
       "      <td>yes</td>\n",
       "      <td>206</td>\n",
       "      <td>999</td>\n",
       "      <td>0</td>\n",
       "      <td>nonexistent</td>\n",
       "      <td>2018-02-11</td>\n",
       "      <td>93.200</td>\n",
       "      <td>0</td>\n",
       "    </tr>\n",
       "    <tr>\n",
       "      <th>38229</th>\n",
       "      <td>18-24</td>\n",
       "      <td>white-collar</td>\n",
       "      <td>single</td>\n",
       "      <td>bachelors</td>\n",
       "      <td>no</td>\n",
       "      <td>no</td>\n",
       "      <td>341</td>\n",
       "      <td>999</td>\n",
       "      <td>0</td>\n",
       "      <td>nonexistent</td>\n",
       "      <td>2018-04-04</td>\n",
       "      <td>93.075</td>\n",
       "      <td>1</td>\n",
       "    </tr>\n",
       "  </tbody>\n",
       "</table>\n",
       "</div>"
      ],
      "text/plain": [
       "          age_bracket           job   marital         education  \\\n",
       "client_id                                                         \n",
       "41020           41-60  white-collar  divorced         bachelors   \n",
       "23720             60+         other  divorced         secondary   \n",
       "29378           41-60  white-collar   married         bachelors   \n",
       "36636           25-40    technician    single  senior_secondary   \n",
       "38229           18-24  white-collar    single         bachelors   \n",
       "\n",
       "          has_housing_loan has_personal_loan  prev_call_duration  \\\n",
       "client_id                                                          \n",
       "41020                  yes                no                 283   \n",
       "23720                   no               yes                 169   \n",
       "29378                   no                no                 552   \n",
       "36636                  yes               yes                 206   \n",
       "38229                   no                no                 341   \n",
       "\n",
       "           days_since_last_call  num_contacts_prev     poutcome contact_date  \\\n",
       "client_id                                                                      \n",
       "41020                         3                  1      success   2018-07-09   \n",
       "23720                         6                  2      success   2018-05-07   \n",
       "29378                       999                  0  nonexistent   2018-01-08   \n",
       "36636                       999                  0  nonexistent   2018-02-11   \n",
       "38229                       999                  0  nonexistent   2018-04-04   \n",
       "\n",
       "              cpi  subs_deposit  \n",
       "client_id                        \n",
       "41020      92.379             1  \n",
       "23720      94.215             1  \n",
       "29378      93.444             1  \n",
       "36636      93.200             0  \n",
       "38229      93.075             1  "
      ]
     },
     "execution_count": 217,
     "metadata": {},
     "output_type": "execute_result"
    }
   ],
   "source": [
    "df_data.head()"
   ]
  },
  {
   "cell_type": "markdown",
   "metadata": {},
   "source": [
    "### 04.1: Category Features"
   ]
  },
  {
   "cell_type": "markdown",
   "metadata": {},
   "source": [
    "#### age_bracket\n",
    "\n",
    "age_bracket is the categorical feature, so it needs to be encoded."
   ]
  },
  {
   "cell_type": "code",
   "execution_count": 218,
   "metadata": {},
   "outputs": [
    {
     "data": {
      "text/plain": [
       "(25-40    2161\n",
       " 41-60    1544\n",
       " 18-24     148\n",
       " 60+       147\n",
       " Name: age_bracket, dtype: Int64,\n",
       " 4000,\n",
       " <StringArray>\n",
       " ['41-60', '60+', '25-40', '18-24']\n",
       " Length: 4, dtype: string)"
      ]
     },
     "execution_count": 218,
     "metadata": {},
     "output_type": "execute_result"
    }
   ],
   "source": [
    "# check the types\n",
    "df_raw.age_bracket.value_counts(), df_raw.age_bracket.value_counts().sum(), df_raw.age_bracket.unique()"
   ]
  },
  {
   "cell_type": "markdown",
   "metadata": {},
   "source": [
    "Age has its own meanings in increasing order.  \n",
    "\n",
    "We see there are 4 age brackets: ['18-24', '25-40', '41-60', '60+'].\n",
    "\n",
    "It can be encoded as: [1, 2, 3, 4] in the same order.\n",
    "\n",
    "Other cases we mark it as [2] '25-40' which is one with the most clients."
   ]
  },
  {
   "cell_type": "code",
   "execution_count": 219,
   "metadata": {},
   "outputs": [],
   "source": [
    "def age_bracket_encoder(age_bracket):\n",
    "    age_bracket_to_int_dict = {\n",
    "        '18-24': 1,\n",
    "        '25-40': 2,\n",
    "        '41-60': 3,\n",
    "        '60+': 4,\n",
    "    }\n",
    "    if age_bracket in age_bracket_to_int_dict:\n",
    "        return age_bracket_to_int_dict[age_bracket]\n",
    "    else:\n",
    "        return 2\n",
    "df_data['age_bracket'] = df_data.apply(\n",
    "    lambda x: age_bracket_encoder(x['age_bracket']), axis=1 )"
   ]
  },
  {
   "cell_type": "code",
   "execution_count": 220,
   "metadata": {},
   "outputs": [
    {
     "data": {
      "text/html": [
       "<div>\n",
       "<style scoped>\n",
       "    .dataframe tbody tr th:only-of-type {\n",
       "        vertical-align: middle;\n",
       "    }\n",
       "\n",
       "    .dataframe tbody tr th {\n",
       "        vertical-align: top;\n",
       "    }\n",
       "\n",
       "    .dataframe thead th {\n",
       "        text-align: right;\n",
       "    }\n",
       "</style>\n",
       "<table border=\"1\" class=\"dataframe\">\n",
       "  <thead>\n",
       "    <tr style=\"text-align: right;\">\n",
       "      <th></th>\n",
       "      <th>age_bracket</th>\n",
       "      <th>job</th>\n",
       "      <th>marital</th>\n",
       "      <th>education</th>\n",
       "      <th>has_housing_loan</th>\n",
       "      <th>has_personal_loan</th>\n",
       "      <th>prev_call_duration</th>\n",
       "      <th>days_since_last_call</th>\n",
       "      <th>num_contacts_prev</th>\n",
       "      <th>poutcome</th>\n",
       "      <th>contact_date</th>\n",
       "      <th>cpi</th>\n",
       "      <th>subs_deposit</th>\n",
       "    </tr>\n",
       "    <tr>\n",
       "      <th>client_id</th>\n",
       "      <th></th>\n",
       "      <th></th>\n",
       "      <th></th>\n",
       "      <th></th>\n",
       "      <th></th>\n",
       "      <th></th>\n",
       "      <th></th>\n",
       "      <th></th>\n",
       "      <th></th>\n",
       "      <th></th>\n",
       "      <th></th>\n",
       "      <th></th>\n",
       "      <th></th>\n",
       "    </tr>\n",
       "  </thead>\n",
       "  <tbody>\n",
       "  </tbody>\n",
       "</table>\n",
       "</div>"
      ],
      "text/plain": [
       "Empty DataFrame\n",
       "Columns: [age_bracket, job, marital, education, has_housing_loan, has_personal_loan, prev_call_duration, days_since_last_call, num_contacts_prev, poutcome, contact_date, cpi, subs_deposit]\n",
       "Index: []"
      ]
     },
     "metadata": {},
     "output_type": "display_data"
    }
   ],
   "source": [
    "# check the NULL values\n",
    "display(df_data[df_data.age_bracket.isna()])"
   ]
  },
  {
   "cell_type": "markdown",
   "metadata": {},
   "source": [
    "#### Job\n",
    "\n",
    "Job is categorical, so we need to encode it."
   ]
  },
  {
   "cell_type": "code",
   "execution_count": 221,
   "metadata": {},
   "outputs": [
    {
     "data": {
      "text/plain": [
       "(white-collar     1366\n",
       " blue-collar       769\n",
       " technician        640\n",
       " other             503\n",
       " pink-collar       455\n",
       " self-employed     153\n",
       " entrepreneur      114\n",
       " Name: job, dtype: Int64,\n",
       " 4000,\n",
       " <StringArray>\n",
       " [ 'white-collar',         'other',    'technician', 'self-employed',\n",
       "    'blue-collar',   'pink-collar',  'entrepreneur']\n",
       " Length: 7, dtype: string)"
      ]
     },
     "execution_count": 221,
     "metadata": {},
     "output_type": "execute_result"
    }
   ],
   "source": [
    "# check the types\n",
    "df_raw.job.value_counts(), df_raw.job.value_counts().sum(), df_raw.job.unique()\n"
   ]
  },
  {
   "cell_type": "code",
   "execution_count": 222,
   "metadata": {},
   "outputs": [
    {
     "data": {
      "image/png": "[encoded data removed]",
      "text/plain": [
       "<Figure size 432x288 with 1 Axes>"
      ]
     },
     "metadata": {
      "needs_background": "light"
     },
     "output_type": "display_data"
    }
   ],
   "source": [
    "ax  = df_raw.job.value_counts().plot(kind='bar')"
   ]
  },
  {
   "cell_type": "code",
   "execution_count": 223,
   "metadata": {},
   "outputs": [
    {
     "data": {
      "text/plain": [
       "['white-collar',\n",
       " 'blue-collar',\n",
       " 'technician',\n",
       " 'other',\n",
       " 'pink-collar',\n",
       " 'self-employed',\n",
       " 'entrepreneur']"
      ]
     },
     "execution_count": 223,
     "metadata": {},
     "output_type": "execute_result"
    }
   ],
   "source": [
    "df_raw.job.value_counts().index.tolist()"
   ]
  },
  {
   "cell_type": "code",
   "execution_count": 224,
   "metadata": {},
   "outputs": [
    {
     "name": "stdout",
     "output_type": "stream",
     "text": [
      "{'white-collar': 1, 'blue-collar': 2, 'technician': 3, 'other': 4, 'pink-collar': 5, 'self-employed': 6, 'entrepreneur': 7}\n"
     ]
    }
   ],
   "source": [
    "# create a function to encode the job based on the value_counts\n",
    "# ! we can use the value_counts to create a dictionary to encode the job\n",
    "# ! we use 1 to represent the most frequent job (white-collar)\n",
    "# ! But be careful with the numeric value, here does not mean anything, aka, 1 is not less than 2, they just labels.\n",
    "# ! We can use the job_to_int_dict to encode the job, or we can use the one-hot encoding method to extend the job into a binary vector with 7 values, where white-collar is  b100000, technician is b010000, etc.\n",
    "job_name_list_sorted = df_raw.job.value_counts().index.tolist()\n",
    "job_to_int_dict = {}\n",
    "for k, v in zip(job_name_list_sorted, range(1, len(job_name_list_sorted) + 1)):\n",
    "    job_to_int_dict[k] = v\n",
    "print(job_to_int_dict)\n",
    "\n",
    "def job_encoder(job):\n",
    "    job_to_int_dict = {'white-collar': 1, 'blue-collar': 2, 'technician': 3, 'other': 4, 'pink-collar': 5, 'self-employed': 6, 'entrepreneur': 7}\n",
    "    if job in job_to_int_dict:\n",
    "        return job_to_int_dict[job]\n",
    "    else:\n",
    "        return 1  # which is the most frequent job\n"
   ]
  },
  {
   "cell_type": "code",
   "execution_count": 225,
   "metadata": {},
   "outputs": [],
   "source": [
    "# Encoding the job\n",
    "df_data['job'] = df_data.apply(lambda x: job_encoder(x['job']), axis=1)"
   ]
  },
  {
   "cell_type": "markdown",
   "metadata": {},
   "source": [
    "#### marital\n",
    "marital is categorical, so we need to encode it."
   ]
  },
  {
   "cell_type": "code",
   "execution_count": 226,
   "metadata": {},
   "outputs": [
    {
     "data": {
      "text/plain": [
       "(married     2374\n",
       " single      1176\n",
       " divorced     442\n",
       " unknown        8\n",
       " Name: marital, dtype: Int64,\n",
       " 4000,\n",
       " <AxesSubplot:>)"
      ]
     },
     "execution_count": 226,
     "metadata": {},
     "output_type": "execute_result"
    },
    {
     "data": {
      "image/png": "[encoded data removed]",
      "text/plain": [
       "<Figure size 432x288 with 1 Axes>"
      ]
     },
     "metadata": {
      "needs_background": "light"
     },
     "output_type": "display_data"
    }
   ],
   "source": [
    "df_raw.marital.value_counts(), df_raw.marital.value_counts().sum(), df_raw.marital.value_counts().plot(kind='bar')"
   ]
  },
  {
   "cell_type": "code",
   "execution_count": 227,
   "metadata": {},
   "outputs": [],
   "source": [
    "marital_type_dict = {'married': 1, 'single': 2, 'divorced': 3, 'unknown': 4}\n",
    "df_data['marital'] = df_data.apply(lambda x: marital_type_dict[x['marital']], axis=1)\n",
    "# note if null set default to 4"
   ]
  },
  {
   "cell_type": "markdown",
   "metadata": {},
   "source": [
    "#### education  \n",
    "education is categorical, so we need to encode it."
   ]
  },
  {
   "cell_type": "code",
   "execution_count": 228,
   "metadata": {},
   "outputs": [
    {
     "data": {
      "text/plain": [
       "(bachelors           1274\n",
       " secondary           1114\n",
       " senior_secondary     908\n",
       " masters              524\n",
       " unknown              176\n",
       " illiterate             4\n",
       " Name: education, dtype: Int64,\n",
       " 4000,\n",
       " <StringArray>\n",
       " [       'bachelors',        'secondary', 'senior_secondary',\n",
       "           'masters',          'unknown',       'illiterate']\n",
       " Length: 6, dtype: string)"
      ]
     },
     "execution_count": 228,
     "metadata": {},
     "output_type": "execute_result"
    }
   ],
   "source": [
    "df_raw.education.value_counts(), df_raw.education.value_counts().sum(), df_raw.education.unique()"
   ]
  },
  {
   "cell_type": "code",
   "execution_count": 229,
   "metadata": {},
   "outputs": [
    {
     "data": {
      "text/plain": [
       "<AxesSubplot:>"
      ]
     },
     "execution_count": 229,
     "metadata": {},
     "output_type": "execute_result"
    },
    {
     "data": {
      "image/png": "[encoded data removed]",
      "text/plain": [
       "<Figure size 432x288 with 1 Axes>"
      ]
     },
     "metadata": {
      "needs_background": "light"
     },
     "output_type": "display_data"
    }
   ],
   "source": [
    "df_raw.education.value_counts().plot(kind='bar')"
   ]
  },
  {
   "cell_type": "code",
   "execution_count": 230,
   "metadata": {},
   "outputs": [
    {
     "name": "stdout",
     "output_type": "stream",
     "text": [
      "{'bachelors': 1, 'secondary': 2, 'senior_secondary': 3, 'masters': 4, 'unknown': 5, 'illiterate': 6}\n"
     ]
    }
   ],
   "source": [
    "education_name_list_sorted = df_raw.education.value_counts().sort_values(\n",
    "    ascending=False).index.tolist()\n",
    "\n",
    "education_to_int_dict = {}\n",
    "for k, v in zip(education_name_list_sorted,\n",
    "                range(1,\n",
    "                      len(education_name_list_sorted) + 1)):\n",
    "    education_to_int_dict[k] = v\n",
    "# education_to_int_dict['unknown']= None\n",
    "print(education_to_int_dict)"
   ]
  },
  {
   "cell_type": "code",
   "execution_count": 231,
   "metadata": {},
   "outputs": [],
   "source": [
    "education_to_int_dict =  {'bachelors': 1, 'secondary': 2, 'senior_secondary': 3, 'masters': 4, 'unknown': 5, 'illiterate': 6}\n",
    "\n",
    "df_data['education'] = df_data.apply(lambda x: education_to_int_dict[x['education']], axis=1)\n",
    "\n",
    "# if null set default to 5 unknown"
   ]
  },
  {
   "cell_type": "markdown",
   "metadata": {},
   "source": [
    "#### has_housing_loan \n",
    "has_housing_loan is categorical, so we need to encode it."
   ]
  },
  {
   "cell_type": "code",
   "execution_count": 232,
   "metadata": {},
   "outputs": [
    {
     "data": {
      "text/plain": [
       "(<StringArray>\n",
       " ['yes', 'no', 'unknown']\n",
       " Length: 3, dtype: string,\n",
       " yes        2115\n",
       " no         1793\n",
       " unknown      92\n",
       " Name: has_housing_loan, dtype: Int64,\n",
       " 4000,\n",
       " <AxesSubplot:>)"
      ]
     },
     "execution_count": 232,
     "metadata": {},
     "output_type": "execute_result"
    },
    {
     "data": {
      "image/png": "[encoded data removed]",
      "text/plain": [
       "<Figure size 432x288 with 1 Axes>"
      ]
     },
     "metadata": {
      "needs_background": "light"
     },
     "output_type": "display_data"
    }
   ],
   "source": [
    "df_raw.has_housing_loan.unique(), df_raw.has_housing_loan.value_counts(), df_raw.has_housing_loan.value_counts().sum(), df_raw.has_housing_loan.value_counts().plot(kind='bar')"
   ]
  },
  {
   "cell_type": "code",
   "execution_count": 233,
   "metadata": {},
   "outputs": [],
   "source": [
    "loan_type_dict = {'no': 0, 'yes': 1,  'unknown': 2}\n",
    "\n",
    "df_data['has_housing_loan'] = df_data.apply(lambda x: loan_type_dict[x['has_housing_loan']], axis=1)\n",
    "# if null set default to 2 unknown"
   ]
  },
  {
   "cell_type": "markdown",
   "metadata": {},
   "source": [
    "#### has_personal_loan\n",
    "has_personal_loan is categorical, so we need to encode it."
   ]
  },
  {
   "cell_type": "code",
   "execution_count": 234,
   "metadata": {},
   "outputs": [
    {
     "data": {
      "text/plain": [
       "(<StringArray>\n",
       " ['no', 'yes', 'unknown']\n",
       " Length: 3, dtype: string,\n",
       " no         3335\n",
       " yes         573\n",
       " unknown      92\n",
       " Name: has_personal_loan, dtype: Int64,\n",
       " <AxesSubplot:>)"
      ]
     },
     "execution_count": 234,
     "metadata": {},
     "output_type": "execute_result"
    },
    {
     "data": {
      "image/png": "[encoded data removed]",
      "text/plain": [
       "<Figure size 432x288 with 1 Axes>"
      ]
     },
     "metadata": {
      "needs_background": "light"
     },
     "output_type": "display_data"
    }
   ],
   "source": [
    "df_raw.has_personal_loan.unique(), df_raw.has_personal_loan.value_counts(\n",
    "), df_raw.has_personal_loan.value_counts().plot(kind='bar')\n"
   ]
  },
  {
   "cell_type": "code",
   "execution_count": 235,
   "metadata": {},
   "outputs": [],
   "source": [
    "loan_type_dict = {'no': 0, 'yes': 1,  'unknown': 2}\n",
    "df_data['has_personal_loan'] = df_data.apply(lambda x: loan_type_dict[x['has_personal_loan']], axis=1)\n",
    "# if null set default to 2 unknown"
   ]
  },
  {
   "cell_type": "markdown",
   "metadata": {},
   "source": [
    "#### poutcome\n",
    "poutcome is categorical, so we need to encode it."
   ]
  },
  {
   "cell_type": "code",
   "execution_count": 236,
   "metadata": {},
   "outputs": [
    {
     "data": {
      "text/plain": [
       "(<StringArray>\n",
       " ['success', 'nonexistent', 'failure']\n",
       " Length: 3, dtype: string,\n",
       " nonexistent    3219\n",
       " failure         419\n",
       " success         362\n",
       " Name: poutcome, dtype: Int64,\n",
       " 4000,\n",
       " <AxesSubplot:>)"
      ]
     },
     "execution_count": 236,
     "metadata": {},
     "output_type": "execute_result"
    },
    {
     "data": {
      "image/png": "[encoded data removed]",
      "text/plain": [
       "<Figure size 432x288 with 1 Axes>"
      ]
     },
     "metadata": {
      "needs_background": "light"
     },
     "output_type": "display_data"
    }
   ],
   "source": [
    "df_raw.poutcome.unique(), df_raw.poutcome.value_counts(), df_raw.poutcome.value_counts().sum(), df_raw.poutcome.value_counts().plot(kind='bar')"
   ]
  },
  {
   "cell_type": "code",
   "execution_count": 237,
   "metadata": {},
   "outputs": [],
   "source": [
    "poutcome_type_dict = {'success': 1, 'failure': 0, 'nonexistent': 2}\n",
    "df_data['poutcome'] = df_data.apply(lambda x: poutcome_type_dict[x['poutcome']], axis=1)\n",
    "# if null set default to 2 nonexistent"
   ]
  },
  {
   "cell_type": "markdown",
   "metadata": {},
   "source": [
    "Now, all the categorical features are encoded, and the rest are numeric except the date feature."
   ]
  },
  {
   "cell_type": "code",
   "execution_count": 238,
   "metadata": {},
   "outputs": [
    {
     "data": {
      "image/png": "[encoded data removed]",
      "text/plain": [
       "<Figure size 1080x504 with 2 Axes>"
      ]
     },
     "metadata": {
      "needs_background": "light"
     },
     "output_type": "display_data"
    }
   ],
   "source": [
    "import missingno as msno\n",
    "ax = msno.matrix(df_data, figsize=(15,7))\n",
    "# msno.bar(df_data)\n",
    "\n",
    "## There is no missing values."
   ]
  },
  {
   "cell_type": "markdown",
   "metadata": {},
   "source": [
    "#### subs_deposit (Target Label)\n",
    "\n",
    "Target Label is already in the right format."
   ]
  },
  {
   "cell_type": "code",
   "execution_count": 239,
   "metadata": {},
   "outputs": [
    {
     "data": {
      "text/plain": [
       "(0    2410\n",
       " 1    1590\n",
       " Name: subs_deposit, dtype: int64,\n",
       " 4000,\n",
       " <AxesSubplot:>)"
      ]
     },
     "execution_count": 239,
     "metadata": {},
     "output_type": "execute_result"
    },
    {
     "data": {
      "image/png": "[encoded data removed]",
      "text/plain": [
       "<Figure size 432x288 with 1 Axes>"
      ]
     },
     "metadata": {
      "needs_background": "light"
     },
     "output_type": "display_data"
    }
   ],
   "source": [
    "df_raw.subs_deposit.value_counts(), df_raw.subs_deposit.value_counts().sum(), df_raw.subs_deposit.value_counts().plot(kind='bar')"
   ]
  },
  {
   "cell_type": "code",
   "execution_count": 240,
   "metadata": {},
   "outputs": [],
   "source": [
    "# for better visualization, we can convert the 1 to 'yes' and 'o' to 'no'."
   ]
  },
  {
   "cell_type": "markdown",
   "metadata": {},
   "source": [
    "### 04.2: Datetime Features"
   ]
  },
  {
   "cell_type": "markdown",
   "metadata": {},
   "source": [
    "#### contact_date\n",
    "\n",
    "Time is very important which can affect people's decision making due to other factors, such as holiday, news, weather, etc.\n",
    "\n",
    "There are 50 unique date in the contact_date feature.\n",
    "\n",
    "All is 2018. Thus the month and day are useful or informative.\n",
    "\n",
    "If we can tell which month/week/day people want to save or spend money, this is a good feature."
   ]
  },
  {
   "cell_type": "code",
   "execution_count": 241,
   "metadata": {},
   "outputs": [
    {
     "data": {
      "text/plain": [
       "4000"
      ]
     },
     "execution_count": 241,
     "metadata": {},
     "output_type": "execute_result"
    }
   ],
   "source": [
    "df_raw.sort_values(by='contact_date').contact_date.value_counts().sum()"
   ]
  },
  {
   "cell_type": "code",
   "execution_count": 242,
   "metadata": {},
   "outputs": [
    {
     "name": "stdout",
     "output_type": "stream",
     "text": [
      "50\n"
     ]
    },
    {
     "data": {
      "image/png": "[encoded data removed]",
      "text/plain": [
       "<Figure size 1440x360 with 1 Axes>"
      ]
     },
     "metadata": {
      "needs_background": "light"
     },
     "output_type": "display_data"
    }
   ],
   "source": [
    "print(len(df_raw.contact_date.unique()))\n",
    "# ax = df_raw.contact_date.value_counts().sort_values().plot(kind='bar', figsize=(20,5), rot=45)\n",
    "ax = df_raw.sort_values(by='contact_date').contact_date.value_counts().plot(kind='bar', figsize=(20,5), rot=45)"
   ]
  },
  {
   "cell_type": "code",
   "execution_count": 243,
   "metadata": {},
   "outputs": [],
   "source": [
    "# df_data.contact_date.dt.isocalendar().week # check python > 3.7"
   ]
  },
  {
   "cell_type": "code",
   "execution_count": 244,
   "metadata": {},
   "outputs": [],
   "source": [
    "# we extend the data YYYY-MM-DD to to two features, month, weekday, and day\n",
    "df_data['contact_month'] = df_data.contact_date.dt.month\n",
    "df_data['contact_day'] = df_data.contact_date.dt.day\n",
    "# we could also find the more granular features, like week and weekday\n",
    "df_data['contact_week'] = df_data.contact_date.dt.isocalendar().week  # week of the year similar to the month but with more granularity\n",
    "# we also care about people's mode on different days, for example, people who contacted on sunday, monday, tuesday, etc.\n",
    "df_data['contact_weekday'] = df_data.contact_date.dt.weekday + 1 # weekday of the week, 1 is Monday, 7 is Sunday"
   ]
  },
  {
   "cell_type": "code",
   "execution_count": 245,
   "metadata": {},
   "outputs": [
    {
     "data": {
      "text/plain": [
       "2018    4000\n",
       "Name: contact_date, dtype: int64"
      ]
     },
     "execution_count": 245,
     "metadata": {},
     "output_type": "execute_result"
    }
   ],
   "source": [
    "df_data.contact_date.dt.year.value_counts()\n",
    "# all the year feature is 2018"
   ]
  },
  {
   "cell_type": "code",
   "execution_count": 246,
   "metadata": {},
   "outputs": [
    {
     "data": {
      "text/plain": [
       "5     1127\n",
       "7      656\n",
       "8      599\n",
       "6      513\n",
       "11     396\n",
       "4      325\n",
       "10     141\n",
       "3      110\n",
       "9      102\n",
       "12      31\n",
       "Name: contact_day, dtype: int64"
      ]
     },
     "execution_count": 246,
     "metadata": {},
     "output_type": "execute_result"
    }
   ],
   "source": [
    "df_data.contact_day.value_counts()"
   ]
  },
  {
   "cell_type": "code",
   "execution_count": 247,
   "metadata": {},
   "outputs": [
    {
     "data": {
      "text/plain": [
       "2    719\n",
       "4    599\n",
       "1    587\n",
       "7    546\n",
       "5    528\n",
       "6    513\n",
       "3    508\n",
       "Name: contact_month, dtype: int64"
      ]
     },
     "execution_count": 247,
     "metadata": {},
     "output_type": "execute_result"
    }
   ],
   "source": [
    "df_data.contact_month.value_counts()\n",
    "# only Jan to July is in dataset"
   ]
  },
  {
   "cell_type": "code",
   "execution_count": 248,
   "metadata": {},
   "outputs": [
    {
     "data": {
      "text/plain": [
       "1    938\n",
       "4    917\n",
       "5    775\n",
       "3    531\n",
       "7    434\n",
       "6    345\n",
       "2     60\n",
       "Name: contact_weekday, dtype: int64"
      ]
     },
     "execution_count": 248,
     "metadata": {},
     "output_type": "execute_result"
    }
   ],
   "source": [
    "df_data.contact_weekday.value_counts()\n",
    "# all the weekday from Monday to Sunday are in dataset, this is great feature."
   ]
  },
  {
   "cell_type": "code",
   "execution_count": 249,
   "metadata": {},
   "outputs": [
    {
     "name": "stdout",
     "output_type": "stream",
     "text": [
      "<class 'pandas.core.frame.DataFrame'>\n",
      "Index: 4000 entries, 41020 to 40631\n",
      "Data columns (total 17 columns):\n",
      " #   Column                Non-Null Count  Dtype         \n",
      "---  ------                --------------  -----         \n",
      " 0   age_bracket           4000 non-null   int64         \n",
      " 1   job                   4000 non-null   int64         \n",
      " 2   marital               4000 non-null   int64         \n",
      " 3   education             4000 non-null   int64         \n",
      " 4   has_housing_loan      4000 non-null   int64         \n",
      " 5   has_personal_loan     4000 non-null   int64         \n",
      " 6   prev_call_duration    4000 non-null   int64         \n",
      " 7   days_since_last_call  4000 non-null   int64         \n",
      " 8   num_contacts_prev     4000 non-null   int64         \n",
      " 9   poutcome              4000 non-null   int64         \n",
      " 10  contact_date          4000 non-null   datetime64[ns]\n",
      " 11  cpi                   4000 non-null   float64       \n",
      " 12  subs_deposit          4000 non-null   int64         \n",
      " 13  contact_month         4000 non-null   int64         \n",
      " 14  contact_day           4000 non-null   int64         \n",
      " 15  contact_week          4000 non-null   UInt32        \n",
      " 16  contact_weekday       4000 non-null   int64         \n",
      "dtypes: UInt32(1), datetime64[ns](1), float64(1), int64(14)\n",
      "memory usage: 550.8 KB\n"
     ]
    }
   ],
   "source": [
    "df_data.info()"
   ]
  },
  {
   "cell_type": "markdown",
   "metadata": {},
   "source": [
    "### 04.3: Numeric Features"
   ]
  },
  {
   "cell_type": "markdown",
   "metadata": {},
   "source": [
    "#### prev_call_duration\n"
   ]
  },
  {
   "cell_type": "code",
   "execution_count": 250,
   "metadata": {},
   "outputs": [
    {
     "data": {
      "text/plain": [
       "count      4000.000000\n",
       "mean       3871.142250\n",
       "std       26080.549053\n",
       "min           2.000000\n",
       "25%         131.000000\n",
       "50%         237.000000\n",
       "75%         461.000000\n",
       "max      419900.000000\n",
       "Name: prev_call_duration, dtype: float64"
      ]
     },
     "execution_count": 250,
     "metadata": {},
     "output_type": "execute_result"
    }
   ],
   "source": [
    "df_raw.prev_call_duration.describe()"
   ]
  },
  {
   "cell_type": "markdown",
   "metadata": {},
   "source": [
    "<font color='red'>The prev_call_duration mean value (3871.142250) is far away from the median value (237.). There may be outlier in this feature.</font>"
   ]
  },
  {
   "cell_type": "code",
   "execution_count": 251,
   "metadata": {},
   "outputs": [
    {
     "data": {
      "text/plain": [
       "(7.683333333333334, 27.77777777777778, 100, 0.0, 4.859953703703703)"
      ]
     },
     "execution_count": 251,
     "metadata": {},
     "output_type": "execute_result"
    }
   ],
   "source": [
    "461 / 60, 100000 / 60 / 60, 100,000 / 60 / 60 / 24, 419900 / 60 / 60 / 24"
   ]
  },
  {
   "cell_type": "markdown",
   "metadata": {},
   "source": [
    "Take the 75% quantile 461 seconds, which is about 7~8 mins. \n",
    "\n",
    "100000 seconds is about 1.15 day ( 27 hours)\n",
    "\n",
    "419900 seconds is about 5 days. Nobody will do this."
   ]
  },
  {
   "cell_type": "code",
   "execution_count": 252,
   "metadata": {},
   "outputs": [
    {
     "name": "stdout",
     "output_type": "stream",
     "text": [
      " upper_bound: 956.0\n"
     ]
    }
   ],
   "source": [
    "# check the upper bound\n",
    "q1 = df_raw.prev_call_duration.quantile(0.25)\n",
    "q3 = df_raw.prev_call_duration.quantile(0.75)\n",
    "iqr = q3 - q1\n",
    "# lower_bound = q1 -(1.5 * iqr)\n",
    "upper_bound = q3 +(1.5 * iqr)\n",
    "\n",
    "print(f' upper_bound: {upper_bound}')"
   ]
  },
  {
   "cell_type": "code",
   "execution_count": 15,
   "metadata": {},
   "outputs": [
    {
     "data": {
      "text/plain": [
       "(15.933333333333334, 23.333333333333332, 33.333333333333336)"
      ]
     },
     "execution_count": 15,
     "metadata": {},
     "output_type": "execute_result"
    }
   ],
   "source": [
    "956.0/60, 1400/60, 120000/60/60\n",
    "# df_raw[df_raw.prev_call_duration < 1400].client_id.count() / 4000\n",
    "# df_raw[df_raw.prev_call_duration < upper_bound].client_id.count() / 4000\n",
    "# df_raw[df_raw.prev_call_duration >= 120000].client_id.count() / 4000"
   ]
  },
  {
   "cell_type": "code",
   "execution_count": 254,
   "metadata": {},
   "outputs": [
    {
     "data": {
      "image/png": "[encoded data removed]",
      "text/plain": [
       "<Figure size 1440x360 with 3 Axes>"
      ]
     },
     "metadata": {
      "needs_background": "light"
     },
     "output_type": "display_data"
    }
   ],
   "source": [
    "import matplotlib.pyplot as plt\n",
    "plt.figure(figsize=(20,5))\n",
    "plt.subplot(1,3,1)\n",
    "df_raw.boxplot(column='prev_call_duration')\n",
    "plt.subplot(1,3,2)\n",
    "df_raw[df_raw.prev_call_duration < 120000].boxplot(column='prev_call_duration')\n",
    "plt.subplot(1,3,3)\n",
    "df_raw[df_raw.prev_call_duration < upper_bound].boxplot(\n",
    "    column='prev_call_duration')\n",
    "plt.show()\n"
   ]
  },
  {
   "cell_type": "markdown",
   "metadata": {},
   "source": [
    "Base on observation, there are too many outliers in this feature.\n",
    "\n",
    "700 seconds is about 12 mins, which is a reasonable value.\n",
    "\n",
    "Even, 1400 seconds is about 24 mins, which is also a reasonable value.\n",
    "\n",
    "But, >100,000 seconds is not reasonable value.\n",
    "\n",
    "We may consider to drop this feature.\n",
    "\n",
    "**Note**: I guess these >100,000 seconds records is 100 times larger than its real value. We find 79 records of this feature."
   ]
  },
  {
   "cell_type": "code",
   "execution_count": 19,
   "metadata": {},
   "outputs": [
    {
     "data": {
      "text/html": [
       "<div>\n",
       "<style scoped>\n",
       "    .dataframe tbody tr th:only-of-type {\n",
       "        vertical-align: middle;\n",
       "    }\n",
       "\n",
       "    .dataframe tbody tr th {\n",
       "        vertical-align: top;\n",
       "    }\n",
       "\n",
       "    .dataframe thead th {\n",
       "        text-align: right;\n",
       "    }\n",
       "</style>\n",
       "<table border=\"1\" class=\"dataframe\">\n",
       "  <thead>\n",
       "    <tr style=\"text-align: right;\">\n",
       "      <th></th>\n",
       "      <th>client_id</th>\n",
       "      <th>prev_call_duration</th>\n",
       "    </tr>\n",
       "  </thead>\n",
       "  <tbody>\n",
       "    <tr>\n",
       "      <th>212</th>\n",
       "      <td>21043</td>\n",
       "      <td>180600</td>\n",
       "    </tr>\n",
       "    <tr>\n",
       "      <th>232</th>\n",
       "      <td>32587</td>\n",
       "      <td>201600</td>\n",
       "    </tr>\n",
       "    <tr>\n",
       "      <th>304</th>\n",
       "      <td>15319</td>\n",
       "      <td>136300</td>\n",
       "    </tr>\n",
       "    <tr>\n",
       "      <th>430</th>\n",
       "      <td>39522</td>\n",
       "      <td>292600</td>\n",
       "    </tr>\n",
       "    <tr>\n",
       "      <th>445</th>\n",
       "      <td>34858</td>\n",
       "      <td>155400</td>\n",
       "    </tr>\n",
       "    <tr>\n",
       "      <th>...</th>\n",
       "      <td>...</td>\n",
       "      <td>...</td>\n",
       "    </tr>\n",
       "    <tr>\n",
       "      <th>3753</th>\n",
       "      <td>1700</td>\n",
       "      <td>151400</td>\n",
       "    </tr>\n",
       "    <tr>\n",
       "      <th>3756</th>\n",
       "      <td>33444</td>\n",
       "      <td>246200</td>\n",
       "    </tr>\n",
       "    <tr>\n",
       "      <th>3827</th>\n",
       "      <td>30674</td>\n",
       "      <td>419900</td>\n",
       "    </tr>\n",
       "    <tr>\n",
       "      <th>3877</th>\n",
       "      <td>22719</td>\n",
       "      <td>139000</td>\n",
       "    </tr>\n",
       "    <tr>\n",
       "      <th>3969</th>\n",
       "      <td>2426</td>\n",
       "      <td>143400</td>\n",
       "    </tr>\n",
       "  </tbody>\n",
       "</table>\n",
       "<p>79 rows × 2 columns</p>\n",
       "</div>"
      ],
      "text/plain": [
       "     client_id  prev_call_duration\n",
       "212      21043              180600\n",
       "232      32587              201600\n",
       "304      15319              136300\n",
       "430      39522              292600\n",
       "445      34858              155400\n",
       "...        ...                 ...\n",
       "3753      1700              151400\n",
       "3756     33444              246200\n",
       "3827     30674              419900\n",
       "3877     22719              139000\n",
       "3969      2426              143400\n",
       "\n",
       "[79 rows x 2 columns]"
      ]
     },
     "execution_count": 19,
     "metadata": {},
     "output_type": "execute_result"
    }
   ],
   "source": [
    "temp = df_raw[df_raw.prev_call_duration>120000]\n",
    "temp[['client_id', 'prev_call_duration']] "
   ]
  },
  {
   "cell_type": "code",
   "execution_count": 256,
   "metadata": {},
   "outputs": [],
   "source": [
    "temp.to_csv('../reports/client_with_very_long_call_duration.csv', index=False)"
   ]
  },
  {
   "cell_type": "code",
   "execution_count": 257,
   "metadata": {},
   "outputs": [
    {
     "data": {
      "text/plain": [
       "(33.333333333333336, 20.0, 70.0)"
      ]
     },
     "execution_count": 257,
     "metadata": {},
     "output_type": "execute_result"
    }
   ],
   "source": [
    "# hours to miniutes\n",
    "120000/60/60, 1200/60, 4200/60"
   ]
  },
  {
   "cell_type": "code",
   "execution_count": 258,
   "metadata": {},
   "outputs": [
    {
     "data": {
      "image/png": "[encoded data removed]",
      "text/plain": [
       "<Figure size 432x288 with 1 Axes>"
      ]
     },
     "metadata": {
      "needs_background": "light"
     },
     "output_type": "display_data"
    }
   ],
   "source": [
    "# we can revisit this change, now I choose to set these values to x/100.\n",
    "df_data.prev_call_duration = df_data.prev_call_duration.apply(lambda x: x/100 if x > 120000 else x)\n",
    "## or \n",
    "# df_data.prev_call_duration = df_data.prev_call_duration.apply(lambda x: None if x > 120000 else x)\n",
    "\n",
    "# check the upper bound\n",
    "df_data.prev_call_duration = df_data.prev_call_duration.apply(lambda x: x if x < 4200 else 4200)\n",
    "ax = df_data.boxplot(column='prev_call_duration')\n",
    "\n",
    "\n",
    "# 4200/60 is about 70 mins."
   ]
  },
  {
   "cell_type": "code",
   "execution_count": 259,
   "metadata": {},
   "outputs": [
    {
     "data": {
      "text/plain": [
       "count    4000.000000\n",
       "mean      354.315750\n",
       "std       348.448736\n",
       "min         2.000000\n",
       "25%       131.000000\n",
       "50%       237.000000\n",
       "75%       461.000000\n",
       "max      4199.000000\n",
       "Name: prev_call_duration, dtype: float64"
      ]
     },
     "execution_count": 259,
     "metadata": {},
     "output_type": "execute_result"
    }
   ],
   "source": [
    "df_data.prev_call_duration.describe()"
   ]
  },
  {
   "cell_type": "markdown",
   "metadata": {},
   "source": [
    "#### days_since_last_call"
   ]
  },
  {
   "cell_type": "code",
   "execution_count": 260,
   "metadata": {},
   "outputs": [
    {
     "data": {
      "text/plain": [
       "(array([  3,   6, 999,   7,  12,   8,  10,   4,  14,   2,   9,   5,  13,\n",
       "         11,   0,   1,  27,  26,  17,  15,  18,  16,  22,  25]),\n",
       " 4000,\n",
       " <AxesSubplot:>)"
      ]
     },
     "execution_count": 260,
     "metadata": {},
     "output_type": "execute_result"
    },
    {
     "data": {
      "image/png": "[encoded data removed]",
      "text/plain": [
       "<Figure size 432x288 with 1 Axes>"
      ]
     },
     "metadata": {
      "needs_background": "light"
     },
     "output_type": "display_data"
    }
   ],
   "source": [
    "df_raw.days_since_last_call.unique(),df_raw.days_since_last_call.value_counts().sum(), df_raw.days_since_last_call.value_counts().plot(kind='bar') "
   ]
  },
  {
   "cell_type": "code",
   "execution_count": 261,
   "metadata": {},
   "outputs": [
    {
     "data": {
      "text/plain": [
       "count    4000.000000\n",
       "mean      903.150750\n",
       "std       293.323535\n",
       "min         0.000000\n",
       "25%       999.000000\n",
       "50%       999.000000\n",
       "75%       999.000000\n",
       "max       999.000000\n",
       "Name: days_since_last_call, dtype: float64"
      ]
     },
     "execution_count": 261,
     "metadata": {},
     "output_type": "execute_result"
    }
   ],
   "source": [
    "df_raw.days_since_last_call.describe()"
   ]
  },
  {
   "cell_type": "markdown",
   "metadata": {},
   "source": [
    "We see most days_since_last_call is within 30 days. And the 999 used as a placeholder is not a good value."
   ]
  },
  {
   "cell_type": "code",
   "execution_count": 262,
   "metadata": {},
   "outputs": [
    {
     "name": "stdout",
     "output_type": "stream",
     "text": [
      " upper_bound: 999.0\n"
     ]
    },
    {
     "data": {
      "image/png": "[encoded data removed]",
      "text/plain": [
       "<Figure size 1440x360 with 3 Axes>"
      ]
     },
     "metadata": {
      "needs_background": "light"
     },
     "output_type": "display_data"
    }
   ],
   "source": [
    "import matplotlib.pyplot as plt\n",
    "plt.figure(figsize=(20,5))\n",
    "plt.subplot(1, 3, 1)\n",
    "df_raw.boxplot(column='days_since_last_call')\n",
    "plt.subplot(1, 3, 2)\n",
    "df_raw[df_raw.days_since_last_call < 999].boxplot(\n",
    "    column='days_since_last_call')\n",
    "q1 = df_raw.days_since_last_call.quantile(0.25)\n",
    "q3 = df_raw.days_since_last_call.quantile(0.75)\n",
    "iqr = q3 - q1\n",
    "# lower_bound = q1 -(1.5 * iqr)\n",
    "upper_bound = q3 +(1.5 * iqr)\n",
    "print(f' upper_bound: {upper_bound}')\n",
    "plt.subplot(1, 3, 3)\n",
    "df_raw[df_raw.days_since_last_call < upper_bound].boxplot(\n",
    "    column='days_since_last_call')\n",
    "plt.show()"
   ]
  },
  {
   "cell_type": "code",
   "execution_count": 263,
   "metadata": {},
   "outputs": [
    {
     "data": {
      "image/png": "[encoded data removed]",
      "text/plain": [
       "<Figure size 432x288 with 1 Axes>"
      ]
     },
     "metadata": {
      "needs_background": "light"
     },
     "output_type": "display_data"
    }
   ],
   "source": [
    "ax = df_raw[df_raw.days_since_last_call < 999].hist(\n",
    "    column='days_since_last_call')"
   ]
  },
  {
   "cell_type": "code",
   "execution_count": 264,
   "metadata": {},
   "outputs": [],
   "source": [
    "# -1 means never called, this feature maybe dropped\n",
    "# we replace 999 with -1\n",
    "df_data.days_since_last_call = df_data.days_since_last_call.apply(lambda x: -1 if x == 999 else x)"
   ]
  },
  {
   "cell_type": "code",
   "execution_count": 265,
   "metadata": {},
   "outputs": [
    {
     "data": {
      "image/png": "[encoded data removed]",
      "text/plain": [
       "<Figure size 432x288 with 1 Axes>"
      ]
     },
     "metadata": {
      "needs_background": "light"
     },
     "output_type": "display_data"
    }
   ],
   "source": [
    "ax = df_data.hist(column='days_since_last_call')"
   ]
  },
  {
   "cell_type": "code",
   "execution_count": 266,
   "metadata": {},
   "outputs": [],
   "source": [
    "# df_data.days_since_last_call.value_counts().plot(kind='bar')"
   ]
  },
  {
   "cell_type": "code",
   "execution_count": 267,
   "metadata": {},
   "outputs": [
    {
     "data": {
      "image/png": "[encoded data removed]",
      "text/plain": [
       "<Figure size 1080x504 with 2 Axes>"
      ]
     },
     "metadata": {
      "needs_background": "light"
     },
     "output_type": "display_data"
    }
   ],
   "source": [
    "ax = msno.matrix(df_data, figsize=(15,7))"
   ]
  },
  {
   "cell_type": "markdown",
   "metadata": {},
   "source": [
    "#### num_contacts_prev\n",
    "\n",
    "num_contacts_prev is the number of contacts in the previous call."
   ]
  },
  {
   "cell_type": "code",
   "execution_count": 268,
   "metadata": {},
   "outputs": [
    {
     "data": {
      "text/plain": [
       "(array([1, 2, 0, 5, 3, 6, 4]),\n",
       " 0    3219\n",
       " 1     567\n",
       " 2     144\n",
       " 3      54\n",
       " 4      10\n",
       " 5       5\n",
       " 6       1\n",
       " Name: num_contacts_prev, dtype: int64,\n",
       " 4000,\n",
       " <AxesSubplot:>)"
      ]
     },
     "execution_count": 268,
     "metadata": {},
     "output_type": "execute_result"
    },
    {
     "data": {
      "image/png": "[encoded data removed]",
      "text/plain": [
       "<Figure size 432x288 with 1 Axes>"
      ]
     },
     "metadata": {
      "needs_background": "light"
     },
     "output_type": "display_data"
    }
   ],
   "source": [
    "df_raw.num_contacts_prev.unique(), df_raw.num_contacts_prev.value_counts(), df_raw.num_contacts_prev.value_counts().sum(), df_raw.num_contacts_prev.value_counts().plot(kind='bar')"
   ]
  },
  {
   "cell_type": "code",
   "execution_count": 269,
   "metadata": {},
   "outputs": [
    {
     "data": {
      "text/html": [
       "<div>\n",
       "<style scoped>\n",
       "    .dataframe tbody tr th:only-of-type {\n",
       "        vertical-align: middle;\n",
       "    }\n",
       "\n",
       "    .dataframe tbody tr th {\n",
       "        vertical-align: top;\n",
       "    }\n",
       "\n",
       "    .dataframe thead th {\n",
       "        text-align: right;\n",
       "    }\n",
       "</style>\n",
       "<table border=\"1\" class=\"dataframe\">\n",
       "  <thead>\n",
       "    <tr style=\"text-align: right;\">\n",
       "      <th></th>\n",
       "      <th>client_id</th>\n",
       "      <th>age_bracket</th>\n",
       "      <th>job</th>\n",
       "      <th>marital</th>\n",
       "      <th>education</th>\n",
       "      <th>has_housing_loan</th>\n",
       "      <th>has_personal_loan</th>\n",
       "      <th>prev_call_duration</th>\n",
       "      <th>days_since_last_call</th>\n",
       "      <th>num_contacts_prev</th>\n",
       "      <th>poutcome</th>\n",
       "      <th>contact_date</th>\n",
       "      <th>cpi</th>\n",
       "      <th>subs_deposit</th>\n",
       "    </tr>\n",
       "  </thead>\n",
       "  <tbody>\n",
       "    <tr>\n",
       "      <th>188</th>\n",
       "      <td>31333</td>\n",
       "      <td>41-60</td>\n",
       "      <td>white-collar</td>\n",
       "      <td>divorced</td>\n",
       "      <td>bachelors</td>\n",
       "      <td>no</td>\n",
       "      <td>no</td>\n",
       "      <td>172</td>\n",
       "      <td>3</td>\n",
       "      <td>6</td>\n",
       "      <td>success</td>\n",
       "      <td>2018-02-08</td>\n",
       "      <td>94.027</td>\n",
       "      <td>1</td>\n",
       "    </tr>\n",
       "  </tbody>\n",
       "</table>\n",
       "</div>"
      ],
      "text/plain": [
       "    client_id age_bracket           job   marital  education has_housing_loan  \\\n",
       "188     31333       41-60  white-collar  divorced  bachelors               no   \n",
       "\n",
       "    has_personal_loan  prev_call_duration  days_since_last_call  \\\n",
       "188                no                 172                     3   \n",
       "\n",
       "     num_contacts_prev poutcome contact_date     cpi  subs_deposit  \n",
       "188                  6  success   2018-02-08  94.027             1  "
      ]
     },
     "execution_count": 269,
     "metadata": {},
     "output_type": "execute_result"
    }
   ],
   "source": [
    "df_raw[df_raw.num_contacts_prev == 6]"
   ]
  },
  {
   "cell_type": "markdown",
   "metadata": {},
   "source": [
    "There is only one client with num_contacts_prev = 6 and the results is sucessful."
   ]
  },
  {
   "cell_type": "code",
   "execution_count": 270,
   "metadata": {},
   "outputs": [
    {
     "data": {
      "text/html": [
       "<div>\n",
       "<style scoped>\n",
       "    .dataframe tbody tr th:only-of-type {\n",
       "        vertical-align: middle;\n",
       "    }\n",
       "\n",
       "    .dataframe tbody tr th {\n",
       "        vertical-align: top;\n",
       "    }\n",
       "\n",
       "    .dataframe thead th {\n",
       "        text-align: right;\n",
       "    }\n",
       "</style>\n",
       "<table border=\"1\" class=\"dataframe\">\n",
       "  <thead>\n",
       "    <tr style=\"text-align: right;\">\n",
       "      <th></th>\n",
       "      <th>num_contacts_prev</th>\n",
       "      <th>cumsum_num_contacts_prev</th>\n",
       "      <th>ratio</th>\n",
       "    </tr>\n",
       "  </thead>\n",
       "  <tbody>\n",
       "    <tr>\n",
       "      <th>0</th>\n",
       "      <td>3219</td>\n",
       "      <td>3219</td>\n",
       "      <td>0.80475</td>\n",
       "    </tr>\n",
       "    <tr>\n",
       "      <th>1</th>\n",
       "      <td>567</td>\n",
       "      <td>3786</td>\n",
       "      <td>0.94650</td>\n",
       "    </tr>\n",
       "    <tr>\n",
       "      <th>2</th>\n",
       "      <td>144</td>\n",
       "      <td>3930</td>\n",
       "      <td>0.98250</td>\n",
       "    </tr>\n",
       "    <tr>\n",
       "      <th>3</th>\n",
       "      <td>54</td>\n",
       "      <td>3984</td>\n",
       "      <td>0.99600</td>\n",
       "    </tr>\n",
       "    <tr>\n",
       "      <th>4</th>\n",
       "      <td>10</td>\n",
       "      <td>3994</td>\n",
       "      <td>0.99850</td>\n",
       "    </tr>\n",
       "    <tr>\n",
       "      <th>5</th>\n",
       "      <td>5</td>\n",
       "      <td>3999</td>\n",
       "      <td>0.99975</td>\n",
       "    </tr>\n",
       "    <tr>\n",
       "      <th>6</th>\n",
       "      <td>1</td>\n",
       "      <td>4000</td>\n",
       "      <td>1.00000</td>\n",
       "    </tr>\n",
       "  </tbody>\n",
       "</table>\n",
       "</div>"
      ],
      "text/plain": [
       "   num_contacts_prev  cumsum_num_contacts_prev    ratio\n",
       "0               3219                      3219  0.80475\n",
       "1                567                      3786  0.94650\n",
       "2                144                      3930  0.98250\n",
       "3                 54                      3984  0.99600\n",
       "4                 10                      3994  0.99850\n",
       "5                  5                      3999  0.99975\n",
       "6                  1                      4000  1.00000"
      ]
     },
     "execution_count": 270,
     "metadata": {},
     "output_type": "execute_result"
    }
   ],
   "source": [
    "df_phonecall_analysis = df_raw.copy()\n",
    "df_phonecall = df_phonecall_analysis.num_contacts_prev.value_counts().to_frame(\n",
    "    'num_contacts_prev')\n",
    "df_phonecall[\n",
    "    'cumsum_num_contacts_prev'] = df_phonecall.num_contacts_prev.cumsum()\n",
    "df_phonecall[\n",
    "    'ratio'] = df_phonecall.cumsum_num_contacts_prev / df_phonecall.num_contacts_prev.sum(\n",
    "    )\n",
    "df_phonecall"
   ]
  },
  {
   "cell_type": "markdown",
   "metadata": {},
   "source": [
    "We can also find about 80% has not been contacted before.\n",
    "\n",
    "Only 20% received at least one phone call."
   ]
  },
  {
   "cell_type": "code",
   "execution_count": 271,
   "metadata": {},
   "outputs": [
    {
     "data": {
      "text/html": [
       "<div>\n",
       "<style scoped>\n",
       "    .dataframe tbody tr th:only-of-type {\n",
       "        vertical-align: middle;\n",
       "    }\n",
       "\n",
       "    .dataframe tbody tr th {\n",
       "        vertical-align: top;\n",
       "    }\n",
       "\n",
       "    .dataframe thead th {\n",
       "        text-align: right;\n",
       "    }\n",
       "</style>\n",
       "<table border=\"1\" class=\"dataframe\">\n",
       "  <thead>\n",
       "    <tr style=\"text-align: right;\">\n",
       "      <th></th>\n",
       "      <th></th>\n",
       "      <th>client count</th>\n",
       "      <th>client_ratio</th>\n",
       "    </tr>\n",
       "    <tr>\n",
       "      <th>num_contacts_prev</th>\n",
       "      <th>subs_deposit</th>\n",
       "      <th></th>\n",
       "      <th></th>\n",
       "    </tr>\n",
       "  </thead>\n",
       "  <tbody>\n",
       "    <tr>\n",
       "      <th rowspan=\"2\" valign=\"top\">0</th>\n",
       "      <th>0</th>\n",
       "      <td>2136</td>\n",
       "      <td>0.663560</td>\n",
       "    </tr>\n",
       "    <tr>\n",
       "      <th>1</th>\n",
       "      <td>1083</td>\n",
       "      <td>0.336440</td>\n",
       "    </tr>\n",
       "    <tr>\n",
       "      <th rowspan=\"2\" valign=\"top\">1</th>\n",
       "      <th>0</th>\n",
       "      <td>233</td>\n",
       "      <td>0.410935</td>\n",
       "    </tr>\n",
       "    <tr>\n",
       "      <th>1</th>\n",
       "      <td>334</td>\n",
       "      <td>0.589065</td>\n",
       "    </tr>\n",
       "    <tr>\n",
       "      <th rowspan=\"2\" valign=\"top\">2</th>\n",
       "      <th>0</th>\n",
       "      <td>33</td>\n",
       "      <td>0.229167</td>\n",
       "    </tr>\n",
       "    <tr>\n",
       "      <th>1</th>\n",
       "      <td>111</td>\n",
       "      <td>0.770833</td>\n",
       "    </tr>\n",
       "    <tr>\n",
       "      <th rowspan=\"2\" valign=\"top\">3</th>\n",
       "      <th>0</th>\n",
       "      <td>5</td>\n",
       "      <td>0.092593</td>\n",
       "    </tr>\n",
       "    <tr>\n",
       "      <th>1</th>\n",
       "      <td>49</td>\n",
       "      <td>0.907407</td>\n",
       "    </tr>\n",
       "    <tr>\n",
       "      <th rowspan=\"2\" valign=\"top\">4</th>\n",
       "      <th>0</th>\n",
       "      <td>2</td>\n",
       "      <td>0.200000</td>\n",
       "    </tr>\n",
       "    <tr>\n",
       "      <th>1</th>\n",
       "      <td>8</td>\n",
       "      <td>0.800000</td>\n",
       "    </tr>\n",
       "    <tr>\n",
       "      <th rowspan=\"2\" valign=\"top\">5</th>\n",
       "      <th>0</th>\n",
       "      <td>1</td>\n",
       "      <td>0.200000</td>\n",
       "    </tr>\n",
       "    <tr>\n",
       "      <th>1</th>\n",
       "      <td>4</td>\n",
       "      <td>0.800000</td>\n",
       "    </tr>\n",
       "    <tr>\n",
       "      <th>6</th>\n",
       "      <th>1</th>\n",
       "      <td>1</td>\n",
       "      <td>1.000000</td>\n",
       "    </tr>\n",
       "  </tbody>\n",
       "</table>\n",
       "</div>"
      ],
      "text/plain": [
       "                                client count  client_ratio\n",
       "num_contacts_prev subs_deposit                            \n",
       "0                 0                     2136      0.663560\n",
       "                  1                     1083      0.336440\n",
       "1                 0                      233      0.410935\n",
       "                  1                      334      0.589065\n",
       "2                 0                       33      0.229167\n",
       "                  1                      111      0.770833\n",
       "3                 0                        5      0.092593\n",
       "                  1                       49      0.907407\n",
       "4                 0                        2      0.200000\n",
       "                  1                        8      0.800000\n",
       "5                 0                        1      0.200000\n",
       "                  1                        4      0.800000\n",
       "6                 1                        1      1.000000"
      ]
     },
     "execution_count": 271,
     "metadata": {},
     "output_type": "execute_result"
    }
   ],
   "source": [
    "# Does the phone call really works ?\n",
    "df_callwork = df_raw.groupby(by = ['num_contacts_prev','subs_deposit']).client_id.count().to_frame('client count')\n",
    "df_callwork_sum = df_raw.groupby(by=['num_contacts_prev',\n",
    "                                 ]).client_id.count().to_frame('sum of call work')\n",
    "df_callwork_ratio = df_raw.groupby(\n",
    "    by=['num_contacts_prev']).subs_deposit.value_counts(\n",
    "        normalize=True).to_frame('client_ratio')\n",
    "df_callwork['client_ratio'] = df_callwork_ratio.client_ratio\n",
    "df_callwork"
   ]
  },
  {
   "cell_type": "code",
   "execution_count": 272,
   "metadata": {},
   "outputs": [],
   "source": [
    "# df_temp = df_callwork.copy().reset_index()\n",
    "# df_temp = df_temp[df_temp.subs_deposit == 0]\n",
    "# ax = df_temp.plot(x='num_contacts_prev',\n",
    "#              y=['client count', 'client_ratio'],\n",
    "#              kind='bar',\n",
    "#              subplots=True,\n",
    "#              figsize=(10, 5), title='Client Rejected the Term')\n"
   ]
  },
  {
   "cell_type": "code",
   "execution_count": 273,
   "metadata": {},
   "outputs": [
    {
     "data": {
      "image/png": "[encoded data removed]",
      "text/plain": [
       "<Figure size 720x360 with 2 Axes>"
      ]
     },
     "metadata": {
      "needs_background": "light"
     },
     "output_type": "display_data"
    }
   ],
   "source": [
    "df_temp = df_callwork.copy().reset_index()\n",
    "df_temp = df_temp[df_temp.subs_deposit == 1]\n",
    "ax = df_temp.plot(x='num_contacts_prev',\n",
    "             y=['client count', 'client_ratio'],\n",
    "             kind='bar',\n",
    "             subplots=True,\n",
    "             figsize=(10, 5),\n",
    "             title='Client Accepted the Term')\n"
   ]
  },
  {
   "cell_type": "code",
   "execution_count": 274,
   "metadata": {},
   "outputs": [
    {
     "data": {
      "text/html": [
       "<div>\n",
       "<style scoped>\n",
       "    .dataframe tbody tr th:only-of-type {\n",
       "        vertical-align: middle;\n",
       "    }\n",
       "\n",
       "    .dataframe tbody tr th {\n",
       "        vertical-align: top;\n",
       "    }\n",
       "\n",
       "    .dataframe thead th {\n",
       "        text-align: right;\n",
       "    }\n",
       "</style>\n",
       "<table border=\"1\" class=\"dataframe\">\n",
       "  <thead>\n",
       "    <tr style=\"text-align: right;\">\n",
       "      <th></th>\n",
       "      <th></th>\n",
       "      <th>client count</th>\n",
       "      <th>client_ratio</th>\n",
       "    </tr>\n",
       "    <tr>\n",
       "      <th>contacted</th>\n",
       "      <th>subs_deposit</th>\n",
       "      <th></th>\n",
       "      <th></th>\n",
       "    </tr>\n",
       "  </thead>\n",
       "  <tbody>\n",
       "    <tr>\n",
       "      <th rowspan=\"2\" valign=\"top\">0</th>\n",
       "      <th>0</th>\n",
       "      <td>2136</td>\n",
       "      <td>0.663560</td>\n",
       "    </tr>\n",
       "    <tr>\n",
       "      <th>1</th>\n",
       "      <td>1083</td>\n",
       "      <td>0.336440</td>\n",
       "    </tr>\n",
       "    <tr>\n",
       "      <th rowspan=\"2\" valign=\"top\">1</th>\n",
       "      <th>0</th>\n",
       "      <td>274</td>\n",
       "      <td>0.350832</td>\n",
       "    </tr>\n",
       "    <tr>\n",
       "      <th>1</th>\n",
       "      <td>507</td>\n",
       "      <td>0.649168</td>\n",
       "    </tr>\n",
       "  </tbody>\n",
       "</table>\n",
       "</div>"
      ],
      "text/plain": [
       "                        client count  client_ratio\n",
       "contacted subs_deposit                            \n",
       "0         0                     2136      0.663560\n",
       "          1                     1083      0.336440\n",
       "1         0                      274      0.350832\n",
       "          1                      507      0.649168"
      ]
     },
     "execution_count": 274,
     "metadata": {},
     "output_type": "execute_result"
    }
   ],
   "source": [
    "# Add a binary feature for the client being contacted\n",
    "df_phonecall_analysis['contacted'] = df_phonecall_analysis.num_contacts_prev.apply(lambda x: 1 if x >= 1 else 0)\n",
    "df_callwork = df_phonecall_analysis.groupby(\n",
    "    by=['contacted', 'subs_deposit']).client_id.count().to_frame(\n",
    "        'client count')\n",
    "df_callwork_sum = df_phonecall_analysis.groupby(by=[\n",
    "    'contacted',\n",
    "]).client_id.count().to_frame('sum of call work')\n",
    "df_callwork_ratio = df_phonecall_analysis.groupby(\n",
    "    by=['contacted']).subs_deposit.value_counts(\n",
    "        normalize=True).to_frame('client_ratio')\n",
    "df_callwork['client_ratio'] = df_callwork_ratio.client_ratio\n",
    "df_callwork"
   ]
  },
  {
   "cell_type": "markdown",
   "metadata": {},
   "source": [
    "We see a client is more likely to subscribe to a term deposit after been contacted (>=1).\n",
    "The ratio increases from 33.6% to 64.9%."
   ]
  },
  {
   "cell_type": "markdown",
   "metadata": {},
   "source": [
    "#### cpi \n",
    "[???] The Consumer Price Index (CPI) measures household inflation and includes statistics about price change for categories of household expenditure\n"
   ]
  },
  {
   "cell_type": "code",
   "execution_count": 275,
   "metadata": {},
   "outputs": [
    {
     "data": {
      "text/plain": [
       "count    4000.000000\n",
       "mean      107.348378\n",
       "std       107.885469\n",
       "min        92.201000\n",
       "25%        92.963000\n",
       "50%        93.444000\n",
       "75%        93.994000\n",
       "max       947.670000\n",
       "Name: cpi, dtype: float64"
      ]
     },
     "execution_count": 275,
     "metadata": {},
     "output_type": "execute_result"
    }
   ],
   "source": [
    "df_raw.cpi.describe()"
   ]
  },
  {
   "cell_type": "code",
   "execution_count": 276,
   "metadata": {},
   "outputs": [
    {
     "name": "stdout",
     "output_type": "stream",
     "text": [
      " upper_bound: 95.54050000000001\n"
     ]
    },
    {
     "data": {
      "text/plain": [
       "<AxesSubplot:>"
      ]
     },
     "execution_count": 276,
     "metadata": {},
     "output_type": "execute_result"
    },
    {
     "data": {
      "image/png": "[encoded data removed]",
      "text/plain": [
       "<Figure size 1440x360 with 3 Axes>"
      ]
     },
     "metadata": {
      "needs_background": "light"
     },
     "output_type": "display_data"
    }
   ],
   "source": [
    "plt.figure(figsize=(20,5))\n",
    "plt.subplot(1, 3, 1)\n",
    "df_raw.boxplot(column='cpi')\n",
    "plt.subplot(1, 3, 2)\n",
    "df_raw[df_raw.cpi < 200].boxplot(\n",
    "    column='cpi')\n",
    "q1 = df_raw.cpi.quantile(0.25)\n",
    "q3 = df_raw.cpi.quantile(0.75)\n",
    "iqr = q3 - q1\n",
    "# lower_bound = q1 -(1.5 * iqr)\n",
    "upper_bound = q3 + (1.5 * iqr)\n",
    "print(f' upper_bound: {upper_bound}')\n",
    "plt.subplot(1, 3, 3)\n",
    "df_raw[df_raw.cpi < upper_bound].boxplot(\n",
    "    column='cpi')"
   ]
  },
  {
   "cell_type": "code",
   "execution_count": 277,
   "metadata": {},
   "outputs": [
    {
     "data": {
      "text/plain": [
       "(65, 0.01625)"
      ]
     },
     "execution_count": 277,
     "metadata": {},
     "output_type": "execute_result"
    }
   ],
   "source": [
    "# ! ? Check cpi > 100 \n",
    "df_raw[df_raw.cpi>100]['client_id'].count(), df_raw[df_raw.cpi>100]['client_id'].nunique()/4000"
   ]
  },
  {
   "cell_type": "markdown",
   "metadata": {},
   "source": [
    "Clearly, we call tell there are 'errors' in the data.\n",
    "\n",
    "We see most of the data is records is in xx.xxx format. \n",
    "\n",
    "But the cpi>100 shows that the data is not correct but in xxx.xx format.\n",
    "\n",
    "**Note** \n",
    "\n",
    "Reason for the error: the cpi is not in the right format. The point is in the wrong position.\n",
    "\n",
    "Possible solution is: $ cpi/10, where cpi>100 $\n",
    "\n",
    "There are 65 samples have this issues."
   ]
  },
  {
   "cell_type": "code",
   "execution_count": 16,
   "metadata": {},
   "outputs": [],
   "source": [
    "df_temp = df_raw[df_raw.cpi>100] \n",
    "df_temp.to_csv('../reports/client_with_cpi_gt_100.csv', index=False)"
   ]
  },
  {
   "cell_type": "code",
   "execution_count": 18,
   "metadata": {},
   "outputs": [
    {
     "data": {
      "text/html": [
       "<div>\n",
       "<style scoped>\n",
       "    .dataframe tbody tr th:only-of-type {\n",
       "        vertical-align: middle;\n",
       "    }\n",
       "\n",
       "    .dataframe tbody tr th {\n",
       "        vertical-align: top;\n",
       "    }\n",
       "\n",
       "    .dataframe thead th {\n",
       "        text-align: right;\n",
       "    }\n",
       "</style>\n",
       "<table border=\"1\" class=\"dataframe\">\n",
       "  <thead>\n",
       "    <tr style=\"text-align: right;\">\n",
       "      <th></th>\n",
       "      <th>client_id</th>\n",
       "      <th>cpi</th>\n",
       "    </tr>\n",
       "  </thead>\n",
       "  <tbody>\n",
       "    <tr>\n",
       "      <th>33</th>\n",
       "      <td>33914</td>\n",
       "      <td>947.67</td>\n",
       "    </tr>\n",
       "    <tr>\n",
       "      <th>54</th>\n",
       "      <td>34721</td>\n",
       "      <td>947.67</td>\n",
       "    </tr>\n",
       "    <tr>\n",
       "      <th>146</th>\n",
       "      <td>32685</td>\n",
       "      <td>946.01</td>\n",
       "    </tr>\n",
       "    <tr>\n",
       "      <th>174</th>\n",
       "      <td>32575</td>\n",
       "      <td>946.01</td>\n",
       "    </tr>\n",
       "    <tr>\n",
       "      <th>259</th>\n",
       "      <td>35583</td>\n",
       "      <td>947.67</td>\n",
       "    </tr>\n",
       "    <tr>\n",
       "      <th>...</th>\n",
       "      <td>...</td>\n",
       "      <td>...</td>\n",
       "    </tr>\n",
       "    <tr>\n",
       "      <th>3797</th>\n",
       "      <td>32557</td>\n",
       "      <td>946.01</td>\n",
       "    </tr>\n",
       "    <tr>\n",
       "      <th>3830</th>\n",
       "      <td>32704</td>\n",
       "      <td>946.01</td>\n",
       "    </tr>\n",
       "    <tr>\n",
       "      <th>3949</th>\n",
       "      <td>32955</td>\n",
       "      <td>946.01</td>\n",
       "    </tr>\n",
       "    <tr>\n",
       "      <th>3958</th>\n",
       "      <td>32840</td>\n",
       "      <td>946.01</td>\n",
       "    </tr>\n",
       "    <tr>\n",
       "      <th>3974</th>\n",
       "      <td>33893</td>\n",
       "      <td>947.67</td>\n",
       "    </tr>\n",
       "  </tbody>\n",
       "</table>\n",
       "<p>65 rows × 2 columns</p>\n",
       "</div>"
      ],
      "text/plain": [
       "     client_id     cpi\n",
       "33       33914  947.67\n",
       "54       34721  947.67\n",
       "146      32685  946.01\n",
       "174      32575  946.01\n",
       "259      35583  947.67\n",
       "...        ...     ...\n",
       "3797     32557  946.01\n",
       "3830     32704  946.01\n",
       "3949     32955  946.01\n",
       "3958     32840  946.01\n",
       "3974     33893  947.67\n",
       "\n",
       "[65 rows x 2 columns]"
      ]
     },
     "execution_count": 18,
     "metadata": {},
     "output_type": "execute_result"
    }
   ],
   "source": [
    "df_temp[['client_id', 'cpi']]"
   ]
  },
  {
   "cell_type": "code",
   "execution_count": 279,
   "metadata": {},
   "outputs": [
    {
     "data": {
      "image/png": "[encoded data removed]",
      "text/plain": [
       "<Figure size 432x288 with 1 Axes>"
      ]
     },
     "metadata": {
      "needs_background": "light"
     },
     "output_type": "display_data"
    }
   ],
   "source": [
    "# Solution is we can remove the client with cpi > 100\n",
    "\n",
    "# set cpi to null\n",
    "# df_data.cpi = df_data.cpi.apply(lambda x: None if x > 100 else x)\n",
    "\n",
    "# OR we can recalculate the cpi \n",
    "df_data.cpi = df_data.cpi.apply(lambda x: x/10 if x > 100 else x)\n",
    "\n",
    "# set cpi upbound to 100\n",
    "df_data.cpi = df_data.cpi.apply(lambda x: 100 if x > 100 else x)\n",
    "\n",
    "ax = df_data.boxplot(column='cpi')\n",
    "# thus there is no outliers here."
   ]
  },
  {
   "cell_type": "code",
   "execution_count": 281,
   "metadata": {},
   "outputs": [
    {
     "data": {
      "image/png": "[encoded data removed]",
      "text/plain": [
       "<Figure size 1080x504 with 2 Axes>"
      ]
     },
     "metadata": {
      "needs_background": "light"
     },
     "output_type": "display_data"
    }
   ],
   "source": [
    "ax = msno.matrix(df_data, figsize=(15,7))"
   ]
  },
  {
   "cell_type": "code",
   "execution_count": 282,
   "metadata": {},
   "outputs": [
    {
     "data": {
      "text/html": [
       "<div>\n",
       "<style scoped>\n",
       "    .dataframe tbody tr th:only-of-type {\n",
       "        vertical-align: middle;\n",
       "    }\n",
       "\n",
       "    .dataframe tbody tr th {\n",
       "        vertical-align: top;\n",
       "    }\n",
       "\n",
       "    .dataframe thead th {\n",
       "        text-align: right;\n",
       "    }\n",
       "</style>\n",
       "<table border=\"1\" class=\"dataframe\">\n",
       "  <thead>\n",
       "    <tr style=\"text-align: right;\">\n",
       "      <th></th>\n",
       "      <th>age_bracket</th>\n",
       "      <th>job</th>\n",
       "      <th>marital</th>\n",
       "      <th>education</th>\n",
       "      <th>has_housing_loan</th>\n",
       "      <th>has_personal_loan</th>\n",
       "      <th>prev_call_duration</th>\n",
       "      <th>days_since_last_call</th>\n",
       "      <th>num_contacts_prev</th>\n",
       "      <th>poutcome</th>\n",
       "      <th>cpi</th>\n",
       "      <th>subs_deposit</th>\n",
       "      <th>contact_month</th>\n",
       "      <th>contact_day</th>\n",
       "      <th>contact_week</th>\n",
       "      <th>contact_weekday</th>\n",
       "    </tr>\n",
       "  </thead>\n",
       "  <tbody>\n",
       "    <tr>\n",
       "      <th>age_bracket</th>\n",
       "      <td>1.000000</td>\n",
       "      <td>0.045320</td>\n",
       "      <td>-0.108991</td>\n",
       "      <td>0.010181</td>\n",
       "      <td>0.002723</td>\n",
       "      <td>-0.028481</td>\n",
       "      <td>-0.014990</td>\n",
       "      <td>-0.000997</td>\n",
       "      <td>0.018839</td>\n",
       "      <td>0.004935</td>\n",
       "      <td>-0.001319</td>\n",
       "      <td>0.005899</td>\n",
       "      <td>-0.004664</td>\n",
       "      <td>0.085172</td>\n",
       "      <td>-0.001744</td>\n",
       "      <td>0.014556</td>\n",
       "    </tr>\n",
       "    <tr>\n",
       "      <th>job</th>\n",
       "      <td>0.045320</td>\n",
       "      <td>1.000000</td>\n",
       "      <td>0.011746</td>\n",
       "      <td>0.201726</td>\n",
       "      <td>0.009937</td>\n",
       "      <td>0.007951</td>\n",
       "      <td>0.010943</td>\n",
       "      <td>0.000854</td>\n",
       "      <td>-0.006201</td>\n",
       "      <td>-0.005690</td>\n",
       "      <td>0.007922</td>\n",
       "      <td>-0.004153</td>\n",
       "      <td>0.015493</td>\n",
       "      <td>0.017726</td>\n",
       "      <td>0.016936</td>\n",
       "      <td>-0.019748</td>\n",
       "    </tr>\n",
       "    <tr>\n",
       "      <th>marital</th>\n",
       "      <td>-0.108991</td>\n",
       "      <td>0.011746</td>\n",
       "      <td>1.000000</td>\n",
       "      <td>-0.004200</td>\n",
       "      <td>0.002151</td>\n",
       "      <td>-0.014826</td>\n",
       "      <td>0.007498</td>\n",
       "      <td>0.030183</td>\n",
       "      <td>0.040380</td>\n",
       "      <td>-0.023226</td>\n",
       "      <td>-0.015165</td>\n",
       "      <td>0.055603</td>\n",
       "      <td>-0.000482</td>\n",
       "      <td>-0.014296</td>\n",
       "      <td>-0.001101</td>\n",
       "      <td>-0.005056</td>\n",
       "    </tr>\n",
       "    <tr>\n",
       "      <th>education</th>\n",
       "      <td>0.010181</td>\n",
       "      <td>0.201726</td>\n",
       "      <td>-0.004200</td>\n",
       "      <td>1.000000</td>\n",
       "      <td>0.016287</td>\n",
       "      <td>0.025178</td>\n",
       "      <td>0.007063</td>\n",
       "      <td>0.016913</td>\n",
       "      <td>-0.021939</td>\n",
       "      <td>-0.015794</td>\n",
       "      <td>0.028663</td>\n",
       "      <td>-0.013589</td>\n",
       "      <td>0.024001</td>\n",
       "      <td>-0.005689</td>\n",
       "      <td>0.025024</td>\n",
       "      <td>-0.039590</td>\n",
       "    </tr>\n",
       "    <tr>\n",
       "      <th>has_housing_loan</th>\n",
       "      <td>0.002723</td>\n",
       "      <td>0.009937</td>\n",
       "      <td>0.002151</td>\n",
       "      <td>0.016287</td>\n",
       "      <td>1.000000</td>\n",
       "      <td>0.280387</td>\n",
       "      <td>-0.012751</td>\n",
       "      <td>0.017046</td>\n",
       "      <td>0.035113</td>\n",
       "      <td>-0.041041</td>\n",
       "      <td>-0.040155</td>\n",
       "      <td>0.015307</td>\n",
       "      <td>-0.012258</td>\n",
       "      <td>0.035481</td>\n",
       "      <td>-0.011396</td>\n",
       "      <td>0.006716</td>\n",
       "    </tr>\n",
       "    <tr>\n",
       "      <th>has_personal_loan</th>\n",
       "      <td>-0.028481</td>\n",
       "      <td>0.007951</td>\n",
       "      <td>-0.014826</td>\n",
       "      <td>0.025178</td>\n",
       "      <td>0.280387</td>\n",
       "      <td>1.000000</td>\n",
       "      <td>0.007950</td>\n",
       "      <td>-0.003298</td>\n",
       "      <td>0.018365</td>\n",
       "      <td>-0.017200</td>\n",
       "      <td>0.021233</td>\n",
       "      <td>-0.012477</td>\n",
       "      <td>0.015479</td>\n",
       "      <td>-0.018031</td>\n",
       "      <td>0.015189</td>\n",
       "      <td>-0.007738</td>\n",
       "    </tr>\n",
       "    <tr>\n",
       "      <th>prev_call_duration</th>\n",
       "      <td>-0.014990</td>\n",
       "      <td>0.010943</td>\n",
       "      <td>0.007498</td>\n",
       "      <td>0.007063</td>\n",
       "      <td>-0.012751</td>\n",
       "      <td>0.007950</td>\n",
       "      <td>1.000000</td>\n",
       "      <td>0.021634</td>\n",
       "      <td>-0.006538</td>\n",
       "      <td>0.022944</td>\n",
       "      <td>0.039229</td>\n",
       "      <td>0.478718</td>\n",
       "      <td>0.017727</td>\n",
       "      <td>-0.004943</td>\n",
       "      <td>0.018350</td>\n",
       "      <td>-0.029706</td>\n",
       "    </tr>\n",
       "    <tr>\n",
       "      <th>days_since_last_call</th>\n",
       "      <td>-0.000997</td>\n",
       "      <td>0.000854</td>\n",
       "      <td>0.030183</td>\n",
       "      <td>0.016913</td>\n",
       "      <td>0.017046</td>\n",
       "      <td>-0.003298</td>\n",
       "      <td>0.021634</td>\n",
       "      <td>1.000000</td>\n",
       "      <td>0.592432</td>\n",
       "      <td>-0.349226</td>\n",
       "      <td>-0.029613</td>\n",
       "      <td>0.264861</td>\n",
       "      <td>0.032254</td>\n",
       "      <td>0.091192</td>\n",
       "      <td>0.035814</td>\n",
       "      <td>-0.014715</td>\n",
       "    </tr>\n",
       "    <tr>\n",
       "      <th>num_contacts_prev</th>\n",
       "      <td>0.018839</td>\n",
       "      <td>-0.006201</td>\n",
       "      <td>0.040380</td>\n",
       "      <td>-0.021939</td>\n",
       "      <td>0.035113</td>\n",
       "      <td>0.018365</td>\n",
       "      <td>-0.006538</td>\n",
       "      <td>0.592432</td>\n",
       "      <td>1.000000</td>\n",
       "      <td>-0.758468</td>\n",
       "      <td>-0.119224</td>\n",
       "      <td>0.260981</td>\n",
       "      <td>0.028312</td>\n",
       "      <td>0.115908</td>\n",
       "      <td>0.032365</td>\n",
       "      <td>0.001569</td>\n",
       "    </tr>\n",
       "    <tr>\n",
       "      <th>poutcome</th>\n",
       "      <td>0.004935</td>\n",
       "      <td>-0.005690</td>\n",
       "      <td>-0.023226</td>\n",
       "      <td>-0.015794</td>\n",
       "      <td>-0.041041</td>\n",
       "      <td>-0.017200</td>\n",
       "      <td>0.022944</td>\n",
       "      <td>-0.349226</td>\n",
       "      <td>-0.758468</td>\n",
       "      <td>1.000000</td>\n",
       "      <td>0.243140</td>\n",
       "      <td>-0.175097</td>\n",
       "      <td>-0.032616</td>\n",
       "      <td>-0.073523</td>\n",
       "      <td>-0.034943</td>\n",
       "      <td>-0.006227</td>\n",
       "    </tr>\n",
       "    <tr>\n",
       "      <th>cpi</th>\n",
       "      <td>-0.001319</td>\n",
       "      <td>0.007922</td>\n",
       "      <td>-0.015165</td>\n",
       "      <td>0.028663</td>\n",
       "      <td>-0.040155</td>\n",
       "      <td>0.021233</td>\n",
       "      <td>0.039229</td>\n",
       "      <td>-0.029613</td>\n",
       "      <td>-0.119224</td>\n",
       "      <td>0.243140</td>\n",
       "      <td>1.000000</td>\n",
       "      <td>-0.189810</td>\n",
       "      <td>0.000385</td>\n",
       "      <td>-0.118843</td>\n",
       "      <td>-0.005487</td>\n",
       "      <td>0.039264</td>\n",
       "    </tr>\n",
       "    <tr>\n",
       "      <th>subs_deposit</th>\n",
       "      <td>0.005899</td>\n",
       "      <td>-0.004153</td>\n",
       "      <td>0.055603</td>\n",
       "      <td>-0.013589</td>\n",
       "      <td>0.015307</td>\n",
       "      <td>-0.012477</td>\n",
       "      <td>0.478718</td>\n",
       "      <td>0.264861</td>\n",
       "      <td>0.260981</td>\n",
       "      <td>-0.175097</td>\n",
       "      <td>-0.189810</td>\n",
       "      <td>1.000000</td>\n",
       "      <td>0.057483</td>\n",
       "      <td>0.055432</td>\n",
       "      <td>0.057514</td>\n",
       "      <td>0.044215</td>\n",
       "    </tr>\n",
       "    <tr>\n",
       "      <th>contact_month</th>\n",
       "      <td>-0.004664</td>\n",
       "      <td>0.015493</td>\n",
       "      <td>-0.000482</td>\n",
       "      <td>0.024001</td>\n",
       "      <td>-0.012258</td>\n",
       "      <td>0.015479</td>\n",
       "      <td>0.017727</td>\n",
       "      <td>0.032254</td>\n",
       "      <td>0.028312</td>\n",
       "      <td>-0.032616</td>\n",
       "      <td>0.000385</td>\n",
       "      <td>0.057483</td>\n",
       "      <td>1.000000</td>\n",
       "      <td>0.041610</td>\n",
       "      <td>0.998797</td>\n",
       "      <td>0.091771</td>\n",
       "    </tr>\n",
       "    <tr>\n",
       "      <th>contact_day</th>\n",
       "      <td>0.085172</td>\n",
       "      <td>0.017726</td>\n",
       "      <td>-0.014296</td>\n",
       "      <td>-0.005689</td>\n",
       "      <td>0.035481</td>\n",
       "      <td>-0.018031</td>\n",
       "      <td>-0.004943</td>\n",
       "      <td>0.091192</td>\n",
       "      <td>0.115908</td>\n",
       "      <td>-0.073523</td>\n",
       "      <td>-0.118843</td>\n",
       "      <td>0.055432</td>\n",
       "      <td>0.041610</td>\n",
       "      <td>1.000000</td>\n",
       "      <td>0.077822</td>\n",
       "      <td>0.010962</td>\n",
       "    </tr>\n",
       "    <tr>\n",
       "      <th>contact_week</th>\n",
       "      <td>-0.001744</td>\n",
       "      <td>0.016936</td>\n",
       "      <td>-0.001101</td>\n",
       "      <td>0.025024</td>\n",
       "      <td>-0.011396</td>\n",
       "      <td>0.015189</td>\n",
       "      <td>0.018350</td>\n",
       "      <td>0.035814</td>\n",
       "      <td>0.032365</td>\n",
       "      <td>-0.034943</td>\n",
       "      <td>-0.005487</td>\n",
       "      <td>0.057514</td>\n",
       "      <td>0.998797</td>\n",
       "      <td>0.077822</td>\n",
       "      <td>1.000000</td>\n",
       "      <td>0.060814</td>\n",
       "    </tr>\n",
       "    <tr>\n",
       "      <th>contact_weekday</th>\n",
       "      <td>0.014556</td>\n",
       "      <td>-0.019748</td>\n",
       "      <td>-0.005056</td>\n",
       "      <td>-0.039590</td>\n",
       "      <td>0.006716</td>\n",
       "      <td>-0.007738</td>\n",
       "      <td>-0.029706</td>\n",
       "      <td>-0.014715</td>\n",
       "      <td>0.001569</td>\n",
       "      <td>-0.006227</td>\n",
       "      <td>0.039264</td>\n",
       "      <td>0.044215</td>\n",
       "      <td>0.091771</td>\n",
       "      <td>0.010962</td>\n",
       "      <td>0.060814</td>\n",
       "      <td>1.000000</td>\n",
       "    </tr>\n",
       "  </tbody>\n",
       "</table>\n",
       "</div>"
      ],
      "text/plain": [
       "                      age_bracket       job   marital  education  \\\n",
       "age_bracket              1.000000  0.045320 -0.108991   0.010181   \n",
       "job                      0.045320  1.000000  0.011746   0.201726   \n",
       "marital                 -0.108991  0.011746  1.000000  -0.004200   \n",
       "education                0.010181  0.201726 -0.004200   1.000000   \n",
       "has_housing_loan         0.002723  0.009937  0.002151   0.016287   \n",
       "has_personal_loan       -0.028481  0.007951 -0.014826   0.025178   \n",
       "prev_call_duration      -0.014990  0.010943  0.007498   0.007063   \n",
       "days_since_last_call    -0.000997  0.000854  0.030183   0.016913   \n",
       "num_contacts_prev        0.018839 -0.006201  0.040380  -0.021939   \n",
       "poutcome                 0.004935 -0.005690 -0.023226  -0.015794   \n",
       "cpi                     -0.001319  0.007922 -0.015165   0.028663   \n",
       "subs_deposit             0.005899 -0.004153  0.055603  -0.013589   \n",
       "contact_month           -0.004664  0.015493 -0.000482   0.024001   \n",
       "contact_day              0.085172  0.017726 -0.014296  -0.005689   \n",
       "contact_week            -0.001744  0.016936 -0.001101   0.025024   \n",
       "contact_weekday          0.014556 -0.019748 -0.005056  -0.039590   \n",
       "\n",
       "                      has_housing_loan  has_personal_loan  prev_call_duration  \\\n",
       "age_bracket                   0.002723          -0.028481           -0.014990   \n",
       "job                           0.009937           0.007951            0.010943   \n",
       "marital                       0.002151          -0.014826            0.007498   \n",
       "education                     0.016287           0.025178            0.007063   \n",
       "has_housing_loan              1.000000           0.280387           -0.012751   \n",
       "has_personal_loan             0.280387           1.000000            0.007950   \n",
       "prev_call_duration           -0.012751           0.007950            1.000000   \n",
       "days_since_last_call          0.017046          -0.003298            0.021634   \n",
       "num_contacts_prev             0.035113           0.018365           -0.006538   \n",
       "poutcome                     -0.041041          -0.017200            0.022944   \n",
       "cpi                          -0.040155           0.021233            0.039229   \n",
       "subs_deposit                  0.015307          -0.012477            0.478718   \n",
       "contact_month                -0.012258           0.015479            0.017727   \n",
       "contact_day                   0.035481          -0.018031           -0.004943   \n",
       "contact_week                 -0.011396           0.015189            0.018350   \n",
       "contact_weekday               0.006716          -0.007738           -0.029706   \n",
       "\n",
       "                      days_since_last_call  num_contacts_prev  poutcome  \\\n",
       "age_bracket                      -0.000997           0.018839  0.004935   \n",
       "job                               0.000854          -0.006201 -0.005690   \n",
       "marital                           0.030183           0.040380 -0.023226   \n",
       "education                         0.016913          -0.021939 -0.015794   \n",
       "has_housing_loan                  0.017046           0.035113 -0.041041   \n",
       "has_personal_loan                -0.003298           0.018365 -0.017200   \n",
       "prev_call_duration                0.021634          -0.006538  0.022944   \n",
       "days_since_last_call              1.000000           0.592432 -0.349226   \n",
       "num_contacts_prev                 0.592432           1.000000 -0.758468   \n",
       "poutcome                         -0.349226          -0.758468  1.000000   \n",
       "cpi                              -0.029613          -0.119224  0.243140   \n",
       "subs_deposit                      0.264861           0.260981 -0.175097   \n",
       "contact_month                     0.032254           0.028312 -0.032616   \n",
       "contact_day                       0.091192           0.115908 -0.073523   \n",
       "contact_week                      0.035814           0.032365 -0.034943   \n",
       "contact_weekday                  -0.014715           0.001569 -0.006227   \n",
       "\n",
       "                           cpi  subs_deposit  contact_month  contact_day  \\\n",
       "age_bracket          -0.001319      0.005899      -0.004664     0.085172   \n",
       "job                   0.007922     -0.004153       0.015493     0.017726   \n",
       "marital              -0.015165      0.055603      -0.000482    -0.014296   \n",
       "education             0.028663     -0.013589       0.024001    -0.005689   \n",
       "has_housing_loan     -0.040155      0.015307      -0.012258     0.035481   \n",
       "has_personal_loan     0.021233     -0.012477       0.015479    -0.018031   \n",
       "prev_call_duration    0.039229      0.478718       0.017727    -0.004943   \n",
       "days_since_last_call -0.029613      0.264861       0.032254     0.091192   \n",
       "num_contacts_prev    -0.119224      0.260981       0.028312     0.115908   \n",
       "poutcome              0.243140     -0.175097      -0.032616    -0.073523   \n",
       "cpi                   1.000000     -0.189810       0.000385    -0.118843   \n",
       "subs_deposit         -0.189810      1.000000       0.057483     0.055432   \n",
       "contact_month         0.000385      0.057483       1.000000     0.041610   \n",
       "contact_day          -0.118843      0.055432       0.041610     1.000000   \n",
       "contact_week         -0.005487      0.057514       0.998797     0.077822   \n",
       "contact_weekday       0.039264      0.044215       0.091771     0.010962   \n",
       "\n",
       "                      contact_week  contact_weekday  \n",
       "age_bracket              -0.001744         0.014556  \n",
       "job                       0.016936        -0.019748  \n",
       "marital                  -0.001101        -0.005056  \n",
       "education                 0.025024        -0.039590  \n",
       "has_housing_loan         -0.011396         0.006716  \n",
       "has_personal_loan         0.015189        -0.007738  \n",
       "prev_call_duration        0.018350        -0.029706  \n",
       "days_since_last_call      0.035814        -0.014715  \n",
       "num_contacts_prev         0.032365         0.001569  \n",
       "poutcome                 -0.034943        -0.006227  \n",
       "cpi                      -0.005487         0.039264  \n",
       "subs_deposit              0.057514         0.044215  \n",
       "contact_month             0.998797         0.091771  \n",
       "contact_day               0.077822         0.010962  \n",
       "contact_week              1.000000         0.060814  \n",
       "contact_weekday           0.060814         1.000000  "
      ]
     },
     "execution_count": 282,
     "metadata": {},
     "output_type": "execute_result"
    }
   ],
   "source": [
    "df_data.corr()"
   ]
  },
  {
   "cell_type": "markdown",
   "metadata": {},
   "source": [
    "### Save the Processed Data"
   ]
  },
  {
   "cell_type": "code",
   "execution_count": 283,
   "metadata": {},
   "outputs": [],
   "source": [
    "# save the data to the csv file in data/processed folder.\n",
    "df_data.to_csv('../data/processed/df_data.csv')"
   ]
  },
  {
   "cell_type": "code",
   "execution_count": 284,
   "metadata": {},
   "outputs": [
    {
     "data": {
      "text/html": [
       "<div>\n",
       "<style scoped>\n",
       "    .dataframe tbody tr th:only-of-type {\n",
       "        vertical-align: middle;\n",
       "    }\n",
       "\n",
       "    .dataframe tbody tr th {\n",
       "        vertical-align: top;\n",
       "    }\n",
       "\n",
       "    .dataframe thead th {\n",
       "        text-align: right;\n",
       "    }\n",
       "</style>\n",
       "<table border=\"1\" class=\"dataframe\">\n",
       "  <thead>\n",
       "    <tr style=\"text-align: right;\">\n",
       "      <th></th>\n",
       "      <th>age_bracket</th>\n",
       "      <th>job</th>\n",
       "      <th>marital</th>\n",
       "      <th>education</th>\n",
       "      <th>has_housing_loan</th>\n",
       "      <th>has_personal_loan</th>\n",
       "      <th>prev_call_duration</th>\n",
       "      <th>days_since_last_call</th>\n",
       "      <th>num_contacts_prev</th>\n",
       "      <th>poutcome</th>\n",
       "      <th>contact_date</th>\n",
       "      <th>cpi</th>\n",
       "      <th>subs_deposit</th>\n",
       "      <th>contact_month</th>\n",
       "      <th>contact_day</th>\n",
       "      <th>contact_week</th>\n",
       "      <th>contact_weekday</th>\n",
       "    </tr>\n",
       "    <tr>\n",
       "      <th>client_id</th>\n",
       "      <th></th>\n",
       "      <th></th>\n",
       "      <th></th>\n",
       "      <th></th>\n",
       "      <th></th>\n",
       "      <th></th>\n",
       "      <th></th>\n",
       "      <th></th>\n",
       "      <th></th>\n",
       "      <th></th>\n",
       "      <th></th>\n",
       "      <th></th>\n",
       "      <th></th>\n",
       "      <th></th>\n",
       "      <th></th>\n",
       "      <th></th>\n",
       "      <th></th>\n",
       "    </tr>\n",
       "  </thead>\n",
       "  <tbody>\n",
       "    <tr>\n",
       "      <th>41020</th>\n",
       "      <td>3</td>\n",
       "      <td>1</td>\n",
       "      <td>3</td>\n",
       "      <td>1</td>\n",
       "      <td>1</td>\n",
       "      <td>0</td>\n",
       "      <td>283.0</td>\n",
       "      <td>3</td>\n",
       "      <td>1</td>\n",
       "      <td>1</td>\n",
       "      <td>2018-07-09</td>\n",
       "      <td>92.379</td>\n",
       "      <td>1</td>\n",
       "      <td>7</td>\n",
       "      <td>9</td>\n",
       "      <td>28</td>\n",
       "      <td>1</td>\n",
       "    </tr>\n",
       "    <tr>\n",
       "      <th>23720</th>\n",
       "      <td>4</td>\n",
       "      <td>4</td>\n",
       "      <td>3</td>\n",
       "      <td>2</td>\n",
       "      <td>0</td>\n",
       "      <td>1</td>\n",
       "      <td>169.0</td>\n",
       "      <td>6</td>\n",
       "      <td>2</td>\n",
       "      <td>1</td>\n",
       "      <td>2018-05-07</td>\n",
       "      <td>94.215</td>\n",
       "      <td>1</td>\n",
       "      <td>5</td>\n",
       "      <td>7</td>\n",
       "      <td>19</td>\n",
       "      <td>1</td>\n",
       "    </tr>\n",
       "    <tr>\n",
       "      <th>29378</th>\n",
       "      <td>3</td>\n",
       "      <td>1</td>\n",
       "      <td>1</td>\n",
       "      <td>1</td>\n",
       "      <td>0</td>\n",
       "      <td>0</td>\n",
       "      <td>552.0</td>\n",
       "      <td>-1</td>\n",
       "      <td>0</td>\n",
       "      <td>2</td>\n",
       "      <td>2018-01-08</td>\n",
       "      <td>93.444</td>\n",
       "      <td>1</td>\n",
       "      <td>1</td>\n",
       "      <td>8</td>\n",
       "      <td>2</td>\n",
       "      <td>1</td>\n",
       "    </tr>\n",
       "    <tr>\n",
       "      <th>36636</th>\n",
       "      <td>2</td>\n",
       "      <td>3</td>\n",
       "      <td>2</td>\n",
       "      <td>3</td>\n",
       "      <td>1</td>\n",
       "      <td>1</td>\n",
       "      <td>206.0</td>\n",
       "      <td>-1</td>\n",
       "      <td>0</td>\n",
       "      <td>2</td>\n",
       "      <td>2018-02-11</td>\n",
       "      <td>93.200</td>\n",
       "      <td>0</td>\n",
       "      <td>2</td>\n",
       "      <td>11</td>\n",
       "      <td>6</td>\n",
       "      <td>7</td>\n",
       "    </tr>\n",
       "    <tr>\n",
       "      <th>38229</th>\n",
       "      <td>1</td>\n",
       "      <td>1</td>\n",
       "      <td>2</td>\n",
       "      <td>1</td>\n",
       "      <td>0</td>\n",
       "      <td>0</td>\n",
       "      <td>341.0</td>\n",
       "      <td>-1</td>\n",
       "      <td>0</td>\n",
       "      <td>2</td>\n",
       "      <td>2018-04-04</td>\n",
       "      <td>93.075</td>\n",
       "      <td>1</td>\n",
       "      <td>4</td>\n",
       "      <td>4</td>\n",
       "      <td>14</td>\n",
       "      <td>3</td>\n",
       "    </tr>\n",
       "    <tr>\n",
       "      <th>...</th>\n",
       "      <td>...</td>\n",
       "      <td>...</td>\n",
       "      <td>...</td>\n",
       "      <td>...</td>\n",
       "      <td>...</td>\n",
       "      <td>...</td>\n",
       "      <td>...</td>\n",
       "      <td>...</td>\n",
       "      <td>...</td>\n",
       "      <td>...</td>\n",
       "      <td>...</td>\n",
       "      <td>...</td>\n",
       "      <td>...</td>\n",
       "      <td>...</td>\n",
       "      <td>...</td>\n",
       "      <td>...</td>\n",
       "      <td>...</td>\n",
       "    </tr>\n",
       "    <tr>\n",
       "      <th>7519</th>\n",
       "      <td>3</td>\n",
       "      <td>7</td>\n",
       "      <td>2</td>\n",
       "      <td>2</td>\n",
       "      <td>1</td>\n",
       "      <td>0</td>\n",
       "      <td>396.0</td>\n",
       "      <td>-1</td>\n",
       "      <td>0</td>\n",
       "      <td>2</td>\n",
       "      <td>2018-02-05</td>\n",
       "      <td>92.893</td>\n",
       "      <td>1</td>\n",
       "      <td>2</td>\n",
       "      <td>5</td>\n",
       "      <td>6</td>\n",
       "      <td>1</td>\n",
       "    </tr>\n",
       "    <tr>\n",
       "      <th>29822</th>\n",
       "      <td>3</td>\n",
       "      <td>1</td>\n",
       "      <td>1</td>\n",
       "      <td>1</td>\n",
       "      <td>1</td>\n",
       "      <td>0</td>\n",
       "      <td>115.0</td>\n",
       "      <td>-1</td>\n",
       "      <td>0</td>\n",
       "      <td>2</td>\n",
       "      <td>2018-01-08</td>\n",
       "      <td>93.444</td>\n",
       "      <td>0</td>\n",
       "      <td>1</td>\n",
       "      <td>8</td>\n",
       "      <td>2</td>\n",
       "      <td>1</td>\n",
       "    </tr>\n",
       "    <tr>\n",
       "      <th>24462</th>\n",
       "      <td>2</td>\n",
       "      <td>1</td>\n",
       "      <td>1</td>\n",
       "      <td>3</td>\n",
       "      <td>1</td>\n",
       "      <td>0</td>\n",
       "      <td>214.0</td>\n",
       "      <td>-1</td>\n",
       "      <td>0</td>\n",
       "      <td>2</td>\n",
       "      <td>2018-06-07</td>\n",
       "      <td>93.918</td>\n",
       "      <td>0</td>\n",
       "      <td>6</td>\n",
       "      <td>7</td>\n",
       "      <td>23</td>\n",
       "      <td>4</td>\n",
       "    </tr>\n",
       "    <tr>\n",
       "      <th>26089</th>\n",
       "      <td>2</td>\n",
       "      <td>5</td>\n",
       "      <td>1</td>\n",
       "      <td>2</td>\n",
       "      <td>1</td>\n",
       "      <td>0</td>\n",
       "      <td>76.0</td>\n",
       "      <td>-1</td>\n",
       "      <td>0</td>\n",
       "      <td>2</td>\n",
       "      <td>2018-02-07</td>\n",
       "      <td>93.918</td>\n",
       "      <td>0</td>\n",
       "      <td>2</td>\n",
       "      <td>7</td>\n",
       "      <td>6</td>\n",
       "      <td>3</td>\n",
       "    </tr>\n",
       "    <tr>\n",
       "      <th>40631</th>\n",
       "      <td>2</td>\n",
       "      <td>1</td>\n",
       "      <td>2</td>\n",
       "      <td>1</td>\n",
       "      <td>1</td>\n",
       "      <td>0</td>\n",
       "      <td>368.0</td>\n",
       "      <td>-1</td>\n",
       "      <td>0</td>\n",
       "      <td>2</td>\n",
       "      <td>2018-04-09</td>\n",
       "      <td>92.379</td>\n",
       "      <td>0</td>\n",
       "      <td>4</td>\n",
       "      <td>9</td>\n",
       "      <td>15</td>\n",
       "      <td>1</td>\n",
       "    </tr>\n",
       "  </tbody>\n",
       "</table>\n",
       "<p>4000 rows × 17 columns</p>\n",
       "</div>"
      ],
      "text/plain": [
       "           age_bracket  job  marital  education  has_housing_loan  \\\n",
       "client_id                                                           \n",
       "41020                3    1        3          1                 1   \n",
       "23720                4    4        3          2                 0   \n",
       "29378                3    1        1          1                 0   \n",
       "36636                2    3        2          3                 1   \n",
       "38229                1    1        2          1                 0   \n",
       "...                ...  ...      ...        ...               ...   \n",
       "7519                 3    7        2          2                 1   \n",
       "29822                3    1        1          1                 1   \n",
       "24462                2    1        1          3                 1   \n",
       "26089                2    5        1          2                 1   \n",
       "40631                2    1        2          1                 1   \n",
       "\n",
       "           has_personal_loan  prev_call_duration  days_since_last_call  \\\n",
       "client_id                                                                \n",
       "41020                      0               283.0                     3   \n",
       "23720                      1               169.0                     6   \n",
       "29378                      0               552.0                    -1   \n",
       "36636                      1               206.0                    -1   \n",
       "38229                      0               341.0                    -1   \n",
       "...                      ...                 ...                   ...   \n",
       "7519                       0               396.0                    -1   \n",
       "29822                      0               115.0                    -1   \n",
       "24462                      0               214.0                    -1   \n",
       "26089                      0                76.0                    -1   \n",
       "40631                      0               368.0                    -1   \n",
       "\n",
       "           num_contacts_prev  poutcome contact_date     cpi  subs_deposit  \\\n",
       "client_id                                                                   \n",
       "41020                      1         1   2018-07-09  92.379             1   \n",
       "23720                      2         1   2018-05-07  94.215             1   \n",
       "29378                      0         2   2018-01-08  93.444             1   \n",
       "36636                      0         2   2018-02-11  93.200             0   \n",
       "38229                      0         2   2018-04-04  93.075             1   \n",
       "...                      ...       ...          ...     ...           ...   \n",
       "7519                       0         2   2018-02-05  92.893             1   \n",
       "29822                      0         2   2018-01-08  93.444             0   \n",
       "24462                      0         2   2018-06-07  93.918             0   \n",
       "26089                      0         2   2018-02-07  93.918             0   \n",
       "40631                      0         2   2018-04-09  92.379             0   \n",
       "\n",
       "           contact_month  contact_day  contact_week  contact_weekday  \n",
       "client_id                                                             \n",
       "41020                  7            9            28                1  \n",
       "23720                  5            7            19                1  \n",
       "29378                  1            8             2                1  \n",
       "36636                  2           11             6                7  \n",
       "38229                  4            4            14                3  \n",
       "...                  ...          ...           ...              ...  \n",
       "7519                   2            5             6                1  \n",
       "29822                  1            8             2                1  \n",
       "24462                  6            7            23                4  \n",
       "26089                  2            7             6                3  \n",
       "40631                  4            9            15                1  \n",
       "\n",
       "[4000 rows x 17 columns]"
      ]
     },
     "execution_count": 284,
     "metadata": {},
     "output_type": "execute_result"
    }
   ],
   "source": [
    "df_data"
   ]
  },
  {
   "cell_type": "code",
   "execution_count": null,
   "metadata": {},
   "outputs": [],
   "source": [
    "# Redo the profiling process again on new data.\n",
    "# output_dir = '../reports/processed_data_profiling.html'\n",
    "# profile = ProfileReport(df_data,\n",
    "#                         title='Processed Data Profiling Report',\n",
    "#                         html={'style': {\n",
    "#                             'full_width': True\n",
    "#                         }})\n",
    "# profile.to_file(output_dir)"
   ]
  },
  {
   "cell_type": "markdown",
   "metadata": {},
   "source": [
    "## 05: Feature Selection and Sample Selection"
   ]
  },
  {
   "cell_type": "markdown",
   "metadata": {},
   "source": [
    "#### Drop Redundant Features \n",
    "\n",
    "contact_date is transformed to month, day and weekday, so we can drop the original contact_date feature."
   ]
  },
  {
   "cell_type": "code",
   "execution_count": null,
   "metadata": {},
   "outputs": [],
   "source": [
    "df_clean = df_data.copy() "
   ]
  },
  {
   "cell_type": "code",
   "execution_count": null,
   "metadata": {},
   "outputs": [],
   "source": [
    "df_clean.head().T"
   ]
  },
  {
   "cell_type": "code",
   "execution_count": null,
   "metadata": {},
   "outputs": [],
   "source": [
    "# df_clean.contact_month.value_counts().sort_values()\n",
    "# df_clean.contact_month.value_counts().sort_values()\n",
    "# df_clean.contact_day.value_counts().sort_values()\n",
    "df_clean.contact_weekday.value_counts().sort_values()"
   ]
  },
  {
   "cell_type": "code",
   "execution_count": null,
   "metadata": {},
   "outputs": [],
   "source": [
    "# we can drop contact_date, because we already have the month, day and weekday to represent the time.\n",
    "df_clean.drop(['contact_date', 'contact_month', 'contact_week', 'contact_day'], axis=1, inplace=True)"
   ]
  },
  {
   "cell_type": "markdown",
   "metadata": {},
   "source": [
    "#### Drop Feature with Missing Values"
   ]
  },
  {
   "cell_type": "code",
   "execution_count": null,
   "metadata": {},
   "outputs": [],
   "source": [
    "df_data.notna().sum().sort_values(ascending=False), df_data.notna().sum().sort_values(ascending=False).to_frame().boxplot()"
   ]
  },
  {
   "cell_type": "code",
   "execution_count": null,
   "metadata": {},
   "outputs": [],
   "source": [
    "# drop features\n",
    "# df_clean.drop(columns=['poutcome', 'days_since_last_call'], inplace=True)\n",
    "# drop samples\n",
    "df_clean.dropna(inplace=True)"
   ]
  },
  {
   "cell_type": "code",
   "execution_count": null,
   "metadata": {},
   "outputs": [],
   "source": [
    "ax = msno.matrix(df_clean, figsize=(15, 7))"
   ]
  },
  {
   "cell_type": "code",
   "execution_count": null,
   "metadata": {},
   "outputs": [],
   "source": [
    "# output_dir = '../reports/cleaned_data_profiling.html'\n",
    "# profile = ProfileReport(df_clean, title='Clean Data Profiling Report')\n",
    "# profile.to_file(output_dir)"
   ]
  },
  {
   "cell_type": "code",
   "execution_count": null,
   "metadata": {},
   "outputs": [],
   "source": [
    "feature_name = 'contact_weekday'\n",
    "# feature_name = 'contact_day'\n",
    "# feature_name = 'contact_month'\n",
    "# feature_name = 'contact_week'\n",
    "df_temp = df_clean.groupby(\n",
    "    by=[feature_name]).subs_deposit.value_counts().to_frame('client count')\n",
    "df_temp['client ratio'] = df_clean.groupby(\n",
    "    by=[feature_name]).subs_deposit.value_counts(\n",
    "        normalize=True).to_frame('client ratio')['client ratio']\n",
    "display(df_temp)\n",
    "\n",
    "df_temp.reset_index(inplace=True)\n",
    "df_temp[df_temp.subs_deposit==1].plot(x=feature_name,y=['client count','client ratio'],kind='bar',figsize=(10,5),title='Client Accepted the Term', subplots=True)"
   ]
  },
  {
   "cell_type": "code",
   "execution_count": null,
   "metadata": {},
   "outputs": [],
   "source": [
    "df_clean.info()"
   ]
  },
  {
   "cell_type": "code",
   "execution_count": null,
   "metadata": {},
   "outputs": [],
   "source": [
    "df_clean.head(5).T"
   ]
  },
  {
   "cell_type": "code",
   "execution_count": null,
   "metadata": {},
   "outputs": [],
   "source": [
    "df_clean.to_csv('../data/processed/df_clean.csv')"
   ]
  },
  {
   "cell_type": "markdown",
   "metadata": {},
   "source": [
    "## 06 Simple Raw Data Processing\n",
    "\n",
    "- remove pre_call_duration >100000 seconds\n",
    "- replace days_since_last_call 999 to -1\n",
    "- remove cpi > 100 \n",
    "- keep the reset of the data"
   ]
  },
  {
   "cell_type": "code",
   "execution_count": 9,
   "metadata": {},
   "outputs": [
    {
     "data": {
      "text/html": [
       "<div>\n",
       "<style scoped>\n",
       "    .dataframe tbody tr th:only-of-type {\n",
       "        vertical-align: middle;\n",
       "    }\n",
       "\n",
       "    .dataframe tbody tr th {\n",
       "        vertical-align: top;\n",
       "    }\n",
       "\n",
       "    .dataframe thead th {\n",
       "        text-align: right;\n",
       "    }\n",
       "</style>\n",
       "<table border=\"1\" class=\"dataframe\">\n",
       "  <thead>\n",
       "    <tr style=\"text-align: right;\">\n",
       "      <th></th>\n",
       "      <th>client_id</th>\n",
       "      <th>age_bracket</th>\n",
       "      <th>job</th>\n",
       "      <th>marital</th>\n",
       "      <th>education</th>\n",
       "      <th>has_housing_loan</th>\n",
       "      <th>has_personal_loan</th>\n",
       "      <th>prev_call_duration</th>\n",
       "      <th>days_since_last_call</th>\n",
       "      <th>num_contacts_prev</th>\n",
       "      <th>poutcome</th>\n",
       "      <th>contact_date</th>\n",
       "      <th>cpi</th>\n",
       "      <th>subs_deposit</th>\n",
       "    </tr>\n",
       "  </thead>\n",
       "  <tbody>\n",
       "    <tr>\n",
       "      <th>0</th>\n",
       "      <td>41020</td>\n",
       "      <td>41-60</td>\n",
       "      <td>white-collar</td>\n",
       "      <td>divorced</td>\n",
       "      <td>bachelors</td>\n",
       "      <td>yes</td>\n",
       "      <td>no</td>\n",
       "      <td>283</td>\n",
       "      <td>3</td>\n",
       "      <td>1</td>\n",
       "      <td>success</td>\n",
       "      <td>2018-07-09</td>\n",
       "      <td>92.379</td>\n",
       "      <td>1</td>\n",
       "    </tr>\n",
       "    <tr>\n",
       "      <th>1</th>\n",
       "      <td>23720</td>\n",
       "      <td>60+</td>\n",
       "      <td>other</td>\n",
       "      <td>divorced</td>\n",
       "      <td>secondary</td>\n",
       "      <td>no</td>\n",
       "      <td>yes</td>\n",
       "      <td>169</td>\n",
       "      <td>6</td>\n",
       "      <td>2</td>\n",
       "      <td>success</td>\n",
       "      <td>2018-05-07</td>\n",
       "      <td>94.215</td>\n",
       "      <td>1</td>\n",
       "    </tr>\n",
       "    <tr>\n",
       "      <th>2</th>\n",
       "      <td>29378</td>\n",
       "      <td>41-60</td>\n",
       "      <td>white-collar</td>\n",
       "      <td>married</td>\n",
       "      <td>bachelors</td>\n",
       "      <td>no</td>\n",
       "      <td>no</td>\n",
       "      <td>552</td>\n",
       "      <td>999</td>\n",
       "      <td>0</td>\n",
       "      <td>nonexistent</td>\n",
       "      <td>2018-01-08</td>\n",
       "      <td>93.444</td>\n",
       "      <td>1</td>\n",
       "    </tr>\n",
       "    <tr>\n",
       "      <th>3</th>\n",
       "      <td>36636</td>\n",
       "      <td>25-40</td>\n",
       "      <td>technician</td>\n",
       "      <td>single</td>\n",
       "      <td>senior_secondary</td>\n",
       "      <td>yes</td>\n",
       "      <td>yes</td>\n",
       "      <td>206</td>\n",
       "      <td>999</td>\n",
       "      <td>0</td>\n",
       "      <td>nonexistent</td>\n",
       "      <td>2018-02-11</td>\n",
       "      <td>93.200</td>\n",
       "      <td>0</td>\n",
       "    </tr>\n",
       "    <tr>\n",
       "      <th>4</th>\n",
       "      <td>38229</td>\n",
       "      <td>18-24</td>\n",
       "      <td>white-collar</td>\n",
       "      <td>single</td>\n",
       "      <td>bachelors</td>\n",
       "      <td>no</td>\n",
       "      <td>no</td>\n",
       "      <td>341</td>\n",
       "      <td>999</td>\n",
       "      <td>0</td>\n",
       "      <td>nonexistent</td>\n",
       "      <td>2018-04-04</td>\n",
       "      <td>93.075</td>\n",
       "      <td>1</td>\n",
       "    </tr>\n",
       "    <tr>\n",
       "      <th>...</th>\n",
       "      <td>...</td>\n",
       "      <td>...</td>\n",
       "      <td>...</td>\n",
       "      <td>...</td>\n",
       "      <td>...</td>\n",
       "      <td>...</td>\n",
       "      <td>...</td>\n",
       "      <td>...</td>\n",
       "      <td>...</td>\n",
       "      <td>...</td>\n",
       "      <td>...</td>\n",
       "      <td>...</td>\n",
       "      <td>...</td>\n",
       "      <td>...</td>\n",
       "    </tr>\n",
       "    <tr>\n",
       "      <th>3995</th>\n",
       "      <td>7519</td>\n",
       "      <td>41-60</td>\n",
       "      <td>entrepreneur</td>\n",
       "      <td>single</td>\n",
       "      <td>secondary</td>\n",
       "      <td>yes</td>\n",
       "      <td>no</td>\n",
       "      <td>396</td>\n",
       "      <td>999</td>\n",
       "      <td>0</td>\n",
       "      <td>nonexistent</td>\n",
       "      <td>2018-02-05</td>\n",
       "      <td>92.893</td>\n",
       "      <td>1</td>\n",
       "    </tr>\n",
       "    <tr>\n",
       "      <th>3996</th>\n",
       "      <td>29822</td>\n",
       "      <td>41-60</td>\n",
       "      <td>white-collar</td>\n",
       "      <td>married</td>\n",
       "      <td>bachelors</td>\n",
       "      <td>yes</td>\n",
       "      <td>no</td>\n",
       "      <td>115</td>\n",
       "      <td>999</td>\n",
       "      <td>0</td>\n",
       "      <td>nonexistent</td>\n",
       "      <td>2018-01-08</td>\n",
       "      <td>93.444</td>\n",
       "      <td>0</td>\n",
       "    </tr>\n",
       "    <tr>\n",
       "      <th>3997</th>\n",
       "      <td>24462</td>\n",
       "      <td>25-40</td>\n",
       "      <td>white-collar</td>\n",
       "      <td>married</td>\n",
       "      <td>senior_secondary</td>\n",
       "      <td>yes</td>\n",
       "      <td>no</td>\n",
       "      <td>214</td>\n",
       "      <td>999</td>\n",
       "      <td>0</td>\n",
       "      <td>nonexistent</td>\n",
       "      <td>2018-06-07</td>\n",
       "      <td>93.918</td>\n",
       "      <td>0</td>\n",
       "    </tr>\n",
       "    <tr>\n",
       "      <th>3998</th>\n",
       "      <td>26089</td>\n",
       "      <td>25-40</td>\n",
       "      <td>pink-collar</td>\n",
       "      <td>married</td>\n",
       "      <td>secondary</td>\n",
       "      <td>yes</td>\n",
       "      <td>no</td>\n",
       "      <td>76</td>\n",
       "      <td>999</td>\n",
       "      <td>0</td>\n",
       "      <td>nonexistent</td>\n",
       "      <td>2018-02-07</td>\n",
       "      <td>93.918</td>\n",
       "      <td>0</td>\n",
       "    </tr>\n",
       "    <tr>\n",
       "      <th>3999</th>\n",
       "      <td>40631</td>\n",
       "      <td>25-40</td>\n",
       "      <td>white-collar</td>\n",
       "      <td>single</td>\n",
       "      <td>bachelors</td>\n",
       "      <td>yes</td>\n",
       "      <td>no</td>\n",
       "      <td>368</td>\n",
       "      <td>999</td>\n",
       "      <td>0</td>\n",
       "      <td>nonexistent</td>\n",
       "      <td>2018-04-09</td>\n",
       "      <td>92.379</td>\n",
       "      <td>0</td>\n",
       "    </tr>\n",
       "  </tbody>\n",
       "</table>\n",
       "<p>4000 rows × 14 columns</p>\n",
       "</div>"
      ],
      "text/plain": [
       "     client_id age_bracket           job   marital         education  \\\n",
       "0        41020       41-60  white-collar  divorced         bachelors   \n",
       "1        23720         60+         other  divorced         secondary   \n",
       "2        29378       41-60  white-collar   married         bachelors   \n",
       "3        36636       25-40    technician    single  senior_secondary   \n",
       "4        38229       18-24  white-collar    single         bachelors   \n",
       "...        ...         ...           ...       ...               ...   \n",
       "3995      7519       41-60  entrepreneur    single         secondary   \n",
       "3996     29822       41-60  white-collar   married         bachelors   \n",
       "3997     24462       25-40  white-collar   married  senior_secondary   \n",
       "3998     26089       25-40   pink-collar   married         secondary   \n",
       "3999     40631       25-40  white-collar    single         bachelors   \n",
       "\n",
       "     has_housing_loan has_personal_loan  prev_call_duration  \\\n",
       "0                 yes                no                 283   \n",
       "1                  no               yes                 169   \n",
       "2                  no                no                 552   \n",
       "3                 yes               yes                 206   \n",
       "4                  no                no                 341   \n",
       "...               ...               ...                 ...   \n",
       "3995              yes                no                 396   \n",
       "3996              yes                no                 115   \n",
       "3997              yes                no                 214   \n",
       "3998              yes                no                  76   \n",
       "3999              yes                no                 368   \n",
       "\n",
       "      days_since_last_call  num_contacts_prev     poutcome contact_date  \\\n",
       "0                        3                  1      success   2018-07-09   \n",
       "1                        6                  2      success   2018-05-07   \n",
       "2                      999                  0  nonexistent   2018-01-08   \n",
       "3                      999                  0  nonexistent   2018-02-11   \n",
       "4                      999                  0  nonexistent   2018-04-04   \n",
       "...                    ...                ...          ...          ...   \n",
       "3995                   999                  0  nonexistent   2018-02-05   \n",
       "3996                   999                  0  nonexistent   2018-01-08   \n",
       "3997                   999                  0  nonexistent   2018-06-07   \n",
       "3998                   999                  0  nonexistent   2018-02-07   \n",
       "3999                   999                  0  nonexistent   2018-04-09   \n",
       "\n",
       "         cpi  subs_deposit  \n",
       "0     92.379             1  \n",
       "1     94.215             1  \n",
       "2     93.444             1  \n",
       "3     93.200             0  \n",
       "4     93.075             1  \n",
       "...      ...           ...  \n",
       "3995  92.893             1  \n",
       "3996  93.444             0  \n",
       "3997  93.918             0  \n",
       "3998  93.918             0  \n",
       "3999  92.379             0  \n",
       "\n",
       "[4000 rows x 14 columns]"
      ]
     },
     "execution_count": 9,
     "metadata": {},
     "output_type": "execute_result"
    }
   ],
   "source": [
    "df_raw"
   ]
  },
  {
   "cell_type": "code",
   "execution_count": 10,
   "metadata": {},
   "outputs": [
    {
     "data": {
      "text/html": [
       "<div>\n",
       "<style scoped>\n",
       "    .dataframe tbody tr th:only-of-type {\n",
       "        vertical-align: middle;\n",
       "    }\n",
       "\n",
       "    .dataframe tbody tr th {\n",
       "        vertical-align: top;\n",
       "    }\n",
       "\n",
       "    .dataframe thead th {\n",
       "        text-align: right;\n",
       "    }\n",
       "</style>\n",
       "<table border=\"1\" class=\"dataframe\">\n",
       "  <thead>\n",
       "    <tr style=\"text-align: right;\">\n",
       "      <th></th>\n",
       "      <th>age_bracket</th>\n",
       "      <th>job</th>\n",
       "      <th>marital</th>\n",
       "      <th>education</th>\n",
       "      <th>has_housing_loan</th>\n",
       "      <th>has_personal_loan</th>\n",
       "      <th>prev_call_duration</th>\n",
       "      <th>days_since_last_call</th>\n",
       "      <th>num_contacts_prev</th>\n",
       "      <th>poutcome</th>\n",
       "      <th>contact_date</th>\n",
       "      <th>cpi</th>\n",
       "      <th>subs_deposit</th>\n",
       "    </tr>\n",
       "    <tr>\n",
       "      <th>client_id</th>\n",
       "      <th></th>\n",
       "      <th></th>\n",
       "      <th></th>\n",
       "      <th></th>\n",
       "      <th></th>\n",
       "      <th></th>\n",
       "      <th></th>\n",
       "      <th></th>\n",
       "      <th></th>\n",
       "      <th></th>\n",
       "      <th></th>\n",
       "      <th></th>\n",
       "      <th></th>\n",
       "    </tr>\n",
       "  </thead>\n",
       "  <tbody>\n",
       "    <tr>\n",
       "      <th>41020</th>\n",
       "      <td>41-60</td>\n",
       "      <td>white-collar</td>\n",
       "      <td>divorced</td>\n",
       "      <td>bachelors</td>\n",
       "      <td>yes</td>\n",
       "      <td>no</td>\n",
       "      <td>283.0</td>\n",
       "      <td>3</td>\n",
       "      <td>1</td>\n",
       "      <td>success</td>\n",
       "      <td>2018-07-09</td>\n",
       "      <td>92.379</td>\n",
       "      <td>yes</td>\n",
       "    </tr>\n",
       "    <tr>\n",
       "      <th>23720</th>\n",
       "      <td>60+</td>\n",
       "      <td>other</td>\n",
       "      <td>divorced</td>\n",
       "      <td>secondary</td>\n",
       "      <td>no</td>\n",
       "      <td>yes</td>\n",
       "      <td>169.0</td>\n",
       "      <td>6</td>\n",
       "      <td>2</td>\n",
       "      <td>success</td>\n",
       "      <td>2018-05-07</td>\n",
       "      <td>94.215</td>\n",
       "      <td>yes</td>\n",
       "    </tr>\n",
       "    <tr>\n",
       "      <th>29378</th>\n",
       "      <td>41-60</td>\n",
       "      <td>white-collar</td>\n",
       "      <td>married</td>\n",
       "      <td>bachelors</td>\n",
       "      <td>no</td>\n",
       "      <td>no</td>\n",
       "      <td>552.0</td>\n",
       "      <td>-1</td>\n",
       "      <td>0</td>\n",
       "      <td>nonexistent</td>\n",
       "      <td>2018-01-08</td>\n",
       "      <td>93.444</td>\n",
       "      <td>yes</td>\n",
       "    </tr>\n",
       "    <tr>\n",
       "      <th>36636</th>\n",
       "      <td>25-40</td>\n",
       "      <td>technician</td>\n",
       "      <td>single</td>\n",
       "      <td>senior_secondary</td>\n",
       "      <td>yes</td>\n",
       "      <td>yes</td>\n",
       "      <td>206.0</td>\n",
       "      <td>-1</td>\n",
       "      <td>0</td>\n",
       "      <td>nonexistent</td>\n",
       "      <td>2018-02-11</td>\n",
       "      <td>93.200</td>\n",
       "      <td>no</td>\n",
       "    </tr>\n",
       "    <tr>\n",
       "      <th>38229</th>\n",
       "      <td>18-24</td>\n",
       "      <td>white-collar</td>\n",
       "      <td>single</td>\n",
       "      <td>bachelors</td>\n",
       "      <td>no</td>\n",
       "      <td>no</td>\n",
       "      <td>341.0</td>\n",
       "      <td>-1</td>\n",
       "      <td>0</td>\n",
       "      <td>nonexistent</td>\n",
       "      <td>2018-04-04</td>\n",
       "      <td>93.075</td>\n",
       "      <td>yes</td>\n",
       "    </tr>\n",
       "    <tr>\n",
       "      <th>...</th>\n",
       "      <td>...</td>\n",
       "      <td>...</td>\n",
       "      <td>...</td>\n",
       "      <td>...</td>\n",
       "      <td>...</td>\n",
       "      <td>...</td>\n",
       "      <td>...</td>\n",
       "      <td>...</td>\n",
       "      <td>...</td>\n",
       "      <td>...</td>\n",
       "      <td>...</td>\n",
       "      <td>...</td>\n",
       "      <td>...</td>\n",
       "    </tr>\n",
       "    <tr>\n",
       "      <th>7519</th>\n",
       "      <td>41-60</td>\n",
       "      <td>entrepreneur</td>\n",
       "      <td>single</td>\n",
       "      <td>secondary</td>\n",
       "      <td>yes</td>\n",
       "      <td>no</td>\n",
       "      <td>396.0</td>\n",
       "      <td>-1</td>\n",
       "      <td>0</td>\n",
       "      <td>nonexistent</td>\n",
       "      <td>2018-02-05</td>\n",
       "      <td>92.893</td>\n",
       "      <td>yes</td>\n",
       "    </tr>\n",
       "    <tr>\n",
       "      <th>29822</th>\n",
       "      <td>41-60</td>\n",
       "      <td>white-collar</td>\n",
       "      <td>married</td>\n",
       "      <td>bachelors</td>\n",
       "      <td>yes</td>\n",
       "      <td>no</td>\n",
       "      <td>115.0</td>\n",
       "      <td>-1</td>\n",
       "      <td>0</td>\n",
       "      <td>nonexistent</td>\n",
       "      <td>2018-01-08</td>\n",
       "      <td>93.444</td>\n",
       "      <td>no</td>\n",
       "    </tr>\n",
       "    <tr>\n",
       "      <th>24462</th>\n",
       "      <td>25-40</td>\n",
       "      <td>white-collar</td>\n",
       "      <td>married</td>\n",
       "      <td>senior_secondary</td>\n",
       "      <td>yes</td>\n",
       "      <td>no</td>\n",
       "      <td>214.0</td>\n",
       "      <td>-1</td>\n",
       "      <td>0</td>\n",
       "      <td>nonexistent</td>\n",
       "      <td>2018-06-07</td>\n",
       "      <td>93.918</td>\n",
       "      <td>no</td>\n",
       "    </tr>\n",
       "    <tr>\n",
       "      <th>26089</th>\n",
       "      <td>25-40</td>\n",
       "      <td>pink-collar</td>\n",
       "      <td>married</td>\n",
       "      <td>secondary</td>\n",
       "      <td>yes</td>\n",
       "      <td>no</td>\n",
       "      <td>76.0</td>\n",
       "      <td>-1</td>\n",
       "      <td>0</td>\n",
       "      <td>nonexistent</td>\n",
       "      <td>2018-02-07</td>\n",
       "      <td>93.918</td>\n",
       "      <td>no</td>\n",
       "    </tr>\n",
       "    <tr>\n",
       "      <th>40631</th>\n",
       "      <td>25-40</td>\n",
       "      <td>white-collar</td>\n",
       "      <td>single</td>\n",
       "      <td>bachelors</td>\n",
       "      <td>yes</td>\n",
       "      <td>no</td>\n",
       "      <td>368.0</td>\n",
       "      <td>-1</td>\n",
       "      <td>0</td>\n",
       "      <td>nonexistent</td>\n",
       "      <td>2018-04-09</td>\n",
       "      <td>92.379</td>\n",
       "      <td>no</td>\n",
       "    </tr>\n",
       "  </tbody>\n",
       "</table>\n",
       "<p>4000 rows × 13 columns</p>\n",
       "</div>"
      ],
      "text/plain": [
       "          age_bracket           job   marital         education  \\\n",
       "client_id                                                         \n",
       "41020           41-60  white-collar  divorced         bachelors   \n",
       "23720             60+         other  divorced         secondary   \n",
       "29378           41-60  white-collar   married         bachelors   \n",
       "36636           25-40    technician    single  senior_secondary   \n",
       "38229           18-24  white-collar    single         bachelors   \n",
       "...               ...           ...       ...               ...   \n",
       "7519            41-60  entrepreneur    single         secondary   \n",
       "29822           41-60  white-collar   married         bachelors   \n",
       "24462           25-40  white-collar   married  senior_secondary   \n",
       "26089           25-40   pink-collar   married         secondary   \n",
       "40631           25-40  white-collar    single         bachelors   \n",
       "\n",
       "          has_housing_loan has_personal_loan  prev_call_duration  \\\n",
       "client_id                                                          \n",
       "41020                  yes                no               283.0   \n",
       "23720                   no               yes               169.0   \n",
       "29378                   no                no               552.0   \n",
       "36636                  yes               yes               206.0   \n",
       "38229                   no                no               341.0   \n",
       "...                    ...               ...                 ...   \n",
       "7519                   yes                no               396.0   \n",
       "29822                  yes                no               115.0   \n",
       "24462                  yes                no               214.0   \n",
       "26089                  yes                no                76.0   \n",
       "40631                  yes                no               368.0   \n",
       "\n",
       "           days_since_last_call  num_contacts_prev     poutcome contact_date  \\\n",
       "client_id                                                                      \n",
       "41020                         3                  1      success   2018-07-09   \n",
       "23720                         6                  2      success   2018-05-07   \n",
       "29378                        -1                  0  nonexistent   2018-01-08   \n",
       "36636                        -1                  0  nonexistent   2018-02-11   \n",
       "38229                        -1                  0  nonexistent   2018-04-04   \n",
       "...                         ...                ...          ...          ...   \n",
       "7519                         -1                  0  nonexistent   2018-02-05   \n",
       "29822                        -1                  0  nonexistent   2018-01-08   \n",
       "24462                        -1                  0  nonexistent   2018-06-07   \n",
       "26089                        -1                  0  nonexistent   2018-02-07   \n",
       "40631                        -1                  0  nonexistent   2018-04-09   \n",
       "\n",
       "              cpi subs_deposit  \n",
       "client_id                       \n",
       "41020      92.379          yes  \n",
       "23720      94.215          yes  \n",
       "29378      93.444          yes  \n",
       "36636      93.200           no  \n",
       "38229      93.075          yes  \n",
       "...           ...          ...  \n",
       "7519       92.893          yes  \n",
       "29822      93.444           no  \n",
       "24462      93.918           no  \n",
       "26089      93.918           no  \n",
       "40631      92.379           no  \n",
       "\n",
       "[4000 rows x 13 columns]"
      ]
     },
     "execution_count": 10,
     "metadata": {},
     "output_type": "execute_result"
    }
   ],
   "source": [
    "# make a copy of the raw data\n",
    "df_clean_raw = df_raw.copy()\n",
    "# set client_id as the index\n",
    "df_clean_raw.set_index('client_id', inplace=True)\n",
    "# normalize the prev_call duration.\n",
    "# reset outliters\n",
    "df_clean_raw.prev_call_duration = df_clean_raw.prev_call_duration.apply(lambda x: x/100 if x >120000 else x)\n",
    "# set upperbound to 4200\n",
    "df_clean_raw.prev_call_duration = df_clean_raw.prev_call_duration.apply(lambda x: x if x < 4200 else 4200)\n",
    "# normalize the days_since_last_call, replace 999 to -1\n",
    "df_clean_raw.days_since_last_call = df_clean_raw.days_since_last_call.apply(lambda x: -1 if x == 999 else x)\n",
    "# normalize the cpi\n",
    "# reset outliers\n",
    "df_clean_raw.cpi = df_clean_raw.cpi.apply(lambda x: x/10 if x >100 else x)\n",
    "# set upperbound to 100\n",
    "df_clean_raw.cpi = df_clean_raw.cpi.apply(lambda x: 100 if x > 100 else x)\n",
    "df_clean_raw.dropna(inplace=True)\n",
    "\n",
    "# replace subs_deposit with Yes to 1 and No to 0\n",
    "df_clean_raw.subs_deposit = df_clean_raw.subs_deposit.apply(lambda x: 'yes' if x == 1 else 'no')\n",
    "\n",
    "\n",
    "df_clean_raw"
   ]
  },
  {
   "cell_type": "code",
   "execution_count": 11,
   "metadata": {},
   "outputs": [],
   "source": [
    "df_clean_raw.to_csv('../data/processed/df_clean_raw.csv')"
   ]
  },
  {
   "cell_type": "code",
   "execution_count": 12,
   "metadata": {},
   "outputs": [],
   "source": [
    "df_clean_raw['contact_month'] = df_clean_raw.contact_date.dt.month\n",
    "df_clean_raw['contact_day'] = df_clean_raw.contact_date.dt.day\n",
    "# we could also find the more granular features, like week and weekday\n",
    "df_clean_raw['contact_week'] = df_clean_raw.contact_date.dt.isocalendar().week  # week of the year similar to the month but with more granularity\n",
    "# we also care about people's mode on different days, for example, people who contacted on sunday, monday, tuesday, etc.\n",
    "df_clean_raw['contact_weekday'] = df_clean_raw.contact_date.dt.weekday + 1 # weekday of the week, 1 is Monday, 7 is Sunday"
   ]
  },
  {
   "cell_type": "code",
   "execution_count": 13,
   "metadata": {},
   "outputs": [
    {
     "data": {
      "text/html": [
       "<div>\n",
       "<style scoped>\n",
       "    .dataframe tbody tr th:only-of-type {\n",
       "        vertical-align: middle;\n",
       "    }\n",
       "\n",
       "    .dataframe tbody tr th {\n",
       "        vertical-align: top;\n",
       "    }\n",
       "\n",
       "    .dataframe thead th {\n",
       "        text-align: right;\n",
       "    }\n",
       "</style>\n",
       "<table border=\"1\" class=\"dataframe\">\n",
       "  <thead>\n",
       "    <tr style=\"text-align: right;\">\n",
       "      <th></th>\n",
       "      <th>age_bracket</th>\n",
       "      <th>job</th>\n",
       "      <th>marital</th>\n",
       "      <th>education</th>\n",
       "      <th>has_housing_loan</th>\n",
       "      <th>has_personal_loan</th>\n",
       "      <th>prev_call_duration</th>\n",
       "      <th>days_since_last_call</th>\n",
       "      <th>num_contacts_prev</th>\n",
       "      <th>poutcome</th>\n",
       "      <th>contact_date</th>\n",
       "      <th>cpi</th>\n",
       "      <th>subs_deposit</th>\n",
       "      <th>contact_month</th>\n",
       "      <th>contact_day</th>\n",
       "      <th>contact_week</th>\n",
       "      <th>contact_weekday</th>\n",
       "    </tr>\n",
       "    <tr>\n",
       "      <th>client_id</th>\n",
       "      <th></th>\n",
       "      <th></th>\n",
       "      <th></th>\n",
       "      <th></th>\n",
       "      <th></th>\n",
       "      <th></th>\n",
       "      <th></th>\n",
       "      <th></th>\n",
       "      <th></th>\n",
       "      <th></th>\n",
       "      <th></th>\n",
       "      <th></th>\n",
       "      <th></th>\n",
       "      <th></th>\n",
       "      <th></th>\n",
       "      <th></th>\n",
       "      <th></th>\n",
       "    </tr>\n",
       "  </thead>\n",
       "  <tbody>\n",
       "    <tr>\n",
       "      <th>41020</th>\n",
       "      <td>41-60</td>\n",
       "      <td>white-collar</td>\n",
       "      <td>divorced</td>\n",
       "      <td>bachelors</td>\n",
       "      <td>yes</td>\n",
       "      <td>no</td>\n",
       "      <td>283.0</td>\n",
       "      <td>3</td>\n",
       "      <td>1</td>\n",
       "      <td>success</td>\n",
       "      <td>2018-07-09</td>\n",
       "      <td>92.379</td>\n",
       "      <td>yes</td>\n",
       "      <td>7</td>\n",
       "      <td>9</td>\n",
       "      <td>28</td>\n",
       "      <td>1</td>\n",
       "    </tr>\n",
       "    <tr>\n",
       "      <th>23720</th>\n",
       "      <td>60+</td>\n",
       "      <td>other</td>\n",
       "      <td>divorced</td>\n",
       "      <td>secondary</td>\n",
       "      <td>no</td>\n",
       "      <td>yes</td>\n",
       "      <td>169.0</td>\n",
       "      <td>6</td>\n",
       "      <td>2</td>\n",
       "      <td>success</td>\n",
       "      <td>2018-05-07</td>\n",
       "      <td>94.215</td>\n",
       "      <td>yes</td>\n",
       "      <td>5</td>\n",
       "      <td>7</td>\n",
       "      <td>19</td>\n",
       "      <td>1</td>\n",
       "    </tr>\n",
       "    <tr>\n",
       "      <th>29378</th>\n",
       "      <td>41-60</td>\n",
       "      <td>white-collar</td>\n",
       "      <td>married</td>\n",
       "      <td>bachelors</td>\n",
       "      <td>no</td>\n",
       "      <td>no</td>\n",
       "      <td>552.0</td>\n",
       "      <td>-1</td>\n",
       "      <td>0</td>\n",
       "      <td>nonexistent</td>\n",
       "      <td>2018-01-08</td>\n",
       "      <td>93.444</td>\n",
       "      <td>yes</td>\n",
       "      <td>1</td>\n",
       "      <td>8</td>\n",
       "      <td>2</td>\n",
       "      <td>1</td>\n",
       "    </tr>\n",
       "    <tr>\n",
       "      <th>36636</th>\n",
       "      <td>25-40</td>\n",
       "      <td>technician</td>\n",
       "      <td>single</td>\n",
       "      <td>senior_secondary</td>\n",
       "      <td>yes</td>\n",
       "      <td>yes</td>\n",
       "      <td>206.0</td>\n",
       "      <td>-1</td>\n",
       "      <td>0</td>\n",
       "      <td>nonexistent</td>\n",
       "      <td>2018-02-11</td>\n",
       "      <td>93.200</td>\n",
       "      <td>no</td>\n",
       "      <td>2</td>\n",
       "      <td>11</td>\n",
       "      <td>6</td>\n",
       "      <td>7</td>\n",
       "    </tr>\n",
       "    <tr>\n",
       "      <th>38229</th>\n",
       "      <td>18-24</td>\n",
       "      <td>white-collar</td>\n",
       "      <td>single</td>\n",
       "      <td>bachelors</td>\n",
       "      <td>no</td>\n",
       "      <td>no</td>\n",
       "      <td>341.0</td>\n",
       "      <td>-1</td>\n",
       "      <td>0</td>\n",
       "      <td>nonexistent</td>\n",
       "      <td>2018-04-04</td>\n",
       "      <td>93.075</td>\n",
       "      <td>yes</td>\n",
       "      <td>4</td>\n",
       "      <td>4</td>\n",
       "      <td>14</td>\n",
       "      <td>3</td>\n",
       "    </tr>\n",
       "    <tr>\n",
       "      <th>...</th>\n",
       "      <td>...</td>\n",
       "      <td>...</td>\n",
       "      <td>...</td>\n",
       "      <td>...</td>\n",
       "      <td>...</td>\n",
       "      <td>...</td>\n",
       "      <td>...</td>\n",
       "      <td>...</td>\n",
       "      <td>...</td>\n",
       "      <td>...</td>\n",
       "      <td>...</td>\n",
       "      <td>...</td>\n",
       "      <td>...</td>\n",
       "      <td>...</td>\n",
       "      <td>...</td>\n",
       "      <td>...</td>\n",
       "      <td>...</td>\n",
       "    </tr>\n",
       "    <tr>\n",
       "      <th>7519</th>\n",
       "      <td>41-60</td>\n",
       "      <td>entrepreneur</td>\n",
       "      <td>single</td>\n",
       "      <td>secondary</td>\n",
       "      <td>yes</td>\n",
       "      <td>no</td>\n",
       "      <td>396.0</td>\n",
       "      <td>-1</td>\n",
       "      <td>0</td>\n",
       "      <td>nonexistent</td>\n",
       "      <td>2018-02-05</td>\n",
       "      <td>92.893</td>\n",
       "      <td>yes</td>\n",
       "      <td>2</td>\n",
       "      <td>5</td>\n",
       "      <td>6</td>\n",
       "      <td>1</td>\n",
       "    </tr>\n",
       "    <tr>\n",
       "      <th>29822</th>\n",
       "      <td>41-60</td>\n",
       "      <td>white-collar</td>\n",
       "      <td>married</td>\n",
       "      <td>bachelors</td>\n",
       "      <td>yes</td>\n",
       "      <td>no</td>\n",
       "      <td>115.0</td>\n",
       "      <td>-1</td>\n",
       "      <td>0</td>\n",
       "      <td>nonexistent</td>\n",
       "      <td>2018-01-08</td>\n",
       "      <td>93.444</td>\n",
       "      <td>no</td>\n",
       "      <td>1</td>\n",
       "      <td>8</td>\n",
       "      <td>2</td>\n",
       "      <td>1</td>\n",
       "    </tr>\n",
       "    <tr>\n",
       "      <th>24462</th>\n",
       "      <td>25-40</td>\n",
       "      <td>white-collar</td>\n",
       "      <td>married</td>\n",
       "      <td>senior_secondary</td>\n",
       "      <td>yes</td>\n",
       "      <td>no</td>\n",
       "      <td>214.0</td>\n",
       "      <td>-1</td>\n",
       "      <td>0</td>\n",
       "      <td>nonexistent</td>\n",
       "      <td>2018-06-07</td>\n",
       "      <td>93.918</td>\n",
       "      <td>no</td>\n",
       "      <td>6</td>\n",
       "      <td>7</td>\n",
       "      <td>23</td>\n",
       "      <td>4</td>\n",
       "    </tr>\n",
       "    <tr>\n",
       "      <th>26089</th>\n",
       "      <td>25-40</td>\n",
       "      <td>pink-collar</td>\n",
       "      <td>married</td>\n",
       "      <td>secondary</td>\n",
       "      <td>yes</td>\n",
       "      <td>no</td>\n",
       "      <td>76.0</td>\n",
       "      <td>-1</td>\n",
       "      <td>0</td>\n",
       "      <td>nonexistent</td>\n",
       "      <td>2018-02-07</td>\n",
       "      <td>93.918</td>\n",
       "      <td>no</td>\n",
       "      <td>2</td>\n",
       "      <td>7</td>\n",
       "      <td>6</td>\n",
       "      <td>3</td>\n",
       "    </tr>\n",
       "    <tr>\n",
       "      <th>40631</th>\n",
       "      <td>25-40</td>\n",
       "      <td>white-collar</td>\n",
       "      <td>single</td>\n",
       "      <td>bachelors</td>\n",
       "      <td>yes</td>\n",
       "      <td>no</td>\n",
       "      <td>368.0</td>\n",
       "      <td>-1</td>\n",
       "      <td>0</td>\n",
       "      <td>nonexistent</td>\n",
       "      <td>2018-04-09</td>\n",
       "      <td>92.379</td>\n",
       "      <td>no</td>\n",
       "      <td>4</td>\n",
       "      <td>9</td>\n",
       "      <td>15</td>\n",
       "      <td>1</td>\n",
       "    </tr>\n",
       "  </tbody>\n",
       "</table>\n",
       "<p>4000 rows × 17 columns</p>\n",
       "</div>"
      ],
      "text/plain": [
       "          age_bracket           job   marital         education  \\\n",
       "client_id                                                         \n",
       "41020           41-60  white-collar  divorced         bachelors   \n",
       "23720             60+         other  divorced         secondary   \n",
       "29378           41-60  white-collar   married         bachelors   \n",
       "36636           25-40    technician    single  senior_secondary   \n",
       "38229           18-24  white-collar    single         bachelors   \n",
       "...               ...           ...       ...               ...   \n",
       "7519            41-60  entrepreneur    single         secondary   \n",
       "29822           41-60  white-collar   married         bachelors   \n",
       "24462           25-40  white-collar   married  senior_secondary   \n",
       "26089           25-40   pink-collar   married         secondary   \n",
       "40631           25-40  white-collar    single         bachelors   \n",
       "\n",
       "          has_housing_loan has_personal_loan  prev_call_duration  \\\n",
       "client_id                                                          \n",
       "41020                  yes                no               283.0   \n",
       "23720                   no               yes               169.0   \n",
       "29378                   no                no               552.0   \n",
       "36636                  yes               yes               206.0   \n",
       "38229                   no                no               341.0   \n",
       "...                    ...               ...                 ...   \n",
       "7519                   yes                no               396.0   \n",
       "29822                  yes                no               115.0   \n",
       "24462                  yes                no               214.0   \n",
       "26089                  yes                no                76.0   \n",
       "40631                  yes                no               368.0   \n",
       "\n",
       "           days_since_last_call  num_contacts_prev     poutcome contact_date  \\\n",
       "client_id                                                                      \n",
       "41020                         3                  1      success   2018-07-09   \n",
       "23720                         6                  2      success   2018-05-07   \n",
       "29378                        -1                  0  nonexistent   2018-01-08   \n",
       "36636                        -1                  0  nonexistent   2018-02-11   \n",
       "38229                        -1                  0  nonexistent   2018-04-04   \n",
       "...                         ...                ...          ...          ...   \n",
       "7519                         -1                  0  nonexistent   2018-02-05   \n",
       "29822                        -1                  0  nonexistent   2018-01-08   \n",
       "24462                        -1                  0  nonexistent   2018-06-07   \n",
       "26089                        -1                  0  nonexistent   2018-02-07   \n",
       "40631                        -1                  0  nonexistent   2018-04-09   \n",
       "\n",
       "              cpi subs_deposit  contact_month  contact_day  contact_week  \\\n",
       "client_id                                                                  \n",
       "41020      92.379          yes              7            9            28   \n",
       "23720      94.215          yes              5            7            19   \n",
       "29378      93.444          yes              1            8             2   \n",
       "36636      93.200           no              2           11             6   \n",
       "38229      93.075          yes              4            4            14   \n",
       "...           ...          ...            ...          ...           ...   \n",
       "7519       92.893          yes              2            5             6   \n",
       "29822      93.444           no              1            8             2   \n",
       "24462      93.918           no              6            7            23   \n",
       "26089      93.918           no              2            7             6   \n",
       "40631      92.379           no              4            9            15   \n",
       "\n",
       "           contact_weekday  \n",
       "client_id                   \n",
       "41020                    1  \n",
       "23720                    1  \n",
       "29378                    1  \n",
       "36636                    7  \n",
       "38229                    3  \n",
       "...                    ...  \n",
       "7519                     1  \n",
       "29822                    1  \n",
       "24462                    4  \n",
       "26089                    3  \n",
       "40631                    1  \n",
       "\n",
       "[4000 rows x 17 columns]"
      ]
     },
     "execution_count": 13,
     "metadata": {},
     "output_type": "execute_result"
    }
   ],
   "source": [
    "df_clean_raw"
   ]
  },
  {
   "cell_type": "markdown",
   "metadata": {},
   "source": []
  },
  {
   "cell_type": "code",
   "execution_count": 14,
   "metadata": {},
   "outputs": [],
   "source": [
    "df_clean_raw.to_csv('../data/processed/df_clean_raw_enhanced.csv')"
   ]
  },
  {
   "cell_type": "markdown",
   "metadata": {},
   "source": [
    "## END"
   ]
  }
 ],
 "metadata": {
  "interpreter": {
   "hash": "a093a032676e37e8cef57c8132808b5292abfee6a72b56b4b4013844536fed1b"
  },
  "kernelspec": {
   "display_name": "Python 3.8.12 ('autogluon')",
   "language": "python",
   "name": "python3"
  },
  "language_info": {
   "codemirror_mode": {
    "name": "ipython",
    "version": 3
   },
   "file_extension": ".py",
   "mimetype": "text/x-python",
   "name": "python",
   "nbconvert_exporter": "python",
   "pygments_lexer": "ipython3",
   "version": "3.8.12"
  },
  "orig_nbformat": 4
 },
 "nbformat": 4,
 "nbformat_minor": 2
}
