{
 "cells": [
  {
   "cell_type": "markdown",
   "metadata": {},
   "source": [
    "# Data Science Challenge"
   ]
  },
  {
   "cell_type": "code",
   "execution_count": 2,
   "metadata": {},
   "outputs": [],
   "source": [
    "# If you'd like to install packages that aren't installed by default, uncomment the last two lines of this cell and replace <package list> with a list of your packages.\n",
    "# This will ensure your notebook has all the dependencies and works everywhere\n",
    "\n",
    "#import sys\n",
    "#!{sys.executable} -m pip install <package list>"
   ]
  },
  {
   "cell_type": "code",
   "execution_count": 3,
   "metadata": {},
   "outputs": [
    {
     "name": "stdout",
     "output_type": "stream",
     "text": [
      "zsh:1: no matches found: scikit*\n",
      "ERROR: Pipe to stdout was broken\n"
     ]
    }
   ],
   "source": [
    "# check scikit tool boxes\n",
    "!pip list | grep scikit*"
   ]
  },
  {
   "cell_type": "code",
   "execution_count": 4,
   "metadata": {},
   "outputs": [],
   "source": [
    "#Libraries\n",
    "import pandas as pd\n",
    "pd.set_option(\"display.max_columns\", 101)\n",
    "from matplotlib import pyplot as plt\n",
    "import seaborn as sns\n",
    "import numpy as np"
   ]
  },
  {
   "cell_type": "markdown",
   "metadata": {},
   "source": [
    "## Data Description"
   ]
  },
  {
   "cell_type": "markdown",
   "metadata": {},
   "source": [
    "\n",
    "Column | Description\n",
    ":---|:---\n",
    "`client_id` | Unique ID of the client called [unique key]\n",
    "`age_bracket` | Age bracket of the contacted client (in years)\n",
    "`job` | job type of the contacted client\n",
    "`marital` | marital status of the contacted client\n",
    "`education` | highest level of education done by the client\n",
    "`has_housing_loan` | Whether the client has a house loan (binary: yes,no)\n",
    "`has_personal_loan` | Whether the client has a personal loan (binary: yes,no)\n",
    "`prev_call_duration` | last contact duration (value = 0 if the client has not been contacted ever)\n",
    "`days_since_last_call` | number of days that passed by after the client was last contacted from a previous campaign (numeric; 999 means client was not previously contacted)\n",
    "`num_contacts_prev` | number of contacts performed before this campaign and for this client (numeric)\n",
    "`poutcome` | outcome of the previous marketing campaign (categorical: \"failure\",\"nonexistent\",\"success\")\n",
    "`contact_date` | date at which contact was made with the client (YYYY-MM-DD)\n",
    "`cpi` | standing consumer price index before the call (monthly indicator)\n",
    "`subs_deposit` | has the client subscribed to a term deposit? (binary: 1,0) [dependent variable]"
   ]
  },
  {
   "cell_type": "markdown",
   "metadata": {},
   "source": [
    "## Data Wrangling & Visualization\n",
    "\n",
    "### Preview the Samples to Identify the DataTypes "
   ]
  },
  {
   "cell_type": "code",
   "execution_count": 5,
   "metadata": {},
   "outputs": [
    {
     "ename": "FileNotFoundError",
     "evalue": "[Errno 2] No such file or directory: 'train.csv'",
     "output_type": "error",
     "traceback": [
      "\u001b[0;31m---------------------------------------------------------------------------\u001b[0m",
      "\u001b[0;31mFileNotFoundError\u001b[0m                         Traceback (most recent call last)",
      "\u001b[1;32m/Users/caihaocui/Documents/GitHub/lending_bank_client_ranking/notebooks/Questions (1).ipynb Cell 8'\u001b[0m in \u001b[0;36m<cell line: 5>\u001b[0;34m()\u001b[0m\n\u001b[1;32m      <a href='vscode-notebook-cell:/Users/caihaocui/Documents/GitHub/lending_bank_client_ranking/notebooks/Questions%20%281%29.ipynb#ch0000007?line=0'>1</a>\u001b[0m \u001b[39m# Loading Train data\u001b[39;00m\n\u001b[1;32m      <a href='vscode-notebook-cell:/Users/caihaocui/Documents/GitHub/lending_bank_client_ranking/notebooks/Questions%20%281%29.ipynb#ch0000007?line=2'>3</a>\u001b[0m data_filepath \u001b[39m=\u001b[39m \u001b[39m'\u001b[39m\u001b[39mtrain.csv\u001b[39m\u001b[39m'\u001b[39m\n\u001b[0;32m----> <a href='vscode-notebook-cell:/Users/caihaocui/Documents/GitHub/lending_bank_client_ranking/notebooks/Questions%20%281%29.ipynb#ch0000007?line=4'>5</a>\u001b[0m df_review \u001b[39m=\u001b[39m pd\u001b[39m.\u001b[39;49mread_csv(data_filepath, nrows\u001b[39m=\u001b[39;49m\u001b[39m10\u001b[39;49m)\n\u001b[1;32m      <a href='vscode-notebook-cell:/Users/caihaocui/Documents/GitHub/lending_bank_client_ranking/notebooks/Questions%20%281%29.ipynb#ch0000007?line=5'>6</a>\u001b[0m display(df_review\u001b[39m.\u001b[39mhead(\u001b[39m5\u001b[39m)\u001b[39m.\u001b[39mT)\n",
      "File \u001b[0;32m~/opt/miniconda3/envs/lending_bank_client_ranking/lib/python3.8/site-packages/pandas/util/_decorators.py:311\u001b[0m, in \u001b[0;36mdeprecate_nonkeyword_arguments.<locals>.decorate.<locals>.wrapper\u001b[0;34m(*args, **kwargs)\u001b[0m\n\u001b[1;32m    <a href='file:///Users/caihaocui/opt/miniconda3/envs/lending_bank_client_ranking/lib/python3.8/site-packages/pandas/util/_decorators.py?line=304'>305</a>\u001b[0m \u001b[39mif\u001b[39;00m \u001b[39mlen\u001b[39m(args) \u001b[39m>\u001b[39m num_allow_args:\n\u001b[1;32m    <a href='file:///Users/caihaocui/opt/miniconda3/envs/lending_bank_client_ranking/lib/python3.8/site-packages/pandas/util/_decorators.py?line=305'>306</a>\u001b[0m     warnings\u001b[39m.\u001b[39mwarn(\n\u001b[1;32m    <a href='file:///Users/caihaocui/opt/miniconda3/envs/lending_bank_client_ranking/lib/python3.8/site-packages/pandas/util/_decorators.py?line=306'>307</a>\u001b[0m         msg\u001b[39m.\u001b[39mformat(arguments\u001b[39m=\u001b[39marguments),\n\u001b[1;32m    <a href='file:///Users/caihaocui/opt/miniconda3/envs/lending_bank_client_ranking/lib/python3.8/site-packages/pandas/util/_decorators.py?line=307'>308</a>\u001b[0m         \u001b[39mFutureWarning\u001b[39;00m,\n\u001b[1;32m    <a href='file:///Users/caihaocui/opt/miniconda3/envs/lending_bank_client_ranking/lib/python3.8/site-packages/pandas/util/_decorators.py?line=308'>309</a>\u001b[0m         stacklevel\u001b[39m=\u001b[39mstacklevel,\n\u001b[1;32m    <a href='file:///Users/caihaocui/opt/miniconda3/envs/lending_bank_client_ranking/lib/python3.8/site-packages/pandas/util/_decorators.py?line=309'>310</a>\u001b[0m     )\n\u001b[0;32m--> <a href='file:///Users/caihaocui/opt/miniconda3/envs/lending_bank_client_ranking/lib/python3.8/site-packages/pandas/util/_decorators.py?line=310'>311</a>\u001b[0m \u001b[39mreturn\u001b[39;00m func(\u001b[39m*\u001b[39;49margs, \u001b[39m*\u001b[39;49m\u001b[39m*\u001b[39;49mkwargs)\n",
      "File \u001b[0;32m~/opt/miniconda3/envs/lending_bank_client_ranking/lib/python3.8/site-packages/pandas/io/parsers/readers.py:586\u001b[0m, in \u001b[0;36mread_csv\u001b[0;34m(filepath_or_buffer, sep, delimiter, header, names, index_col, usecols, squeeze, prefix, mangle_dupe_cols, dtype, engine, converters, true_values, false_values, skipinitialspace, skiprows, skipfooter, nrows, na_values, keep_default_na, na_filter, verbose, skip_blank_lines, parse_dates, infer_datetime_format, keep_date_col, date_parser, dayfirst, cache_dates, iterator, chunksize, compression, thousands, decimal, lineterminator, quotechar, quoting, doublequote, escapechar, comment, encoding, encoding_errors, dialect, error_bad_lines, warn_bad_lines, on_bad_lines, delim_whitespace, low_memory, memory_map, float_precision, storage_options)\u001b[0m\n\u001b[1;32m    <a href='file:///Users/caihaocui/opt/miniconda3/envs/lending_bank_client_ranking/lib/python3.8/site-packages/pandas/io/parsers/readers.py?line=570'>571</a>\u001b[0m kwds_defaults \u001b[39m=\u001b[39m _refine_defaults_read(\n\u001b[1;32m    <a href='file:///Users/caihaocui/opt/miniconda3/envs/lending_bank_client_ranking/lib/python3.8/site-packages/pandas/io/parsers/readers.py?line=571'>572</a>\u001b[0m     dialect,\n\u001b[1;32m    <a href='file:///Users/caihaocui/opt/miniconda3/envs/lending_bank_client_ranking/lib/python3.8/site-packages/pandas/io/parsers/readers.py?line=572'>573</a>\u001b[0m     delimiter,\n\u001b[0;32m   (...)\u001b[0m\n\u001b[1;32m    <a href='file:///Users/caihaocui/opt/miniconda3/envs/lending_bank_client_ranking/lib/python3.8/site-packages/pandas/io/parsers/readers.py?line=581'>582</a>\u001b[0m     defaults\u001b[39m=\u001b[39m{\u001b[39m\"\u001b[39m\u001b[39mdelimiter\u001b[39m\u001b[39m\"\u001b[39m: \u001b[39m\"\u001b[39m\u001b[39m,\u001b[39m\u001b[39m\"\u001b[39m},\n\u001b[1;32m    <a href='file:///Users/caihaocui/opt/miniconda3/envs/lending_bank_client_ranking/lib/python3.8/site-packages/pandas/io/parsers/readers.py?line=582'>583</a>\u001b[0m )\n\u001b[1;32m    <a href='file:///Users/caihaocui/opt/miniconda3/envs/lending_bank_client_ranking/lib/python3.8/site-packages/pandas/io/parsers/readers.py?line=583'>584</a>\u001b[0m kwds\u001b[39m.\u001b[39mupdate(kwds_defaults)\n\u001b[0;32m--> <a href='file:///Users/caihaocui/opt/miniconda3/envs/lending_bank_client_ranking/lib/python3.8/site-packages/pandas/io/parsers/readers.py?line=585'>586</a>\u001b[0m \u001b[39mreturn\u001b[39;00m _read(filepath_or_buffer, kwds)\n",
      "File \u001b[0;32m~/opt/miniconda3/envs/lending_bank_client_ranking/lib/python3.8/site-packages/pandas/io/parsers/readers.py:482\u001b[0m, in \u001b[0;36m_read\u001b[0;34m(filepath_or_buffer, kwds)\u001b[0m\n\u001b[1;32m    <a href='file:///Users/caihaocui/opt/miniconda3/envs/lending_bank_client_ranking/lib/python3.8/site-packages/pandas/io/parsers/readers.py?line=478'>479</a>\u001b[0m _validate_names(kwds\u001b[39m.\u001b[39mget(\u001b[39m\"\u001b[39m\u001b[39mnames\u001b[39m\u001b[39m\"\u001b[39m, \u001b[39mNone\u001b[39;00m))\n\u001b[1;32m    <a href='file:///Users/caihaocui/opt/miniconda3/envs/lending_bank_client_ranking/lib/python3.8/site-packages/pandas/io/parsers/readers.py?line=480'>481</a>\u001b[0m \u001b[39m# Create the parser.\u001b[39;00m\n\u001b[0;32m--> <a href='file:///Users/caihaocui/opt/miniconda3/envs/lending_bank_client_ranking/lib/python3.8/site-packages/pandas/io/parsers/readers.py?line=481'>482</a>\u001b[0m parser \u001b[39m=\u001b[39m TextFileReader(filepath_or_buffer, \u001b[39m*\u001b[39;49m\u001b[39m*\u001b[39;49mkwds)\n\u001b[1;32m    <a href='file:///Users/caihaocui/opt/miniconda3/envs/lending_bank_client_ranking/lib/python3.8/site-packages/pandas/io/parsers/readers.py?line=483'>484</a>\u001b[0m \u001b[39mif\u001b[39;00m chunksize \u001b[39mor\u001b[39;00m iterator:\n\u001b[1;32m    <a href='file:///Users/caihaocui/opt/miniconda3/envs/lending_bank_client_ranking/lib/python3.8/site-packages/pandas/io/parsers/readers.py?line=484'>485</a>\u001b[0m     \u001b[39mreturn\u001b[39;00m parser\n",
      "File \u001b[0;32m~/opt/miniconda3/envs/lending_bank_client_ranking/lib/python3.8/site-packages/pandas/io/parsers/readers.py:811\u001b[0m, in \u001b[0;36mTextFileReader.__init__\u001b[0;34m(self, f, engine, **kwds)\u001b[0m\n\u001b[1;32m    <a href='file:///Users/caihaocui/opt/miniconda3/envs/lending_bank_client_ranking/lib/python3.8/site-packages/pandas/io/parsers/readers.py?line=807'>808</a>\u001b[0m \u001b[39mif\u001b[39;00m \u001b[39m\"\u001b[39m\u001b[39mhas_index_names\u001b[39m\u001b[39m\"\u001b[39m \u001b[39min\u001b[39;00m kwds:\n\u001b[1;32m    <a href='file:///Users/caihaocui/opt/miniconda3/envs/lending_bank_client_ranking/lib/python3.8/site-packages/pandas/io/parsers/readers.py?line=808'>809</a>\u001b[0m     \u001b[39mself\u001b[39m\u001b[39m.\u001b[39moptions[\u001b[39m\"\u001b[39m\u001b[39mhas_index_names\u001b[39m\u001b[39m\"\u001b[39m] \u001b[39m=\u001b[39m kwds[\u001b[39m\"\u001b[39m\u001b[39mhas_index_names\u001b[39m\u001b[39m\"\u001b[39m]\n\u001b[0;32m--> <a href='file:///Users/caihaocui/opt/miniconda3/envs/lending_bank_client_ranking/lib/python3.8/site-packages/pandas/io/parsers/readers.py?line=810'>811</a>\u001b[0m \u001b[39mself\u001b[39m\u001b[39m.\u001b[39m_engine \u001b[39m=\u001b[39m \u001b[39mself\u001b[39;49m\u001b[39m.\u001b[39;49m_make_engine(\u001b[39mself\u001b[39;49m\u001b[39m.\u001b[39;49mengine)\n",
      "File \u001b[0;32m~/opt/miniconda3/envs/lending_bank_client_ranking/lib/python3.8/site-packages/pandas/io/parsers/readers.py:1040\u001b[0m, in \u001b[0;36mTextFileReader._make_engine\u001b[0;34m(self, engine)\u001b[0m\n\u001b[1;32m   <a href='file:///Users/caihaocui/opt/miniconda3/envs/lending_bank_client_ranking/lib/python3.8/site-packages/pandas/io/parsers/readers.py?line=1035'>1036</a>\u001b[0m     \u001b[39mraise\u001b[39;00m \u001b[39mValueError\u001b[39;00m(\n\u001b[1;32m   <a href='file:///Users/caihaocui/opt/miniconda3/envs/lending_bank_client_ranking/lib/python3.8/site-packages/pandas/io/parsers/readers.py?line=1036'>1037</a>\u001b[0m         \u001b[39mf\u001b[39m\u001b[39m\"\u001b[39m\u001b[39mUnknown engine: \u001b[39m\u001b[39m{\u001b[39;00mengine\u001b[39m}\u001b[39;00m\u001b[39m (valid options are \u001b[39m\u001b[39m{\u001b[39;00mmapping\u001b[39m.\u001b[39mkeys()\u001b[39m}\u001b[39;00m\u001b[39m)\u001b[39m\u001b[39m\"\u001b[39m\n\u001b[1;32m   <a href='file:///Users/caihaocui/opt/miniconda3/envs/lending_bank_client_ranking/lib/python3.8/site-packages/pandas/io/parsers/readers.py?line=1037'>1038</a>\u001b[0m     )\n\u001b[1;32m   <a href='file:///Users/caihaocui/opt/miniconda3/envs/lending_bank_client_ranking/lib/python3.8/site-packages/pandas/io/parsers/readers.py?line=1038'>1039</a>\u001b[0m \u001b[39m# error: Too many arguments for \"ParserBase\"\u001b[39;00m\n\u001b[0;32m-> <a href='file:///Users/caihaocui/opt/miniconda3/envs/lending_bank_client_ranking/lib/python3.8/site-packages/pandas/io/parsers/readers.py?line=1039'>1040</a>\u001b[0m \u001b[39mreturn\u001b[39;00m mapping[engine](\u001b[39mself\u001b[39;49m\u001b[39m.\u001b[39;49mf, \u001b[39m*\u001b[39;49m\u001b[39m*\u001b[39;49m\u001b[39mself\u001b[39;49m\u001b[39m.\u001b[39;49moptions)\n",
      "File \u001b[0;32m~/opt/miniconda3/envs/lending_bank_client_ranking/lib/python3.8/site-packages/pandas/io/parsers/c_parser_wrapper.py:51\u001b[0m, in \u001b[0;36mCParserWrapper.__init__\u001b[0;34m(self, src, **kwds)\u001b[0m\n\u001b[1;32m     <a href='file:///Users/caihaocui/opt/miniconda3/envs/lending_bank_client_ranking/lib/python3.8/site-packages/pandas/io/parsers/c_parser_wrapper.py?line=47'>48</a>\u001b[0m kwds[\u001b[39m\"\u001b[39m\u001b[39musecols\u001b[39m\u001b[39m\"\u001b[39m] \u001b[39m=\u001b[39m \u001b[39mself\u001b[39m\u001b[39m.\u001b[39musecols\n\u001b[1;32m     <a href='file:///Users/caihaocui/opt/miniconda3/envs/lending_bank_client_ranking/lib/python3.8/site-packages/pandas/io/parsers/c_parser_wrapper.py?line=49'>50</a>\u001b[0m \u001b[39m# open handles\u001b[39;00m\n\u001b[0;32m---> <a href='file:///Users/caihaocui/opt/miniconda3/envs/lending_bank_client_ranking/lib/python3.8/site-packages/pandas/io/parsers/c_parser_wrapper.py?line=50'>51</a>\u001b[0m \u001b[39mself\u001b[39;49m\u001b[39m.\u001b[39;49m_open_handles(src, kwds)\n\u001b[1;32m     <a href='file:///Users/caihaocui/opt/miniconda3/envs/lending_bank_client_ranking/lib/python3.8/site-packages/pandas/io/parsers/c_parser_wrapper.py?line=51'>52</a>\u001b[0m \u001b[39massert\u001b[39;00m \u001b[39mself\u001b[39m\u001b[39m.\u001b[39mhandles \u001b[39mis\u001b[39;00m \u001b[39mnot\u001b[39;00m \u001b[39mNone\u001b[39;00m\n\u001b[1;32m     <a href='file:///Users/caihaocui/opt/miniconda3/envs/lending_bank_client_ranking/lib/python3.8/site-packages/pandas/io/parsers/c_parser_wrapper.py?line=53'>54</a>\u001b[0m \u001b[39m# Have to pass int, would break tests using TextReader directly otherwise :(\u001b[39;00m\n",
      "File \u001b[0;32m~/opt/miniconda3/envs/lending_bank_client_ranking/lib/python3.8/site-packages/pandas/io/parsers/base_parser.py:222\u001b[0m, in \u001b[0;36mParserBase._open_handles\u001b[0;34m(self, src, kwds)\u001b[0m\n\u001b[1;32m    <a href='file:///Users/caihaocui/opt/miniconda3/envs/lending_bank_client_ranking/lib/python3.8/site-packages/pandas/io/parsers/base_parser.py?line=217'>218</a>\u001b[0m \u001b[39mdef\u001b[39;00m \u001b[39m_open_handles\u001b[39m(\u001b[39mself\u001b[39m, src: FilePathOrBuffer, kwds: \u001b[39mdict\u001b[39m[\u001b[39mstr\u001b[39m, Any]) \u001b[39m-\u001b[39m\u001b[39m>\u001b[39m \u001b[39mNone\u001b[39;00m:\n\u001b[1;32m    <a href='file:///Users/caihaocui/opt/miniconda3/envs/lending_bank_client_ranking/lib/python3.8/site-packages/pandas/io/parsers/base_parser.py?line=218'>219</a>\u001b[0m     \u001b[39m\"\"\"\u001b[39;00m\n\u001b[1;32m    <a href='file:///Users/caihaocui/opt/miniconda3/envs/lending_bank_client_ranking/lib/python3.8/site-packages/pandas/io/parsers/base_parser.py?line=219'>220</a>\u001b[0m \u001b[39m    Let the readers open IOHandles after they are done with their potential raises.\u001b[39;00m\n\u001b[1;32m    <a href='file:///Users/caihaocui/opt/miniconda3/envs/lending_bank_client_ranking/lib/python3.8/site-packages/pandas/io/parsers/base_parser.py?line=220'>221</a>\u001b[0m \u001b[39m    \"\"\"\u001b[39;00m\n\u001b[0;32m--> <a href='file:///Users/caihaocui/opt/miniconda3/envs/lending_bank_client_ranking/lib/python3.8/site-packages/pandas/io/parsers/base_parser.py?line=221'>222</a>\u001b[0m     \u001b[39mself\u001b[39m\u001b[39m.\u001b[39mhandles \u001b[39m=\u001b[39m get_handle(\n\u001b[1;32m    <a href='file:///Users/caihaocui/opt/miniconda3/envs/lending_bank_client_ranking/lib/python3.8/site-packages/pandas/io/parsers/base_parser.py?line=222'>223</a>\u001b[0m         src,\n\u001b[1;32m    <a href='file:///Users/caihaocui/opt/miniconda3/envs/lending_bank_client_ranking/lib/python3.8/site-packages/pandas/io/parsers/base_parser.py?line=223'>224</a>\u001b[0m         \u001b[39m\"\u001b[39;49m\u001b[39mr\u001b[39;49m\u001b[39m\"\u001b[39;49m,\n\u001b[1;32m    <a href='file:///Users/caihaocui/opt/miniconda3/envs/lending_bank_client_ranking/lib/python3.8/site-packages/pandas/io/parsers/base_parser.py?line=224'>225</a>\u001b[0m         encoding\u001b[39m=\u001b[39;49mkwds\u001b[39m.\u001b[39;49mget(\u001b[39m\"\u001b[39;49m\u001b[39mencoding\u001b[39;49m\u001b[39m\"\u001b[39;49m, \u001b[39mNone\u001b[39;49;00m),\n\u001b[1;32m    <a href='file:///Users/caihaocui/opt/miniconda3/envs/lending_bank_client_ranking/lib/python3.8/site-packages/pandas/io/parsers/base_parser.py?line=225'>226</a>\u001b[0m         compression\u001b[39m=\u001b[39;49mkwds\u001b[39m.\u001b[39;49mget(\u001b[39m\"\u001b[39;49m\u001b[39mcompression\u001b[39;49m\u001b[39m\"\u001b[39;49m, \u001b[39mNone\u001b[39;49;00m),\n\u001b[1;32m    <a href='file:///Users/caihaocui/opt/miniconda3/envs/lending_bank_client_ranking/lib/python3.8/site-packages/pandas/io/parsers/base_parser.py?line=226'>227</a>\u001b[0m         memory_map\u001b[39m=\u001b[39;49mkwds\u001b[39m.\u001b[39;49mget(\u001b[39m\"\u001b[39;49m\u001b[39mmemory_map\u001b[39;49m\u001b[39m\"\u001b[39;49m, \u001b[39mFalse\u001b[39;49;00m),\n\u001b[1;32m    <a href='file:///Users/caihaocui/opt/miniconda3/envs/lending_bank_client_ranking/lib/python3.8/site-packages/pandas/io/parsers/base_parser.py?line=227'>228</a>\u001b[0m         storage_options\u001b[39m=\u001b[39;49mkwds\u001b[39m.\u001b[39;49mget(\u001b[39m\"\u001b[39;49m\u001b[39mstorage_options\u001b[39;49m\u001b[39m\"\u001b[39;49m, \u001b[39mNone\u001b[39;49;00m),\n\u001b[1;32m    <a href='file:///Users/caihaocui/opt/miniconda3/envs/lending_bank_client_ranking/lib/python3.8/site-packages/pandas/io/parsers/base_parser.py?line=228'>229</a>\u001b[0m         errors\u001b[39m=\u001b[39;49mkwds\u001b[39m.\u001b[39;49mget(\u001b[39m\"\u001b[39;49m\u001b[39mencoding_errors\u001b[39;49m\u001b[39m\"\u001b[39;49m, \u001b[39m\"\u001b[39;49m\u001b[39mstrict\u001b[39;49m\u001b[39m\"\u001b[39;49m),\n\u001b[1;32m    <a href='file:///Users/caihaocui/opt/miniconda3/envs/lending_bank_client_ranking/lib/python3.8/site-packages/pandas/io/parsers/base_parser.py?line=229'>230</a>\u001b[0m     )\n",
      "File \u001b[0;32m~/opt/miniconda3/envs/lending_bank_client_ranking/lib/python3.8/site-packages/pandas/io/common.py:702\u001b[0m, in \u001b[0;36mget_handle\u001b[0;34m(path_or_buf, mode, encoding, compression, memory_map, is_text, errors, storage_options)\u001b[0m\n\u001b[1;32m    <a href='file:///Users/caihaocui/opt/miniconda3/envs/lending_bank_client_ranking/lib/python3.8/site-packages/pandas/io/common.py?line=696'>697</a>\u001b[0m \u001b[39melif\u001b[39;00m \u001b[39misinstance\u001b[39m(handle, \u001b[39mstr\u001b[39m):\n\u001b[1;32m    <a href='file:///Users/caihaocui/opt/miniconda3/envs/lending_bank_client_ranking/lib/python3.8/site-packages/pandas/io/common.py?line=697'>698</a>\u001b[0m     \u001b[39m# Check whether the filename is to be opened in binary mode.\u001b[39;00m\n\u001b[1;32m    <a href='file:///Users/caihaocui/opt/miniconda3/envs/lending_bank_client_ranking/lib/python3.8/site-packages/pandas/io/common.py?line=698'>699</a>\u001b[0m     \u001b[39m# Binary mode does not support 'encoding' and 'newline'.\u001b[39;00m\n\u001b[1;32m    <a href='file:///Users/caihaocui/opt/miniconda3/envs/lending_bank_client_ranking/lib/python3.8/site-packages/pandas/io/common.py?line=699'>700</a>\u001b[0m     \u001b[39mif\u001b[39;00m ioargs\u001b[39m.\u001b[39mencoding \u001b[39mand\u001b[39;00m \u001b[39m\"\u001b[39m\u001b[39mb\u001b[39m\u001b[39m\"\u001b[39m \u001b[39mnot\u001b[39;00m \u001b[39min\u001b[39;00m ioargs\u001b[39m.\u001b[39mmode:\n\u001b[1;32m    <a href='file:///Users/caihaocui/opt/miniconda3/envs/lending_bank_client_ranking/lib/python3.8/site-packages/pandas/io/common.py?line=700'>701</a>\u001b[0m         \u001b[39m# Encoding\u001b[39;00m\n\u001b[0;32m--> <a href='file:///Users/caihaocui/opt/miniconda3/envs/lending_bank_client_ranking/lib/python3.8/site-packages/pandas/io/common.py?line=701'>702</a>\u001b[0m         handle \u001b[39m=\u001b[39m \u001b[39mopen\u001b[39;49m(\n\u001b[1;32m    <a href='file:///Users/caihaocui/opt/miniconda3/envs/lending_bank_client_ranking/lib/python3.8/site-packages/pandas/io/common.py?line=702'>703</a>\u001b[0m             handle,\n\u001b[1;32m    <a href='file:///Users/caihaocui/opt/miniconda3/envs/lending_bank_client_ranking/lib/python3.8/site-packages/pandas/io/common.py?line=703'>704</a>\u001b[0m             ioargs\u001b[39m.\u001b[39;49mmode,\n\u001b[1;32m    <a href='file:///Users/caihaocui/opt/miniconda3/envs/lending_bank_client_ranking/lib/python3.8/site-packages/pandas/io/common.py?line=704'>705</a>\u001b[0m             encoding\u001b[39m=\u001b[39;49mioargs\u001b[39m.\u001b[39;49mencoding,\n\u001b[1;32m    <a href='file:///Users/caihaocui/opt/miniconda3/envs/lending_bank_client_ranking/lib/python3.8/site-packages/pandas/io/common.py?line=705'>706</a>\u001b[0m             errors\u001b[39m=\u001b[39;49merrors,\n\u001b[1;32m    <a href='file:///Users/caihaocui/opt/miniconda3/envs/lending_bank_client_ranking/lib/python3.8/site-packages/pandas/io/common.py?line=706'>707</a>\u001b[0m             newline\u001b[39m=\u001b[39;49m\u001b[39m\"\u001b[39;49m\u001b[39m\"\u001b[39;49m,\n\u001b[1;32m    <a href='file:///Users/caihaocui/opt/miniconda3/envs/lending_bank_client_ranking/lib/python3.8/site-packages/pandas/io/common.py?line=707'>708</a>\u001b[0m         )\n\u001b[1;32m    <a href='file:///Users/caihaocui/opt/miniconda3/envs/lending_bank_client_ranking/lib/python3.8/site-packages/pandas/io/common.py?line=708'>709</a>\u001b[0m     \u001b[39melse\u001b[39;00m:\n\u001b[1;32m    <a href='file:///Users/caihaocui/opt/miniconda3/envs/lending_bank_client_ranking/lib/python3.8/site-packages/pandas/io/common.py?line=709'>710</a>\u001b[0m         \u001b[39m# Binary mode\u001b[39;00m\n\u001b[1;32m    <a href='file:///Users/caihaocui/opt/miniconda3/envs/lending_bank_client_ranking/lib/python3.8/site-packages/pandas/io/common.py?line=710'>711</a>\u001b[0m         handle \u001b[39m=\u001b[39m \u001b[39mopen\u001b[39m(handle, ioargs\u001b[39m.\u001b[39mmode)\n",
      "\u001b[0;31mFileNotFoundError\u001b[0m: [Errno 2] No such file or directory: 'train.csv'"
     ]
    }
   ],
   "source": [
    "# Loading Train data\n",
    "\n",
    "data_filepath = 'train.csv'\n",
    "\n",
    "df_review = pd.read_csv(data_filepath, nrows=10)\n",
    "display(df_review.head(5).T)"
   ]
  },
  {
   "cell_type": "code",
   "execution_count": 55,
   "metadata": {},
   "outputs": [
    {
     "data": {
      "text/plain": [
       "array(['client_id', 'age_bracket', 'job', 'marital', 'education',\n",
       "       'has_housing_loan', 'has_personal_loan', 'prev_call_duration',\n",
       "       'days_since_last_call', 'num_contacts_prev', 'poutcome',\n",
       "       'contact_date', 'cpi', 'subs_deposit'], dtype=object)"
      ]
     },
     "execution_count": 55,
     "metadata": {},
     "output_type": "execute_result"
    }
   ],
   "source": [
    "df_review.columns.values"
   ]
  },
  {
   "cell_type": "markdown",
   "metadata": {},
   "source": [
    "Base one the observation, the raw sample contains three group of the features.\n",
    "\n",
    "- ID: client_id\n",
    "- Categorical: \n",
    "    1. 'age_bracket', \n",
    "    2. 'job', \n",
    "    3. 'marital', \n",
    "    4. 'education', \n",
    "    5. 'has_housing_loan', \n",
    "    6. 'has_personal_loan',  \n",
    "    7. 'subs_deposit', (**Target**)\n",
    "    8. 'poutcome'\n",
    "- Numerical:\n",
    "    9.  'prev_call_duration',\n",
    "    10. 'days_since_last_call', \n",
    "    11. 'num_contacts_prev', \n",
    "    12. 'cpi'\n",
    "- Datetime:\n",
    "    13. 'contact_date'\n"
   ]
  },
  {
   "cell_type": "markdown",
   "metadata": {},
   "source": [
    "### Read the Raw Data to Profiling\n",
    "\n",
    "Now, read the data with data type and parse the data to get the data in the right format."
   ]
  },
  {
   "cell_type": "code",
   "execution_count": 56,
   "metadata": {},
   "outputs": [
    {
     "data": {
      "text/html": [
       "<div>\n",
       "<style scoped>\n",
       "    .dataframe tbody tr th:only-of-type {\n",
       "        vertical-align: middle;\n",
       "    }\n",
       "\n",
       "    .dataframe tbody tr th {\n",
       "        vertical-align: top;\n",
       "    }\n",
       "\n",
       "    .dataframe thead th {\n",
       "        text-align: right;\n",
       "    }\n",
       "</style>\n",
       "<table border=\"1\" class=\"dataframe\">\n",
       "  <thead>\n",
       "    <tr style=\"text-align: right;\">\n",
       "      <th></th>\n",
       "      <th>count</th>\n",
       "      <th>unique</th>\n",
       "      <th>top</th>\n",
       "      <th>freq</th>\n",
       "      <th>first</th>\n",
       "      <th>last</th>\n",
       "      <th>mean</th>\n",
       "      <th>std</th>\n",
       "      <th>min</th>\n",
       "      <th>25%</th>\n",
       "      <th>50%</th>\n",
       "      <th>75%</th>\n",
       "      <th>max</th>\n",
       "    </tr>\n",
       "  </thead>\n",
       "  <tbody>\n",
       "    <tr>\n",
       "      <th>client_id</th>\n",
       "      <td>4000</td>\n",
       "      <td>4000</td>\n",
       "      <td>10938</td>\n",
       "      <td>1</td>\n",
       "      <td>NaT</td>\n",
       "      <td>NaT</td>\n",
       "      <td>NaN</td>\n",
       "      <td>NaN</td>\n",
       "      <td>NaN</td>\n",
       "      <td>NaN</td>\n",
       "      <td>NaN</td>\n",
       "      <td>NaN</td>\n",
       "      <td>NaN</td>\n",
       "    </tr>\n",
       "    <tr>\n",
       "      <th>age_bracket</th>\n",
       "      <td>4000</td>\n",
       "      <td>4</td>\n",
       "      <td>25-40</td>\n",
       "      <td>2161</td>\n",
       "      <td>NaT</td>\n",
       "      <td>NaT</td>\n",
       "      <td>NaN</td>\n",
       "      <td>NaN</td>\n",
       "      <td>NaN</td>\n",
       "      <td>NaN</td>\n",
       "      <td>NaN</td>\n",
       "      <td>NaN</td>\n",
       "      <td>NaN</td>\n",
       "    </tr>\n",
       "    <tr>\n",
       "      <th>job</th>\n",
       "      <td>4000</td>\n",
       "      <td>7</td>\n",
       "      <td>white-collar</td>\n",
       "      <td>1366</td>\n",
       "      <td>NaT</td>\n",
       "      <td>NaT</td>\n",
       "      <td>NaN</td>\n",
       "      <td>NaN</td>\n",
       "      <td>NaN</td>\n",
       "      <td>NaN</td>\n",
       "      <td>NaN</td>\n",
       "      <td>NaN</td>\n",
       "      <td>NaN</td>\n",
       "    </tr>\n",
       "    <tr>\n",
       "      <th>marital</th>\n",
       "      <td>4000</td>\n",
       "      <td>4</td>\n",
       "      <td>married</td>\n",
       "      <td>2374</td>\n",
       "      <td>NaT</td>\n",
       "      <td>NaT</td>\n",
       "      <td>NaN</td>\n",
       "      <td>NaN</td>\n",
       "      <td>NaN</td>\n",
       "      <td>NaN</td>\n",
       "      <td>NaN</td>\n",
       "      <td>NaN</td>\n",
       "      <td>NaN</td>\n",
       "    </tr>\n",
       "    <tr>\n",
       "      <th>education</th>\n",
       "      <td>4000</td>\n",
       "      <td>6</td>\n",
       "      <td>bachelors</td>\n",
       "      <td>1274</td>\n",
       "      <td>NaT</td>\n",
       "      <td>NaT</td>\n",
       "      <td>NaN</td>\n",
       "      <td>NaN</td>\n",
       "      <td>NaN</td>\n",
       "      <td>NaN</td>\n",
       "      <td>NaN</td>\n",
       "      <td>NaN</td>\n",
       "      <td>NaN</td>\n",
       "    </tr>\n",
       "    <tr>\n",
       "      <th>has_housing_loan</th>\n",
       "      <td>4000</td>\n",
       "      <td>3</td>\n",
       "      <td>yes</td>\n",
       "      <td>2115</td>\n",
       "      <td>NaT</td>\n",
       "      <td>NaT</td>\n",
       "      <td>NaN</td>\n",
       "      <td>NaN</td>\n",
       "      <td>NaN</td>\n",
       "      <td>NaN</td>\n",
       "      <td>NaN</td>\n",
       "      <td>NaN</td>\n",
       "      <td>NaN</td>\n",
       "    </tr>\n",
       "    <tr>\n",
       "      <th>has_personal_loan</th>\n",
       "      <td>4000</td>\n",
       "      <td>3</td>\n",
       "      <td>no</td>\n",
       "      <td>3335</td>\n",
       "      <td>NaT</td>\n",
       "      <td>NaT</td>\n",
       "      <td>NaN</td>\n",
       "      <td>NaN</td>\n",
       "      <td>NaN</td>\n",
       "      <td>NaN</td>\n",
       "      <td>NaN</td>\n",
       "      <td>NaN</td>\n",
       "      <td>NaN</td>\n",
       "    </tr>\n",
       "    <tr>\n",
       "      <th>prev_call_duration</th>\n",
       "      <td>4000</td>\n",
       "      <td>NaN</td>\n",
       "      <td>NaN</td>\n",
       "      <td>NaN</td>\n",
       "      <td>NaT</td>\n",
       "      <td>NaT</td>\n",
       "      <td>3871.14</td>\n",
       "      <td>26080.5</td>\n",
       "      <td>2</td>\n",
       "      <td>131</td>\n",
       "      <td>237</td>\n",
       "      <td>461</td>\n",
       "      <td>419900</td>\n",
       "    </tr>\n",
       "    <tr>\n",
       "      <th>days_since_last_call</th>\n",
       "      <td>4000</td>\n",
       "      <td>NaN</td>\n",
       "      <td>NaN</td>\n",
       "      <td>NaN</td>\n",
       "      <td>NaT</td>\n",
       "      <td>NaT</td>\n",
       "      <td>903.151</td>\n",
       "      <td>293.324</td>\n",
       "      <td>0</td>\n",
       "      <td>999</td>\n",
       "      <td>999</td>\n",
       "      <td>999</td>\n",
       "      <td>999</td>\n",
       "    </tr>\n",
       "    <tr>\n",
       "      <th>num_contacts_prev</th>\n",
       "      <td>4000</td>\n",
       "      <td>NaN</td>\n",
       "      <td>NaN</td>\n",
       "      <td>NaN</td>\n",
       "      <td>NaT</td>\n",
       "      <td>NaT</td>\n",
       "      <td>0.272</td>\n",
       "      <td>0.643132</td>\n",
       "      <td>0</td>\n",
       "      <td>0</td>\n",
       "      <td>0</td>\n",
       "      <td>0</td>\n",
       "      <td>6</td>\n",
       "    </tr>\n",
       "    <tr>\n",
       "      <th>poutcome</th>\n",
       "      <td>4000</td>\n",
       "      <td>3</td>\n",
       "      <td>nonexistent</td>\n",
       "      <td>3219</td>\n",
       "      <td>NaT</td>\n",
       "      <td>NaT</td>\n",
       "      <td>NaN</td>\n",
       "      <td>NaN</td>\n",
       "      <td>NaN</td>\n",
       "      <td>NaN</td>\n",
       "      <td>NaN</td>\n",
       "      <td>NaN</td>\n",
       "      <td>NaN</td>\n",
       "    </tr>\n",
       "    <tr>\n",
       "      <th>contact_date</th>\n",
       "      <td>4000</td>\n",
       "      <td>50</td>\n",
       "      <td>2018-02-05 00:00:00</td>\n",
       "      <td>244</td>\n",
       "      <td>2018-01-03</td>\n",
       "      <td>2018-07-12</td>\n",
       "      <td>NaN</td>\n",
       "      <td>NaN</td>\n",
       "      <td>NaN</td>\n",
       "      <td>NaN</td>\n",
       "      <td>NaN</td>\n",
       "      <td>NaN</td>\n",
       "      <td>NaN</td>\n",
       "    </tr>\n",
       "    <tr>\n",
       "      <th>cpi</th>\n",
       "      <td>4000</td>\n",
       "      <td>NaN</td>\n",
       "      <td>NaN</td>\n",
       "      <td>NaN</td>\n",
       "      <td>NaT</td>\n",
       "      <td>NaT</td>\n",
       "      <td>107.348</td>\n",
       "      <td>107.885</td>\n",
       "      <td>92.201</td>\n",
       "      <td>92.963</td>\n",
       "      <td>93.444</td>\n",
       "      <td>93.994</td>\n",
       "      <td>947.67</td>\n",
       "    </tr>\n",
       "    <tr>\n",
       "      <th>subs_deposit</th>\n",
       "      <td>4000</td>\n",
       "      <td>NaN</td>\n",
       "      <td>NaN</td>\n",
       "      <td>NaN</td>\n",
       "      <td>NaT</td>\n",
       "      <td>NaT</td>\n",
       "      <td>0.3975</td>\n",
       "      <td>0.489442</td>\n",
       "      <td>0</td>\n",
       "      <td>0</td>\n",
       "      <td>0</td>\n",
       "      <td>1</td>\n",
       "      <td>1</td>\n",
       "    </tr>\n",
       "  </tbody>\n",
       "</table>\n",
       "</div>"
      ],
      "text/plain": [
       "                     count unique                  top  freq      first  \\\n",
       "client_id             4000   4000                10938     1        NaT   \n",
       "age_bracket           4000      4                25-40  2161        NaT   \n",
       "job                   4000      7         white-collar  1366        NaT   \n",
       "marital               4000      4              married  2374        NaT   \n",
       "education             4000      6            bachelors  1274        NaT   \n",
       "has_housing_loan      4000      3                  yes  2115        NaT   \n",
       "has_personal_loan     4000      3                   no  3335        NaT   \n",
       "prev_call_duration    4000    NaN                  NaN   NaN        NaT   \n",
       "days_since_last_call  4000    NaN                  NaN   NaN        NaT   \n",
       "num_contacts_prev     4000    NaN                  NaN   NaN        NaT   \n",
       "poutcome              4000      3          nonexistent  3219        NaT   \n",
       "contact_date          4000     50  2018-02-05 00:00:00   244 2018-01-03   \n",
       "cpi                   4000    NaN                  NaN   NaN        NaT   \n",
       "subs_deposit          4000    NaN                  NaN   NaN        NaT   \n",
       "\n",
       "                           last     mean       std     min     25%     50%  \\\n",
       "client_id                   NaT      NaN       NaN     NaN     NaN     NaN   \n",
       "age_bracket                 NaT      NaN       NaN     NaN     NaN     NaN   \n",
       "job                         NaT      NaN       NaN     NaN     NaN     NaN   \n",
       "marital                     NaT      NaN       NaN     NaN     NaN     NaN   \n",
       "education                   NaT      NaN       NaN     NaN     NaN     NaN   \n",
       "has_housing_loan            NaT      NaN       NaN     NaN     NaN     NaN   \n",
       "has_personal_loan           NaT      NaN       NaN     NaN     NaN     NaN   \n",
       "prev_call_duration          NaT  3871.14   26080.5       2     131     237   \n",
       "days_since_last_call        NaT  903.151   293.324       0     999     999   \n",
       "num_contacts_prev           NaT    0.272  0.643132       0       0       0   \n",
       "poutcome                    NaT      NaN       NaN     NaN     NaN     NaN   \n",
       "contact_date         2018-07-12      NaN       NaN     NaN     NaN     NaN   \n",
       "cpi                         NaT  107.348   107.885  92.201  92.963  93.444   \n",
       "subs_deposit                NaT   0.3975  0.489442       0       0       0   \n",
       "\n",
       "                         75%     max  \n",
       "client_id                NaN     NaN  \n",
       "age_bracket              NaN     NaN  \n",
       "job                      NaN     NaN  \n",
       "marital                  NaN     NaN  \n",
       "education                NaN     NaN  \n",
       "has_housing_loan         NaN     NaN  \n",
       "has_personal_loan        NaN     NaN  \n",
       "prev_call_duration       461  419900  \n",
       "days_since_last_call     999     999  \n",
       "num_contacts_prev          0       6  \n",
       "poutcome                 NaN     NaN  \n",
       "contact_date             NaN     NaN  \n",
       "cpi                   93.994  947.67  \n",
       "subs_deposit               1       1  "
      ]
     },
     "execution_count": 56,
     "metadata": {},
     "output_type": "execute_result"
    }
   ],
   "source": [
    "sample_type = {\n",
    "    'client_id': 'str',\n",
    " 'age_bracket': 'str',\n",
    " 'job': 'str',\n",
    " 'marital': 'str',\n",
    " 'education': 'str',\n",
    " 'has_housing_loan': 'str',\n",
    " 'has_personal_loan': 'str',\n",
    " 'prev_call_duration': 'int', # ! check the maximum value\n",
    " 'days_since_last_call': 'int', # ! check the maximum value\n",
    " 'num_contacts_prev':'int', # ! check the maximum value\n",
    " 'poutcome': 'str',\n",
    " 'contact_date': 'str',\n",
    " 'cpi': 'float',\n",
    " 'subs_deposit':'int', # ! check the binary, this could be the target label.\n",
    "}\n",
    "\n",
    "df_raw = pd.read_csv(data_filepath, dtype=sample_type, parse_dates=['contact_date'], infer_datetime_format=True)\n",
    "df_raw.describe(include='all').T"
   ]
  },
  {
   "cell_type": "code",
   "execution_count": 57,
   "metadata": {},
   "outputs": [
    {
     "name": "stdout",
     "output_type": "stream",
     "text": [
      "<class 'pandas.core.frame.DataFrame'>\n",
      "RangeIndex: 4000 entries, 0 to 3999\n",
      "Data columns (total 14 columns):\n",
      "client_id               4000 non-null object\n",
      "age_bracket             4000 non-null object\n",
      "job                     4000 non-null object\n",
      "marital                 4000 non-null object\n",
      "education               4000 non-null object\n",
      "has_housing_loan        4000 non-null object\n",
      "has_personal_loan       4000 non-null object\n",
      "prev_call_duration      4000 non-null int64\n",
      "days_since_last_call    4000 non-null int64\n",
      "num_contacts_prev       4000 non-null int64\n",
      "poutcome                4000 non-null object\n",
      "contact_date            4000 non-null datetime64[ns]\n",
      "cpi                     4000 non-null float64\n",
      "subs_deposit            4000 non-null int64\n",
      "dtypes: datetime64[ns](1), float64(1), int64(4), object(8)\n",
      "memory usage: 437.6+ KB\n"
     ]
    }
   ],
   "source": [
    "df_raw.info()"
   ]
  },
  {
   "cell_type": "markdown",
   "metadata": {},
   "source": [
    "#### Check 'client_id'"
   ]
  },
  {
   "cell_type": "code",
   "execution_count": 58,
   "metadata": {},
   "outputs": [],
   "source": [
    "# is the ID unique ?\n",
    "assert len(df_raw.client_id.unique())== df_raw.shape[0], 'client id is not unique!'"
   ]
  },
  {
   "cell_type": "code",
   "execution_count": 59,
   "metadata": {},
   "outputs": [
    {
     "data": {
      "image/png": "[encoded data removed]",
      "text/plain": [
       "<Figure size 432x288 with 1 Axes>"
      ]
     },
     "metadata": {
      "needs_background": "light"
     },
     "output_type": "display_data"
    }
   ],
   "source": [
    "# check the ID distribution\n",
    "df_temp = df_raw.client_id.astype('float')\n",
    "ax = df_temp.hist()"
   ]
  },
  {
   "cell_type": "code",
   "execution_count": 61,
   "metadata": {},
   "outputs": [],
   "source": [
    "# id is good, make a copy of the raw data and set client_id as index\n",
    "df_data = df_raw.copy() # make sure the raw data is ready for cross-reference.\n",
    "df_data.set_index('client_id', inplace=True)\n"
   ]
  },
  {
   "cell_type": "markdown",
   "metadata": {},
   "source": [
    "### Category Features\n",
    "Categorical feature needs to be encoded.\n",
    "#### age_bracket"
   ]
  },
  {
   "cell_type": "code",
   "execution_count": 62,
   "metadata": {},
   "outputs": [
    {
     "data": {
      "text/plain": [
       "(25-40    2161\n",
       " 41-60    1544\n",
       " 18-24     148\n",
       " 60+       147\n",
       " Name: age_bracket, dtype: int64,\n",
       " array(['41-60', '60+', '25-40', '18-24'], dtype=object))"
      ]
     },
     "execution_count": 62,
     "metadata": {},
     "output_type": "execute_result"
    }
   ],
   "source": [
    "df_raw.age_bracket.value_counts(), df_raw.age_bracket.unique()"
   ]
  },
  {
   "cell_type": "code",
   "execution_count": 64,
   "metadata": {},
   "outputs": [
    {
     "data": {
      "text/plain": [
       "4000"
      ]
     },
     "execution_count": 64,
     "metadata": {},
     "output_type": "execute_result"
    }
   ],
   "source": [
    "# check to see if there is nan\n",
    "df_raw.age_bracket.value_counts().sum()"
   ]
  },
  {
   "cell_type": "markdown",
   "metadata": {},
   "source": [
    "#### job"
   ]
  },
  {
   "cell_type": "code",
   "execution_count": 66,
   "metadata": {},
   "outputs": [
    {
     "data": {
      "text/plain": [
       "white-collar     1366\n",
       "blue-collar       769\n",
       "technician        640\n",
       "other             503\n",
       "pink-collar       455\n",
       "self-employed     153\n",
       "entrepreneur      114\n",
       "Name: job, dtype: int64"
      ]
     },
     "execution_count": 66,
     "metadata": {},
     "output_type": "execute_result"
    }
   ],
   "source": [
    "df_raw.job.value_counts().sort_values(ascending=False)"
   ]
  },
  {
   "cell_type": "code",
   "execution_count": 67,
   "metadata": {},
   "outputs": [
    {
     "data": {
      "text/plain": [
       "4000"
      ]
     },
     "execution_count": 67,
     "metadata": {},
     "output_type": "execute_result"
    }
   ],
   "source": [
    "df_raw.job.value_counts().sum()"
   ]
  },
  {
   "cell_type": "markdown",
   "metadata": {},
   "source": [
    "#### marital"
   ]
  },
  {
   "cell_type": "code",
   "execution_count": 71,
   "metadata": {},
   "outputs": [
    {
     "data": {
      "text/plain": [
       "(married     2374\n",
       " single      1176\n",
       " divorced     442\n",
       " unknown        8\n",
       " Name: marital, dtype: int64,\n",
       " 4000)"
      ]
     },
     "execution_count": 71,
     "metadata": {},
     "output_type": "execute_result"
    }
   ],
   "source": [
    "df_raw.marital.value_counts(), df_raw.job.value_counts().sum() "
   ]
  },
  {
   "cell_type": "markdown",
   "metadata": {},
   "source": [
    "#### education"
   ]
  },
  {
   "cell_type": "code",
   "execution_count": 72,
   "metadata": {},
   "outputs": [
    {
     "data": {
      "text/plain": [
       "(bachelors           1274\n",
       " secondary           1114\n",
       " senior_secondary     908\n",
       " masters              524\n",
       " unknown              176\n",
       " illiterate             4\n",
       " Name: education, dtype: int64,\n",
       " 4000)"
      ]
     },
     "execution_count": 72,
     "metadata": {},
     "output_type": "execute_result"
    }
   ],
   "source": [
    "df_raw.education.value_counts(), df_raw.education.value_counts().sum()"
   ]
  },
  {
   "cell_type": "code",
   "execution_count": 73,
   "metadata": {},
   "outputs": [
    {
     "data": {
      "text/plain": [
       "(yes        2115\n",
       " no         1793\n",
       " unknown      92\n",
       " Name: has_housing_loan, dtype: int64,\n",
       " 4000)"
      ]
     },
     "execution_count": 73,
     "metadata": {},
     "output_type": "execute_result"
    }
   ],
   "source": [
    "# has_housing_loan  \n",
    "df_raw.has_housing_loan.value_counts(),df_raw.has_housing_loan.value_counts().sum()"
   ]
  },
  {
   "cell_type": "code",
   "execution_count": 74,
   "metadata": {},
   "outputs": [
    {
     "data": {
      "text/plain": [
       "(no         3335\n",
       " yes         573\n",
       " unknown      92\n",
       " Name: has_personal_loan, dtype: int64,\n",
       " 4000)"
      ]
     },
     "execution_count": 74,
     "metadata": {},
     "output_type": "execute_result"
    }
   ],
   "source": [
    "# has_personal_loan\n",
    "df_raw.has_personal_loan.value_counts(),df_raw.has_personal_loan.value_counts().sum()"
   ]
  },
  {
   "cell_type": "code",
   "execution_count": 75,
   "metadata": {},
   "outputs": [
    {
     "data": {
      "text/plain": [
       "(nonexistent    3219\n",
       " failure         419\n",
       " success         362\n",
       " Name: poutcome, dtype: int64,\n",
       " 4000)"
      ]
     },
     "execution_count": 75,
     "metadata": {},
     "output_type": "execute_result"
    }
   ],
   "source": [
    "# poutcome\n",
    "df_raw.poutcome.value_counts(), df_raw.poutcome.value_counts().sum()"
   ]
  },
  {
   "cell_type": "code",
   "execution_count": 76,
   "metadata": {},
   "outputs": [
    {
     "data": {
      "text/plain": [
       "(0    2410\n",
       " 1    1590\n",
       " Name: subs_deposit, dtype: int64,\n",
       " 4000)"
      ]
     },
     "execution_count": 76,
     "metadata": {},
     "output_type": "execute_result"
    }
   ],
   "source": [
    "df_raw.subs_deposit.value_counts(), df_raw.subs_deposit.value_counts().sum()"
   ]
  },
  {
   "cell_type": "markdown",
   "metadata": {},
   "source": [
    "### Contact Date\n",
    "Time is very important which can affect people's decision making due to other factors, such as holiday, news, weather, etc.\n",
    "\n",
    "There are 50 unique date in the contact_date feature.\n",
    "\n",
    "The year is 2018. Thus the month, day, weekday can be more useful for modelling.\n",
    "\n",
    "If we can tell which month/week/day people want to save or spend money, this is a good feature."
   ]
  },
  {
   "cell_type": "code",
   "execution_count": 79,
   "metadata": {},
   "outputs": [
    {
     "name": "stdout",
     "output_type": "stream",
     "text": [
      "Unique Datetime: 50\n"
     ]
    },
    {
     "data": {
      "image/png": "[encoded data removed]",
      "text/plain": [
       "<Figure size 1440x360 with 1 Axes>"
      ]
     },
     "metadata": {
      "needs_background": "light"
     },
     "output_type": "display_data"
    }
   ],
   "source": [
    "print('Unique Datetime: {}'.format(len(df_raw.contact_date.unique())))\n",
    "ax = df_raw.sort_values(by='contact_date').contact_date.value_counts().plot(kind='bar', figsize=(20,5), rot=45)"
   ]
  },
  {
   "cell_type": "code",
   "execution_count": 83,
   "metadata": {},
   "outputs": [],
   "source": [
    "# leave the df_raw as it is.\n",
    "# modify the df_data to add more time related features.\n",
    "df_data['contact_month'] = df_data.contact_date.dt.month\n",
    "df_data['contact_day'] = df_data.contact_date.dt.day\n",
    "# we could also find the more granular features, like week and weekday\n",
    "df_data['contact_week'] = df_data.contact_date.dt.week  \n",
    "# week of the year similar to the month but with more granularity\n",
    "# we also care about people's mode on different days, \n",
    "# for example, people who contacted on sunday, monday, tuesday, etc.\n",
    "# weekday of the week, 1 is Monday, 7 is Sunday\n",
    "df_data['contact_weekday'] = df_data.contact_date.dt.weekday + 1 \n",
    "# we can drop the contect_date for modelling, all the time feature are now categoiral."
   ]
  },
  {
   "cell_type": "code",
   "execution_count": 84,
   "metadata": {},
   "outputs": [
    {
     "data": {
      "text/html": [
       "<div>\n",
       "<style scoped>\n",
       "    .dataframe tbody tr th:only-of-type {\n",
       "        vertical-align: middle;\n",
       "    }\n",
       "\n",
       "    .dataframe tbody tr th {\n",
       "        vertical-align: top;\n",
       "    }\n",
       "\n",
       "    .dataframe thead th {\n",
       "        text-align: right;\n",
       "    }\n",
       "</style>\n",
       "<table border=\"1\" class=\"dataframe\">\n",
       "  <thead>\n",
       "    <tr style=\"text-align: right;\">\n",
       "      <th></th>\n",
       "      <th>age_bracket</th>\n",
       "      <th>job</th>\n",
       "      <th>marital</th>\n",
       "      <th>education</th>\n",
       "      <th>has_housing_loan</th>\n",
       "      <th>has_personal_loan</th>\n",
       "      <th>prev_call_duration</th>\n",
       "      <th>days_since_last_call</th>\n",
       "      <th>num_contacts_prev</th>\n",
       "      <th>poutcome</th>\n",
       "      <th>contact_date</th>\n",
       "      <th>cpi</th>\n",
       "      <th>subs_deposit</th>\n",
       "      <th>contact_month</th>\n",
       "      <th>contact_day</th>\n",
       "      <th>contact_week</th>\n",
       "      <th>contact_weekday</th>\n",
       "    </tr>\n",
       "    <tr>\n",
       "      <th>client_id</th>\n",
       "      <th></th>\n",
       "      <th></th>\n",
       "      <th></th>\n",
       "      <th></th>\n",
       "      <th></th>\n",
       "      <th></th>\n",
       "      <th></th>\n",
       "      <th></th>\n",
       "      <th></th>\n",
       "      <th></th>\n",
       "      <th></th>\n",
       "      <th></th>\n",
       "      <th></th>\n",
       "      <th></th>\n",
       "      <th></th>\n",
       "      <th></th>\n",
       "      <th></th>\n",
       "    </tr>\n",
       "  </thead>\n",
       "  <tbody>\n",
       "    <tr>\n",
       "      <th>41020</th>\n",
       "      <td>41-60</td>\n",
       "      <td>white-collar</td>\n",
       "      <td>divorced</td>\n",
       "      <td>bachelors</td>\n",
       "      <td>yes</td>\n",
       "      <td>no</td>\n",
       "      <td>283</td>\n",
       "      <td>3</td>\n",
       "      <td>1</td>\n",
       "      <td>success</td>\n",
       "      <td>2018-07-09</td>\n",
       "      <td>92.379</td>\n",
       "      <td>1</td>\n",
       "      <td>7</td>\n",
       "      <td>9</td>\n",
       "      <td>28</td>\n",
       "      <td>1</td>\n",
       "    </tr>\n",
       "    <tr>\n",
       "      <th>23720</th>\n",
       "      <td>60+</td>\n",
       "      <td>other</td>\n",
       "      <td>divorced</td>\n",
       "      <td>secondary</td>\n",
       "      <td>no</td>\n",
       "      <td>yes</td>\n",
       "      <td>169</td>\n",
       "      <td>6</td>\n",
       "      <td>2</td>\n",
       "      <td>success</td>\n",
       "      <td>2018-05-07</td>\n",
       "      <td>94.215</td>\n",
       "      <td>1</td>\n",
       "      <td>5</td>\n",
       "      <td>7</td>\n",
       "      <td>19</td>\n",
       "      <td>1</td>\n",
       "    </tr>\n",
       "    <tr>\n",
       "      <th>29378</th>\n",
       "      <td>41-60</td>\n",
       "      <td>white-collar</td>\n",
       "      <td>married</td>\n",
       "      <td>bachelors</td>\n",
       "      <td>no</td>\n",
       "      <td>no</td>\n",
       "      <td>552</td>\n",
       "      <td>999</td>\n",
       "      <td>0</td>\n",
       "      <td>nonexistent</td>\n",
       "      <td>2018-01-08</td>\n",
       "      <td>93.444</td>\n",
       "      <td>1</td>\n",
       "      <td>1</td>\n",
       "      <td>8</td>\n",
       "      <td>2</td>\n",
       "      <td>1</td>\n",
       "    </tr>\n",
       "    <tr>\n",
       "      <th>36636</th>\n",
       "      <td>25-40</td>\n",
       "      <td>technician</td>\n",
       "      <td>single</td>\n",
       "      <td>senior_secondary</td>\n",
       "      <td>yes</td>\n",
       "      <td>yes</td>\n",
       "      <td>206</td>\n",
       "      <td>999</td>\n",
       "      <td>0</td>\n",
       "      <td>nonexistent</td>\n",
       "      <td>2018-02-11</td>\n",
       "      <td>93.200</td>\n",
       "      <td>0</td>\n",
       "      <td>2</td>\n",
       "      <td>11</td>\n",
       "      <td>6</td>\n",
       "      <td>7</td>\n",
       "    </tr>\n",
       "    <tr>\n",
       "      <th>38229</th>\n",
       "      <td>18-24</td>\n",
       "      <td>white-collar</td>\n",
       "      <td>single</td>\n",
       "      <td>bachelors</td>\n",
       "      <td>no</td>\n",
       "      <td>no</td>\n",
       "      <td>341</td>\n",
       "      <td>999</td>\n",
       "      <td>0</td>\n",
       "      <td>nonexistent</td>\n",
       "      <td>2018-04-04</td>\n",
       "      <td>93.075</td>\n",
       "      <td>1</td>\n",
       "      <td>4</td>\n",
       "      <td>4</td>\n",
       "      <td>14</td>\n",
       "      <td>3</td>\n",
       "    </tr>\n",
       "    <tr>\n",
       "      <th>...</th>\n",
       "      <td>...</td>\n",
       "      <td>...</td>\n",
       "      <td>...</td>\n",
       "      <td>...</td>\n",
       "      <td>...</td>\n",
       "      <td>...</td>\n",
       "      <td>...</td>\n",
       "      <td>...</td>\n",
       "      <td>...</td>\n",
       "      <td>...</td>\n",
       "      <td>...</td>\n",
       "      <td>...</td>\n",
       "      <td>...</td>\n",
       "      <td>...</td>\n",
       "      <td>...</td>\n",
       "      <td>...</td>\n",
       "      <td>...</td>\n",
       "    </tr>\n",
       "    <tr>\n",
       "      <th>7519</th>\n",
       "      <td>41-60</td>\n",
       "      <td>entrepreneur</td>\n",
       "      <td>single</td>\n",
       "      <td>secondary</td>\n",
       "      <td>yes</td>\n",
       "      <td>no</td>\n",
       "      <td>396</td>\n",
       "      <td>999</td>\n",
       "      <td>0</td>\n",
       "      <td>nonexistent</td>\n",
       "      <td>2018-02-05</td>\n",
       "      <td>92.893</td>\n",
       "      <td>1</td>\n",
       "      <td>2</td>\n",
       "      <td>5</td>\n",
       "      <td>6</td>\n",
       "      <td>1</td>\n",
       "    </tr>\n",
       "    <tr>\n",
       "      <th>29822</th>\n",
       "      <td>41-60</td>\n",
       "      <td>white-collar</td>\n",
       "      <td>married</td>\n",
       "      <td>bachelors</td>\n",
       "      <td>yes</td>\n",
       "      <td>no</td>\n",
       "      <td>115</td>\n",
       "      <td>999</td>\n",
       "      <td>0</td>\n",
       "      <td>nonexistent</td>\n",
       "      <td>2018-01-08</td>\n",
       "      <td>93.444</td>\n",
       "      <td>0</td>\n",
       "      <td>1</td>\n",
       "      <td>8</td>\n",
       "      <td>2</td>\n",
       "      <td>1</td>\n",
       "    </tr>\n",
       "    <tr>\n",
       "      <th>24462</th>\n",
       "      <td>25-40</td>\n",
       "      <td>white-collar</td>\n",
       "      <td>married</td>\n",
       "      <td>senior_secondary</td>\n",
       "      <td>yes</td>\n",
       "      <td>no</td>\n",
       "      <td>214</td>\n",
       "      <td>999</td>\n",
       "      <td>0</td>\n",
       "      <td>nonexistent</td>\n",
       "      <td>2018-06-07</td>\n",
       "      <td>93.918</td>\n",
       "      <td>0</td>\n",
       "      <td>6</td>\n",
       "      <td>7</td>\n",
       "      <td>23</td>\n",
       "      <td>4</td>\n",
       "    </tr>\n",
       "    <tr>\n",
       "      <th>26089</th>\n",
       "      <td>25-40</td>\n",
       "      <td>pink-collar</td>\n",
       "      <td>married</td>\n",
       "      <td>secondary</td>\n",
       "      <td>yes</td>\n",
       "      <td>no</td>\n",
       "      <td>76</td>\n",
       "      <td>999</td>\n",
       "      <td>0</td>\n",
       "      <td>nonexistent</td>\n",
       "      <td>2018-02-07</td>\n",
       "      <td>93.918</td>\n",
       "      <td>0</td>\n",
       "      <td>2</td>\n",
       "      <td>7</td>\n",
       "      <td>6</td>\n",
       "      <td>3</td>\n",
       "    </tr>\n",
       "    <tr>\n",
       "      <th>40631</th>\n",
       "      <td>25-40</td>\n",
       "      <td>white-collar</td>\n",
       "      <td>single</td>\n",
       "      <td>bachelors</td>\n",
       "      <td>yes</td>\n",
       "      <td>no</td>\n",
       "      <td>368</td>\n",
       "      <td>999</td>\n",
       "      <td>0</td>\n",
       "      <td>nonexistent</td>\n",
       "      <td>2018-04-09</td>\n",
       "      <td>92.379</td>\n",
       "      <td>0</td>\n",
       "      <td>4</td>\n",
       "      <td>9</td>\n",
       "      <td>15</td>\n",
       "      <td>1</td>\n",
       "    </tr>\n",
       "  </tbody>\n",
       "</table>\n",
       "<p>4000 rows × 17 columns</p>\n",
       "</div>"
      ],
      "text/plain": [
       "          age_bracket           job   marital         education  \\\n",
       "client_id                                                         \n",
       "41020           41-60  white-collar  divorced         bachelors   \n",
       "23720             60+         other  divorced         secondary   \n",
       "29378           41-60  white-collar   married         bachelors   \n",
       "36636           25-40    technician    single  senior_secondary   \n",
       "38229           18-24  white-collar    single         bachelors   \n",
       "...               ...           ...       ...               ...   \n",
       "7519            41-60  entrepreneur    single         secondary   \n",
       "29822           41-60  white-collar   married         bachelors   \n",
       "24462           25-40  white-collar   married  senior_secondary   \n",
       "26089           25-40   pink-collar   married         secondary   \n",
       "40631           25-40  white-collar    single         bachelors   \n",
       "\n",
       "          has_housing_loan has_personal_loan  prev_call_duration  \\\n",
       "client_id                                                          \n",
       "41020                  yes                no                 283   \n",
       "23720                   no               yes                 169   \n",
       "29378                   no                no                 552   \n",
       "36636                  yes               yes                 206   \n",
       "38229                   no                no                 341   \n",
       "...                    ...               ...                 ...   \n",
       "7519                   yes                no                 396   \n",
       "29822                  yes                no                 115   \n",
       "24462                  yes                no                 214   \n",
       "26089                  yes                no                  76   \n",
       "40631                  yes                no                 368   \n",
       "\n",
       "           days_since_last_call  num_contacts_prev     poutcome contact_date  \\\n",
       "client_id                                                                      \n",
       "41020                         3                  1      success   2018-07-09   \n",
       "23720                         6                  2      success   2018-05-07   \n",
       "29378                       999                  0  nonexistent   2018-01-08   \n",
       "36636                       999                  0  nonexistent   2018-02-11   \n",
       "38229                       999                  0  nonexistent   2018-04-04   \n",
       "...                         ...                ...          ...          ...   \n",
       "7519                        999                  0  nonexistent   2018-02-05   \n",
       "29822                       999                  0  nonexistent   2018-01-08   \n",
       "24462                       999                  0  nonexistent   2018-06-07   \n",
       "26089                       999                  0  nonexistent   2018-02-07   \n",
       "40631                       999                  0  nonexistent   2018-04-09   \n",
       "\n",
       "              cpi  subs_deposit  contact_month  contact_day  contact_week  \\\n",
       "client_id                                                                   \n",
       "41020      92.379             1              7            9            28   \n",
       "23720      94.215             1              5            7            19   \n",
       "29378      93.444             1              1            8             2   \n",
       "36636      93.200             0              2           11             6   \n",
       "38229      93.075             1              4            4            14   \n",
       "...           ...           ...            ...          ...           ...   \n",
       "7519       92.893             1              2            5             6   \n",
       "29822      93.444             0              1            8             2   \n",
       "24462      93.918             0              6            7            23   \n",
       "26089      93.918             0              2            7             6   \n",
       "40631      92.379             0              4            9            15   \n",
       "\n",
       "           contact_weekday  \n",
       "client_id                   \n",
       "41020                    1  \n",
       "23720                    1  \n",
       "29378                    1  \n",
       "36636                    7  \n",
       "38229                    3  \n",
       "...                    ...  \n",
       "7519                     1  \n",
       "29822                    1  \n",
       "24462                    4  \n",
       "26089                    3  \n",
       "40631                    1  \n",
       "\n",
       "[4000 rows x 17 columns]"
      ]
     },
     "execution_count": 84,
     "metadata": {},
     "output_type": "execute_result"
    }
   ],
   "source": [
    "df_data"
   ]
  },
  {
   "cell_type": "markdown",
   "metadata": {},
   "source": [
    "### Numeric Features\n",
    "\n",
    "#### prev_call_duration"
   ]
  },
  {
   "cell_type": "code",
   "execution_count": 85,
   "metadata": {},
   "outputs": [
    {
     "data": {
      "text/plain": [
       "count      4000.000000\n",
       "mean       3871.142250\n",
       "std       26080.549053\n",
       "min           2.000000\n",
       "25%         131.000000\n",
       "50%         237.000000\n",
       "75%         461.000000\n",
       "max      419900.000000\n",
       "Name: prev_call_duration, dtype: float64"
      ]
     },
     "execution_count": 85,
     "metadata": {},
     "output_type": "execute_result"
    }
   ],
   "source": [
    "df_raw.prev_call_duration.describe()"
   ]
  },
  {
   "cell_type": "markdown",
   "metadata": {},
   "source": [
    "<font color='red'> The prev_call_duration mean value (3871.14) is far away from the median value (237.00). \n",
    "There may be outlier in this feature. </font>"
   ]
  },
  {
   "cell_type": "code",
   "execution_count": 86,
   "metadata": {},
   "outputs": [
    {
     "name": "stdout",
     "output_type": "stream",
     "text": [
      " upper_bound: 956.0\n"
     ]
    }
   ],
   "source": [
    "# compute the upper bound based on the IQR\n",
    "q1 = df_raw.prev_call_duration.quantile(0.25)\n",
    "q3 = df_raw.prev_call_duration.quantile(0.75)\n",
    "iqr = q3 - q1\n",
    "# lower_bound = q1 -(1.5 * iqr)\n",
    "upper_bound = q3 +(1.5 * iqr)\n",
    "print(f' upper_bound: {upper_bound}')"
   ]
  },
  {
   "cell_type": "code",
   "execution_count": 88,
   "metadata": {},
   "outputs": [
    {
     "data": {
      "image/png": "[encoded data removed]",
      "text/plain": [
       "<Figure size 432x288 with 3 Axes>"
      ]
     },
     "metadata": {
      "needs_background": "light"
     },
     "output_type": "display_data"
    }
   ],
   "source": [
    "# check the data\n",
    "import matplotlib.pyplot as plt\n",
    "plt.subplot(1,3,1)\n",
    "df_raw.boxplot(column='prev_call_duration')\n",
    "plt.subplot(1,3,2)\n",
    "df_raw[df_raw.prev_call_duration < 100000].boxplot(column='prev_call_duration')\n",
    "plt.subplot(1,3,3)\n",
    "df_raw[df_raw.prev_call_duration < upper_bound].boxplot(\n",
    "    column='prev_call_duration')\n",
    "plt.show()"
   ]
  },
  {
   "cell_type": "code",
   "execution_count": 94,
   "metadata": {},
   "outputs": [
    {
     "data": {
      "text/plain": [
       "79"
      ]
     },
     "execution_count": 94,
     "metadata": {},
     "output_type": "execute_result"
    }
   ],
   "source": [
    "df_raw[df_raw.prev_call_duration>100000].shape[0]"
   ]
  },
  {
   "cell_type": "code",
   "execution_count": 102,
   "metadata": {},
   "outputs": [
    {
     "name": "stdout",
     "output_type": "stream",
     "text": [
      "419900 seconds means 116.638889 hours or 4.859954 days\n"
     ]
    }
   ],
   "source": [
    "print( '{} seconds means {:4f} hours or {:4f} days'.format(419900, 419900/60/60, 419900/60/60/24))"
   ]
  },
  {
   "cell_type": "markdown",
   "metadata": {},
   "source": [
    "Base on observation, there are too many outliers in this feature.\n",
    "700 seconds is about 12 mins, which is a reasonable value.\n",
    "Even, 1400 seconds is about 24 mins, which is also a reasonable value.\n",
    "But, >100000 seconds is not reasonable.\n",
    "We may consider to drop this feature or remove those samples.\n",
    "\n",
    "**Note**: <font color='red'>I guess these >100000 seconds records is 100 times larger than its real value. We find 79 records of this feature.\n",
    "    \n",
    "For example, the value 419900.000000 should be 4199.00.\n",
    "\n",
    "</font>"
   ]
  },
  {
   "cell_type": "markdown",
   "metadata": {},
   "source": [
    "#### days_since_last_call\n",
    "\n",
    "We know that the 999 means client was not previously contacted."
   ]
  },
  {
   "cell_type": "code",
   "execution_count": 103,
   "metadata": {},
   "outputs": [
    {
     "data": {
      "text/plain": [
       "count    4000.000000\n",
       "mean      903.150750\n",
       "std       293.323535\n",
       "min         0.000000\n",
       "25%       999.000000\n",
       "50%       999.000000\n",
       "75%       999.000000\n",
       "max       999.000000\n",
       "Name: days_since_last_call, dtype: float64"
      ]
     },
     "execution_count": 103,
     "metadata": {},
     "output_type": "execute_result"
    }
   ],
   "source": [
    "df_raw.days_since_last_call.describe()"
   ]
  },
  {
   "cell_type": "code",
   "execution_count": 117,
   "metadata": {},
   "outputs": [
    {
     "data": {
      "image/png": "[encoded data removed]",
      "text/plain": [
       "<Figure size 432x288 with 1 Axes>"
      ]
     },
     "metadata": {
      "needs_background": "light"
     },
     "output_type": "display_data"
    }
   ],
   "source": [
    "upper_bound = 999\n",
    "ax = df_raw[df_raw.days_since_last_call < upper_bound].hist(\n",
    "    column='days_since_last_call')"
   ]
  },
  {
   "cell_type": "code",
   "execution_count": 118,
   "metadata": {},
   "outputs": [
    {
     "data": {
      "image/png": "[encoded data removed]",
      "text/plain": [
       "<Figure size 432x288 with 1 Axes>"
      ]
     },
     "metadata": {
      "needs_background": "light"
     },
     "output_type": "display_data"
    }
   ],
   "source": [
    "# check data distribution\n",
    "ax = df_raw[df_raw.days_since_last_call < upper_bound].boxplot(\n",
    "    column='days_since_last_call')"
   ]
  },
  {
   "cell_type": "code",
   "execution_count": 119,
   "metadata": {},
   "outputs": [
    {
     "data": {
      "text/plain": [
       "3614"
      ]
     },
     "execution_count": 119,
     "metadata": {},
     "output_type": "execute_result"
    }
   ],
   "source": [
    "df_raw[df_raw.days_since_last_call == 999].shape[0]"
   ]
  },
  {
   "cell_type": "markdown",
   "metadata": {},
   "source": [
    "Value '999' is not a good number to indicate the client has not been contacted, it should be transform to a negtive value like (-1), there is high chance this feature does not fit the guassion distribution, protentially it can be converted inot a categorical data. Because there are too many samples.\n",
    "If we use tree-based model this feature maynot affect the model performance. But it will hurt MLP and other models based on numerical values.\n"
   ]
  },
  {
   "cell_type": "markdown",
   "metadata": {},
   "source": [
    "#### num_contact_prev"
   ]
  },
  {
   "cell_type": "code",
   "execution_count": 120,
   "metadata": {},
   "outputs": [
    {
     "data": {
      "text/plain": [
       "(0    3219\n",
       " 1     567\n",
       " 2     144\n",
       " 3      54\n",
       " 4      10\n",
       " 5       5\n",
       " 6       1\n",
       " Name: num_contacts_prev, dtype: int64,\n",
       " 4000)"
      ]
     },
     "execution_count": 120,
     "metadata": {},
     "output_type": "execute_result"
    }
   ],
   "source": [
    "df_raw.num_contacts_prev.value_counts(), df_raw.num_contacts_prev.value_counts().sum()"
   ]
  },
  {
   "cell_type": "code",
   "execution_count": 122,
   "metadata": {},
   "outputs": [
    {
     "data": {
      "text/html": [
       "<div>\n",
       "<style scoped>\n",
       "    .dataframe tbody tr th:only-of-type {\n",
       "        vertical-align: middle;\n",
       "    }\n",
       "\n",
       "    .dataframe tbody tr th {\n",
       "        vertical-align: top;\n",
       "    }\n",
       "\n",
       "    .dataframe thead th {\n",
       "        text-align: right;\n",
       "    }\n",
       "</style>\n",
       "<table border=\"1\" class=\"dataframe\">\n",
       "  <thead>\n",
       "    <tr style=\"text-align: right;\">\n",
       "      <th></th>\n",
       "      <th>num_contacts_prev</th>\n",
       "      <th>cumsum_num_contacts_prev</th>\n",
       "      <th>ratio</th>\n",
       "    </tr>\n",
       "  </thead>\n",
       "  <tbody>\n",
       "    <tr>\n",
       "      <th>0</th>\n",
       "      <td>3219</td>\n",
       "      <td>3219</td>\n",
       "      <td>0.80475</td>\n",
       "    </tr>\n",
       "    <tr>\n",
       "      <th>1</th>\n",
       "      <td>567</td>\n",
       "      <td>3786</td>\n",
       "      <td>0.94650</td>\n",
       "    </tr>\n",
       "    <tr>\n",
       "      <th>2</th>\n",
       "      <td>144</td>\n",
       "      <td>3930</td>\n",
       "      <td>0.98250</td>\n",
       "    </tr>\n",
       "    <tr>\n",
       "      <th>3</th>\n",
       "      <td>54</td>\n",
       "      <td>3984</td>\n",
       "      <td>0.99600</td>\n",
       "    </tr>\n",
       "    <tr>\n",
       "      <th>4</th>\n",
       "      <td>10</td>\n",
       "      <td>3994</td>\n",
       "      <td>0.99850</td>\n",
       "    </tr>\n",
       "    <tr>\n",
       "      <th>5</th>\n",
       "      <td>5</td>\n",
       "      <td>3999</td>\n",
       "      <td>0.99975</td>\n",
       "    </tr>\n",
       "    <tr>\n",
       "      <th>6</th>\n",
       "      <td>1</td>\n",
       "      <td>4000</td>\n",
       "      <td>1.00000</td>\n",
       "    </tr>\n",
       "  </tbody>\n",
       "</table>\n",
       "</div>"
      ],
      "text/plain": [
       "   num_contacts_prev  cumsum_num_contacts_prev    ratio\n",
       "0               3219                      3219  0.80475\n",
       "1                567                      3786  0.94650\n",
       "2                144                      3930  0.98250\n",
       "3                 54                      3984  0.99600\n",
       "4                 10                      3994  0.99850\n",
       "5                  5                      3999  0.99975\n",
       "6                  1                      4000  1.00000"
      ]
     },
     "execution_count": 122,
     "metadata": {},
     "output_type": "execute_result"
    }
   ],
   "source": [
    "# quick statistic analysis\n",
    "df_phonecall_analysis = df_raw.copy()\n",
    "df_phonecall = df_phonecall_analysis.num_contacts_prev.value_counts().to_frame(\n",
    "    'num_contacts_prev')\n",
    "df_phonecall[\n",
    "    'cumsum_num_contacts_prev'] = df_phonecall.num_contacts_prev.cumsum()\n",
    "df_phonecall[\n",
    "    'ratio'] = df_phonecall.cumsum_num_contacts_prev / df_phonecall.num_contacts_prev.sum(\n",
    "    )\n",
    "df_phonecall"
   ]
  },
  {
   "cell_type": "markdown",
   "metadata": {},
   "source": [
    "This feature also show there are a lot of clients are not been contacted before.\n",
    "\n",
    "80% percent clients are not been contacted.\n"
   ]
  },
  {
   "cell_type": "markdown",
   "metadata": {},
   "source": [
    "#### Does the phone call really works ?"
   ]
  },
  {
   "cell_type": "code",
   "execution_count": 123,
   "metadata": {},
   "outputs": [
    {
     "data": {
      "text/html": [
       "<div>\n",
       "<style scoped>\n",
       "    .dataframe tbody tr th:only-of-type {\n",
       "        vertical-align: middle;\n",
       "    }\n",
       "\n",
       "    .dataframe tbody tr th {\n",
       "        vertical-align: top;\n",
       "    }\n",
       "\n",
       "    .dataframe thead th {\n",
       "        text-align: right;\n",
       "    }\n",
       "</style>\n",
       "<table border=\"1\" class=\"dataframe\">\n",
       "  <thead>\n",
       "    <tr style=\"text-align: right;\">\n",
       "      <th></th>\n",
       "      <th></th>\n",
       "      <th>client count</th>\n",
       "      <th>client_ratio</th>\n",
       "    </tr>\n",
       "    <tr>\n",
       "      <th>num_contacts_prev</th>\n",
       "      <th>subs_deposit</th>\n",
       "      <th></th>\n",
       "      <th></th>\n",
       "    </tr>\n",
       "  </thead>\n",
       "  <tbody>\n",
       "    <tr>\n",
       "      <th rowspan=\"2\" valign=\"top\">0</th>\n",
       "      <th>0</th>\n",
       "      <td>2136</td>\n",
       "      <td>0.663560</td>\n",
       "    </tr>\n",
       "    <tr>\n",
       "      <th>1</th>\n",
       "      <td>1083</td>\n",
       "      <td>0.336440</td>\n",
       "    </tr>\n",
       "    <tr>\n",
       "      <th rowspan=\"2\" valign=\"top\">1</th>\n",
       "      <th>0</th>\n",
       "      <td>233</td>\n",
       "      <td>0.410935</td>\n",
       "    </tr>\n",
       "    <tr>\n",
       "      <th>1</th>\n",
       "      <td>334</td>\n",
       "      <td>0.589065</td>\n",
       "    </tr>\n",
       "    <tr>\n",
       "      <th rowspan=\"2\" valign=\"top\">2</th>\n",
       "      <th>0</th>\n",
       "      <td>33</td>\n",
       "      <td>0.229167</td>\n",
       "    </tr>\n",
       "    <tr>\n",
       "      <th>1</th>\n",
       "      <td>111</td>\n",
       "      <td>0.770833</td>\n",
       "    </tr>\n",
       "    <tr>\n",
       "      <th rowspan=\"2\" valign=\"top\">3</th>\n",
       "      <th>0</th>\n",
       "      <td>5</td>\n",
       "      <td>0.092593</td>\n",
       "    </tr>\n",
       "    <tr>\n",
       "      <th>1</th>\n",
       "      <td>49</td>\n",
       "      <td>0.907407</td>\n",
       "    </tr>\n",
       "    <tr>\n",
       "      <th rowspan=\"2\" valign=\"top\">4</th>\n",
       "      <th>0</th>\n",
       "      <td>2</td>\n",
       "      <td>0.200000</td>\n",
       "    </tr>\n",
       "    <tr>\n",
       "      <th>1</th>\n",
       "      <td>8</td>\n",
       "      <td>0.800000</td>\n",
       "    </tr>\n",
       "    <tr>\n",
       "      <th rowspan=\"2\" valign=\"top\">5</th>\n",
       "      <th>0</th>\n",
       "      <td>1</td>\n",
       "      <td>0.200000</td>\n",
       "    </tr>\n",
       "    <tr>\n",
       "      <th>1</th>\n",
       "      <td>4</td>\n",
       "      <td>0.800000</td>\n",
       "    </tr>\n",
       "    <tr>\n",
       "      <th>6</th>\n",
       "      <th>1</th>\n",
       "      <td>1</td>\n",
       "      <td>1.000000</td>\n",
       "    </tr>\n",
       "  </tbody>\n",
       "</table>\n",
       "</div>"
      ],
      "text/plain": [
       "                                client count  client_ratio\n",
       "num_contacts_prev subs_deposit                            \n",
       "0                 0                     2136      0.663560\n",
       "                  1                     1083      0.336440\n",
       "1                 0                      233      0.410935\n",
       "                  1                      334      0.589065\n",
       "2                 0                       33      0.229167\n",
       "                  1                      111      0.770833\n",
       "3                 0                        5      0.092593\n",
       "                  1                       49      0.907407\n",
       "4                 0                        2      0.200000\n",
       "                  1                        8      0.800000\n",
       "5                 0                        1      0.200000\n",
       "                  1                        4      0.800000\n",
       "6                 1                        1      1.000000"
      ]
     },
     "execution_count": 123,
     "metadata": {},
     "output_type": "execute_result"
    }
   ],
   "source": [
    "df_callwork = df_raw.groupby(by = ['num_contacts_prev','subs_deposit']).client_id.count().to_frame('client count')\n",
    "df_callwork_sum = df_raw.groupby(by=['num_contacts_prev',\n",
    "                                 ]).client_id.count().to_frame('sum of call work')\n",
    "df_callwork_ratio = df_raw.groupby(\n",
    "    by=['num_contacts_prev']).subs_deposit.value_counts(\n",
    "        normalize=True).to_frame('client_ratio')\n",
    "df_callwork['client_ratio'] = df_callwork_ratio.client_ratio\n",
    "df_callwork"
   ]
  },
  {
   "cell_type": "code",
   "execution_count": 124,
   "metadata": {},
   "outputs": [
    {
     "data": {
      "image/png": "[encoded data removed]",
      "text/plain": [
       "<Figure size 720x360 with 2 Axes>"
      ]
     },
     "metadata": {
      "needs_background": "light"
     },
     "output_type": "display_data"
    }
   ],
   "source": [
    "df_temp = df_callwork.copy().reset_index()\n",
    "df_temp = df_temp[df_temp.subs_deposit == 1]\n",
    "ax = df_temp.plot(x='num_contacts_prev',\n",
    "             y=['client count', 'client_ratio'],\n",
    "             kind='bar',\n",
    "             subplots=True,\n",
    "             figsize=(10, 5),\n",
    "             title='Client Accepted the Term')\n"
   ]
  },
  {
   "cell_type": "markdown",
   "metadata": {},
   "source": [
    "<font color='green'> We see the clients who had more phonecalls will be more likely to subscribe the service </font>"
   ]
  },
  {
   "cell_type": "code",
   "execution_count": 125,
   "metadata": {},
   "outputs": [
    {
     "data": {
      "text/html": [
       "<div>\n",
       "<style scoped>\n",
       "    .dataframe tbody tr th:only-of-type {\n",
       "        vertical-align: middle;\n",
       "    }\n",
       "\n",
       "    .dataframe tbody tr th {\n",
       "        vertical-align: top;\n",
       "    }\n",
       "\n",
       "    .dataframe thead th {\n",
       "        text-align: right;\n",
       "    }\n",
       "</style>\n",
       "<table border=\"1\" class=\"dataframe\">\n",
       "  <thead>\n",
       "    <tr style=\"text-align: right;\">\n",
       "      <th></th>\n",
       "      <th></th>\n",
       "      <th>client count</th>\n",
       "      <th>client_ratio</th>\n",
       "    </tr>\n",
       "    <tr>\n",
       "      <th>contacted</th>\n",
       "      <th>subs_deposit</th>\n",
       "      <th></th>\n",
       "      <th></th>\n",
       "    </tr>\n",
       "  </thead>\n",
       "  <tbody>\n",
       "    <tr>\n",
       "      <th rowspan=\"2\" valign=\"top\">0</th>\n",
       "      <th>0</th>\n",
       "      <td>2136</td>\n",
       "      <td>0.663560</td>\n",
       "    </tr>\n",
       "    <tr>\n",
       "      <th>1</th>\n",
       "      <td>1083</td>\n",
       "      <td>0.336440</td>\n",
       "    </tr>\n",
       "    <tr>\n",
       "      <th rowspan=\"2\" valign=\"top\">1</th>\n",
       "      <th>0</th>\n",
       "      <td>274</td>\n",
       "      <td>0.350832</td>\n",
       "    </tr>\n",
       "    <tr>\n",
       "      <th>1</th>\n",
       "      <td>507</td>\n",
       "      <td>0.649168</td>\n",
       "    </tr>\n",
       "  </tbody>\n",
       "</table>\n",
       "</div>"
      ],
      "text/plain": [
       "                        client count  client_ratio\n",
       "contacted subs_deposit                            \n",
       "0         0                     2136      0.663560\n",
       "          1                     1083      0.336440\n",
       "1         0                      274      0.350832\n",
       "          1                      507      0.649168"
      ]
     },
     "execution_count": 125,
     "metadata": {},
     "output_type": "execute_result"
    }
   ],
   "source": [
    "# Add a binary feature for the client being contacted\n",
    "df_phonecall_analysis['contacted'] = df_phonecall_analysis.num_contacts_prev.apply(lambda x: 1 if x > 0 else 0)\n",
    "df_callwork = df_phonecall_analysis.groupby(\n",
    "    by=['contacted', 'subs_deposit']).client_id.count().to_frame(\n",
    "        'client count')\n",
    "df_callwork_sum = df_phonecall_analysis.groupby(by=[\n",
    "    'contacted',\n",
    "]).client_id.count().to_frame('sum of call work')\n",
    "df_callwork_ratio = df_phonecall_analysis.groupby(\n",
    "    by=['contacted']).subs_deposit.value_counts(\n",
    "        normalize=True).to_frame('client_ratio')\n",
    "df_callwork['client_ratio'] = df_callwork_ratio.client_ratio\n",
    "df_callwork"
   ]
  },
  {
   "cell_type": "markdown",
   "metadata": {},
   "source": [
    "<font color='green'> Phonecall can boost the subsription ratio from 33% to 64%.\n",
    "</font>\n",
    "\n",
    "<font color='red'> \n",
    "Meanwhile, this also tells that even without contact, 33% of the clinets may still use the subscription. \n",
    "</font>"
   ]
  },
  {
   "cell_type": "markdown",
   "metadata": {},
   "source": [
    "#### cpi\n",
    "standing consumer price index before the call (monthly indicator)"
   ]
  },
  {
   "cell_type": "code",
   "execution_count": 126,
   "metadata": {},
   "outputs": [
    {
     "data": {
      "text/plain": [
       "count    4000.000000\n",
       "mean      107.348378\n",
       "std       107.885469\n",
       "min        92.201000\n",
       "25%        92.963000\n",
       "50%        93.444000\n",
       "75%        93.994000\n",
       "max       947.670000\n",
       "Name: cpi, dtype: float64"
      ]
     },
     "execution_count": 126,
     "metadata": {},
     "output_type": "execute_result"
    }
   ],
   "source": [
    "df_raw.cpi.describe()"
   ]
  },
  {
   "cell_type": "code",
   "execution_count": 127,
   "metadata": {},
   "outputs": [
    {
     "name": "stdout",
     "output_type": "stream",
     "text": [
      " upper_bound: 95.54050000000001\n"
     ]
    },
    {
     "data": {
      "image/png": "[encoded data removed]",
      "text/plain": [
       "<Figure size 432x288 with 3 Axes>"
      ]
     },
     "metadata": {
      "needs_background": "light"
     },
     "output_type": "display_data"
    }
   ],
   "source": [
    "plt.subplot(1, 3, 1)\n",
    "df_raw.boxplot(column='cpi')\n",
    "plt.subplot(1, 3, 2)\n",
    "df_raw[df_raw.cpi < 200].boxplot(\n",
    "    column='cpi')\n",
    "\n",
    "q1 = df_raw.cpi.quantile(0.25)\n",
    "q3 = df_raw.cpi.quantile(0.75)\n",
    "iqr = q3 - q1\n",
    "# lower_bound = q1 -(1.5 * iqr)\n",
    "upper_bound = q3 + (1.5 * iqr)\n",
    "print(f' upper_bound: {upper_bound}')\n",
    "plt.subplot(1, 3, 3)\n",
    "df_raw[df_raw.cpi < upper_bound].boxplot(\n",
    "    column='cpi')\n",
    "plt.show()"
   ]
  },
  {
   "cell_type": "code",
   "execution_count": 128,
   "metadata": {},
   "outputs": [
    {
     "data": {
      "text/plain": [
       "65"
      ]
     },
     "execution_count": 128,
     "metadata": {},
     "output_type": "execute_result"
    }
   ],
   "source": [
    "df_raw[df_raw.cpi>100].shape[0]"
   ]
  },
  {
   "cell_type": "markdown",
   "metadata": {},
   "source": [
    "Clearly, we call tell there are 'errors' in the data.\n",
    "\n",
    "We see most of the data is records is in xx.xxx format. \n",
    "\n",
    "But the cpi>100 shows that the data is not correct but in xxx.xx format.\n",
    "\n",
    "**Note** \n",
    "<font color='red'>\n",
    "Reason for the error: the cpi is not in the right format. The point is in the wrong position.\n",
    "    \n",
    "For example, 947.670000 should be 94.767.\n",
    "    \n",
    "Possible solution is: $ cpi/10$, where $cpi>100$\n",
    "There are 65 samples have this issues.\n",
    "</font>    "
   ]
  },
  {
   "cell_type": "markdown",
   "metadata": {},
   "source": [
    "## Feature Engineering and Data Selection\n",
    "\n",
    "Based on the data profling results, we can create a funtion to convert the raw data to the 'normalised' format."
   ]
  },
  {
   "cell_type": "code",
   "execution_count": 173,
   "metadata": {},
   "outputs": [],
   "source": [
    "# this cell should be an python module.\n",
    "import pandas as pd\n",
    "from datetime import datetime\n",
    "import re\n",
    "\n",
    "def age_bracket_encoder(age_bracket):\n",
    "    age_bracket_to_int_dict = {\n",
    "        '18-24': 1,\n",
    "        '25-40': 2,\n",
    "        '41-60': 3,\n",
    "        '60+': 4,\n",
    "    }\n",
    "    if age_bracket in age_bracket_to_int_dict:\n",
    "        return age_bracket_to_int_dict[age_bracket]\n",
    "    else:\n",
    "        return 2 # assume middle age\n",
    "\n",
    "def job_encoder(job):\n",
    "    job_to_int_dict = {\n",
    "        'white-collar': 1,\n",
    "        'technician': 2,\n",
    "        'self-employed': 3,\n",
    "        'pink-collar': 4,\n",
    "        'other': 5,\n",
    "        'entrepreneur': 6,\n",
    "        'blue-collar': 7\n",
    "    }\n",
    "    if job in job_to_int_dict:\n",
    "        return job_to_int_dict[job]\n",
    "    else:\n",
    "        return 5 # return others if we don't know\n",
    "\n",
    "marital_type_dict = {'married': 1, 'single': 2, 'divorced': 3, 'unknown': 4}\n",
    "\n",
    "education_to_int_dict = {\n",
    "    'bachelors': 1,\n",
    "    'secondary': 2,\n",
    "    'senior_secondary': 3,\n",
    "    'masters': 4,\n",
    "    'unknown': 5,\n",
    "    'illiterate': 6\n",
    "}\n",
    "\n",
    "loan_type_dict = {'yes': 1, 'no': 0, 'unknown': 2}\n",
    "poutcome_type_dict = {'success': 1, 'failure': 0, 'nonexistent': 2}\n",
    "\n",
    "\n",
    "def convert_sample(sample):\n",
    "    new_sample = {}\n",
    "    for key in sample.keys():\n",
    "        if key == 'client_id':\n",
    "            new_sample[key] = sample[key]\n",
    "        if key == 'age_bracket':\n",
    "            new_sample[key] = age_bracket_encoder(sample[key])\n",
    "        if key == 'job':\n",
    "            new_sample[key] = job_encoder(sample[key])\n",
    "        if key == 'marital':\n",
    "            new_sample[key] = marital_type_dict[sample[key]]\n",
    "        if key == 'education':\n",
    "            new_sample[key] = education_to_int_dict[sample[key]]\n",
    "        if key == 'has_housing_loan':\n",
    "            new_sample[key] = loan_type_dict[sample[key]]\n",
    "        if key == 'has_personal_loan':\n",
    "            new_sample[key] = loan_type_dict[sample[key]]\n",
    "        if key == 'poutcome': # not used\n",
    "            new_sample[key] = poutcome_type_dict[sample[key]]\n",
    "        if key == 'prev_call_duration':\n",
    "            value = int(sample[key])\n",
    "            new_sample[key] = value if value < 100000 else 99999 # set upper bound \n",
    "        if key == 'days_since_last_call':\n",
    "            value = int(sample[key])\n",
    "            new_sample[key] = value if value !=999 else -1 \n",
    "\n",
    "        if key == 'num_contacts_prev':\n",
    "            value = int(sample[key])\n",
    "            new_sample[key] = value if value < 10 else 10\n",
    "\n",
    "        if key == 'cpi':\n",
    "            value = float(sample[key])\n",
    "            new_sample[key] = value if value < 100 else 100\n",
    "\n",
    "        if key == 'contact_date':\n",
    "            contact_data_fmt =  check_date_format(sample[key])    \n",
    "            new_sample['contact_weekday'] =  contact_data_fmt.isoweekday()\n",
    "            # https://docs.python.org/3/library/datetime.html#datetime.date.isoweekday\n",
    "    return new_sample\n",
    "\n",
    "def check_date_format(date_str):\n",
    "    # check if date is in the format dd/mm/yy \n",
    "    date_str= str(date_str)\n",
    "    # Enforce date format check\n",
    "    # \n",
    "    fmt_type_a = '^[0-3][0-9]\\/[0-1][0-9]\\/[0-9]{2}$' # '%d/%m/%y'\n",
    "    fmt_type_b = '^[0-9]{4}-[0-1][0-9]-[0-3][0-9]$'# '%Y-%m-%d'\n",
    "    fmt_type_c = '^[0-9]{4}-[0-1][0-9]-[0-3][0-9] [0-2][0-9]:[0-5][0-9]:[0-5][0-9]$'# %Y-%m-%d %H:%M:%S'\n",
    "    # print(date_str)\n",
    "    if re.match(fmt_type_a, date_str) is not None:\n",
    "        data_fmt = datetime.strptime(date_str, '%d/%m/%y')\n",
    "        return data_fmt\n",
    "    if re.match(fmt_type_b, date_str) is not None:\n",
    "        data_fmt = datetime.strptime(date_str, '%Y-%m-%d')\n",
    "        return data_fmt\n",
    "    if re.match(fmt_type_c, date_str) is not None:\n",
    "        data_fmt = datetime.strptime(date_str, '%Y-%m-%d %H:%M:%S')\n",
    "        return data_fmt\n",
    "    # if date_str is not in the format, return Today to avoid error    \n",
    "    return datetime.now().strftime('%Y-%m-%d')\n",
    "\n",
    "\n",
    "def data_preprocessing(data_filepath):\n",
    "    sample_type = {\n",
    "     'client_id': 'str',\n",
    "     'age_bracket': 'str',\n",
    "     'job': 'str',\n",
    "     'marital': 'str',\n",
    "     'education': 'str',\n",
    "     'has_housing_loan': 'str',\n",
    "     'has_personal_loan': 'str',\n",
    "     'prev_call_duration': 'int',  \n",
    "     'days_since_last_call': 'int',  \n",
    "     'num_contacts_prev':'int',  \n",
    "     'poutcome': 'str',\n",
    "     'contact_date': 'str',\n",
    "     'cpi': 'float',\n",
    "     'subs_deposit':'int'\n",
    "    }\n",
    "    \n",
    "    # read the data\n",
    "    df_raw = pd.read_csv(data_filepath, dtype=sample_type, parse_dates=['contact_date'])\n",
    "    # apply the changes\n",
    "    df_data= pd.DataFrame(df_raw.apply(lambda x: convert_sample(x), axis=1).to_list())\n",
    "    \n",
    "    df_data.set_index('client_id', inplace=True)\n",
    "    if 'subs_deposit' in df_raw.columns.values: # just for training data\n",
    "        df_raw.set_index('client_id', inplace=True)\n",
    "        df_data['subs_deposit'] = df_raw.subs_deposit\n",
    "    \n",
    "    return df_data\n",
    "\n",
    "\n",
    "data_filepath = 'train.csv'\n",
    "df_train = data_preprocessing(data_filepath)"
   ]
  },
  {
   "cell_type": "code",
   "execution_count": 174,
   "metadata": {},
   "outputs": [
    {
     "data": {
      "text/html": [
       "<div>\n",
       "<style scoped>\n",
       "    .dataframe tbody tr th:only-of-type {\n",
       "        vertical-align: middle;\n",
       "    }\n",
       "\n",
       "    .dataframe tbody tr th {\n",
       "        vertical-align: top;\n",
       "    }\n",
       "\n",
       "    .dataframe thead th {\n",
       "        text-align: right;\n",
       "    }\n",
       "</style>\n",
       "<table border=\"1\" class=\"dataframe\">\n",
       "  <thead>\n",
       "    <tr style=\"text-align: right;\">\n",
       "      <th>client_id</th>\n",
       "      <th>41020</th>\n",
       "      <th>23720</th>\n",
       "      <th>29378</th>\n",
       "      <th>36636</th>\n",
       "      <th>38229</th>\n",
       "    </tr>\n",
       "  </thead>\n",
       "  <tbody>\n",
       "    <tr>\n",
       "      <th>age_bracket</th>\n",
       "      <td>3.000</td>\n",
       "      <td>4.000</td>\n",
       "      <td>3.000</td>\n",
       "      <td>2.0</td>\n",
       "      <td>1.000</td>\n",
       "    </tr>\n",
       "    <tr>\n",
       "      <th>job</th>\n",
       "      <td>1.000</td>\n",
       "      <td>5.000</td>\n",
       "      <td>1.000</td>\n",
       "      <td>2.0</td>\n",
       "      <td>1.000</td>\n",
       "    </tr>\n",
       "    <tr>\n",
       "      <th>marital</th>\n",
       "      <td>3.000</td>\n",
       "      <td>3.000</td>\n",
       "      <td>1.000</td>\n",
       "      <td>2.0</td>\n",
       "      <td>2.000</td>\n",
       "    </tr>\n",
       "    <tr>\n",
       "      <th>education</th>\n",
       "      <td>1.000</td>\n",
       "      <td>2.000</td>\n",
       "      <td>1.000</td>\n",
       "      <td>3.0</td>\n",
       "      <td>1.000</td>\n",
       "    </tr>\n",
       "    <tr>\n",
       "      <th>has_housing_loan</th>\n",
       "      <td>1.000</td>\n",
       "      <td>0.000</td>\n",
       "      <td>0.000</td>\n",
       "      <td>1.0</td>\n",
       "      <td>0.000</td>\n",
       "    </tr>\n",
       "    <tr>\n",
       "      <th>has_personal_loan</th>\n",
       "      <td>0.000</td>\n",
       "      <td>1.000</td>\n",
       "      <td>0.000</td>\n",
       "      <td>1.0</td>\n",
       "      <td>0.000</td>\n",
       "    </tr>\n",
       "    <tr>\n",
       "      <th>prev_call_duration</th>\n",
       "      <td>283.000</td>\n",
       "      <td>169.000</td>\n",
       "      <td>552.000</td>\n",
       "      <td>206.0</td>\n",
       "      <td>341.000</td>\n",
       "    </tr>\n",
       "    <tr>\n",
       "      <th>days_since_last_call</th>\n",
       "      <td>3.000</td>\n",
       "      <td>6.000</td>\n",
       "      <td>-1.000</td>\n",
       "      <td>-1.0</td>\n",
       "      <td>-1.000</td>\n",
       "    </tr>\n",
       "    <tr>\n",
       "      <th>num_contacts_prev</th>\n",
       "      <td>1.000</td>\n",
       "      <td>2.000</td>\n",
       "      <td>0.000</td>\n",
       "      <td>0.0</td>\n",
       "      <td>0.000</td>\n",
       "    </tr>\n",
       "    <tr>\n",
       "      <th>poutcome</th>\n",
       "      <td>1.000</td>\n",
       "      <td>1.000</td>\n",
       "      <td>2.000</td>\n",
       "      <td>2.0</td>\n",
       "      <td>2.000</td>\n",
       "    </tr>\n",
       "    <tr>\n",
       "      <th>contact_weekday</th>\n",
       "      <td>1.000</td>\n",
       "      <td>1.000</td>\n",
       "      <td>1.000</td>\n",
       "      <td>7.0</td>\n",
       "      <td>3.000</td>\n",
       "    </tr>\n",
       "    <tr>\n",
       "      <th>cpi</th>\n",
       "      <td>92.379</td>\n",
       "      <td>94.215</td>\n",
       "      <td>93.444</td>\n",
       "      <td>93.2</td>\n",
       "      <td>93.075</td>\n",
       "    </tr>\n",
       "    <tr>\n",
       "      <th>subs_deposit</th>\n",
       "      <td>1.000</td>\n",
       "      <td>1.000</td>\n",
       "      <td>1.000</td>\n",
       "      <td>0.0</td>\n",
       "      <td>1.000</td>\n",
       "    </tr>\n",
       "  </tbody>\n",
       "</table>\n",
       "</div>"
      ],
      "text/plain": [
       "client_id               41020    23720    29378  36636    38229\n",
       "age_bracket             3.000    4.000    3.000    2.0    1.000\n",
       "job                     1.000    5.000    1.000    2.0    1.000\n",
       "marital                 3.000    3.000    1.000    2.0    2.000\n",
       "education               1.000    2.000    1.000    3.0    1.000\n",
       "has_housing_loan        1.000    0.000    0.000    1.0    0.000\n",
       "has_personal_loan       0.000    1.000    0.000    1.0    0.000\n",
       "prev_call_duration    283.000  169.000  552.000  206.0  341.000\n",
       "days_since_last_call    3.000    6.000   -1.000   -1.0   -1.000\n",
       "num_contacts_prev       1.000    2.000    0.000    0.0    0.000\n",
       "poutcome                1.000    1.000    2.000    2.0    2.000\n",
       "contact_weekday         1.000    1.000    1.000    7.0    3.000\n",
       "cpi                    92.379   94.215   93.444   93.2   93.075\n",
       "subs_deposit            1.000    1.000    1.000    0.0    1.000"
      ]
     },
     "execution_count": 174,
     "metadata": {},
     "output_type": "execute_result"
    }
   ],
   "source": [
    "df_train.head().T"
   ]
  },
  {
   "cell_type": "code",
   "execution_count": 175,
   "metadata": {},
   "outputs": [],
   "source": [
    "df_train.to_csv('df_clean_train.csv') # make a copy"
   ]
  },
  {
   "cell_type": "code",
   "execution_count": 176,
   "metadata": {},
   "outputs": [],
   "source": [
    "# do the same to the test data\n",
    "data_filepath = 'test.csv'\n",
    "df_test = data_preprocessing(data_filepath)\n",
    "df_test.to_csv('df_clean_test.csv')"
   ]
  },
  {
   "cell_type": "code",
   "execution_count": 177,
   "metadata": {},
   "outputs": [
    {
     "data": {
      "text/html": [
       "<div>\n",
       "<style scoped>\n",
       "    .dataframe tbody tr th:only-of-type {\n",
       "        vertical-align: middle;\n",
       "    }\n",
       "\n",
       "    .dataframe tbody tr th {\n",
       "        vertical-align: top;\n",
       "    }\n",
       "\n",
       "    .dataframe thead th {\n",
       "        text-align: right;\n",
       "    }\n",
       "</style>\n",
       "<table border=\"1\" class=\"dataframe\">\n",
       "  <thead>\n",
       "    <tr style=\"text-align: right;\">\n",
       "      <th>client_id</th>\n",
       "      <th>19271</th>\n",
       "      <th>36488</th>\n",
       "      <th>2750</th>\n",
       "      <th>4797</th>\n",
       "      <th>29971</th>\n",
       "    </tr>\n",
       "  </thead>\n",
       "  <tbody>\n",
       "    <tr>\n",
       "      <th>age_bracket</th>\n",
       "      <td>2.000</td>\n",
       "      <td>3.0</td>\n",
       "      <td>3.000</td>\n",
       "      <td>2.000</td>\n",
       "      <td>3.000</td>\n",
       "    </tr>\n",
       "    <tr>\n",
       "      <th>job</th>\n",
       "      <td>4.000</td>\n",
       "      <td>5.0</td>\n",
       "      <td>1.000</td>\n",
       "      <td>1.000</td>\n",
       "      <td>2.000</td>\n",
       "    </tr>\n",
       "    <tr>\n",
       "      <th>marital</th>\n",
       "      <td>1.000</td>\n",
       "      <td>1.0</td>\n",
       "      <td>1.000</td>\n",
       "      <td>2.000</td>\n",
       "      <td>1.000</td>\n",
       "    </tr>\n",
       "    <tr>\n",
       "      <th>education</th>\n",
       "      <td>3.000</td>\n",
       "      <td>2.0</td>\n",
       "      <td>2.000</td>\n",
       "      <td>3.000</td>\n",
       "      <td>4.000</td>\n",
       "    </tr>\n",
       "    <tr>\n",
       "      <th>has_housing_loan</th>\n",
       "      <td>0.000</td>\n",
       "      <td>0.0</td>\n",
       "      <td>1.000</td>\n",
       "      <td>0.000</td>\n",
       "      <td>1.000</td>\n",
       "    </tr>\n",
       "    <tr>\n",
       "      <th>has_personal_loan</th>\n",
       "      <td>0.000</td>\n",
       "      <td>0.0</td>\n",
       "      <td>0.000</td>\n",
       "      <td>0.000</td>\n",
       "      <td>0.000</td>\n",
       "    </tr>\n",
       "    <tr>\n",
       "      <th>prev_call_duration</th>\n",
       "      <td>99999.000</td>\n",
       "      <td>597.0</td>\n",
       "      <td>358.000</td>\n",
       "      <td>197.000</td>\n",
       "      <td>210.000</td>\n",
       "    </tr>\n",
       "    <tr>\n",
       "      <th>days_since_last_call</th>\n",
       "      <td>-1.000</td>\n",
       "      <td>3.0</td>\n",
       "      <td>-1.000</td>\n",
       "      <td>-1.000</td>\n",
       "      <td>-1.000</td>\n",
       "    </tr>\n",
       "    <tr>\n",
       "      <th>num_contacts_prev</th>\n",
       "      <td>0.000</td>\n",
       "      <td>2.0</td>\n",
       "      <td>0.000</td>\n",
       "      <td>1.000</td>\n",
       "      <td>0.000</td>\n",
       "    </tr>\n",
       "    <tr>\n",
       "      <th>poutcome</th>\n",
       "      <td>2.000</td>\n",
       "      <td>1.0</td>\n",
       "      <td>2.000</td>\n",
       "      <td>0.000</td>\n",
       "      <td>2.000</td>\n",
       "    </tr>\n",
       "    <tr>\n",
       "      <th>contact_weekday</th>\n",
       "      <td>3.000</td>\n",
       "      <td>4.0</td>\n",
       "      <td>5.000</td>\n",
       "      <td>5.000</td>\n",
       "      <td>1.000</td>\n",
       "    </tr>\n",
       "    <tr>\n",
       "      <th>cpi</th>\n",
       "      <td>93.918</td>\n",
       "      <td>100.0</td>\n",
       "      <td>93.994</td>\n",
       "      <td>92.893</td>\n",
       "      <td>92.201</td>\n",
       "    </tr>\n",
       "  </tbody>\n",
       "</table>\n",
       "</div>"
      ],
      "text/plain": [
       "client_id                 19271  36488     2750     4797    29971\n",
       "age_bracket               2.000    3.0    3.000    2.000    3.000\n",
       "job                       4.000    5.0    1.000    1.000    2.000\n",
       "marital                   1.000    1.0    1.000    2.000    1.000\n",
       "education                 3.000    2.0    2.000    3.000    4.000\n",
       "has_housing_loan          0.000    0.0    1.000    0.000    1.000\n",
       "has_personal_loan         0.000    0.0    0.000    0.000    0.000\n",
       "prev_call_duration    99999.000  597.0  358.000  197.000  210.000\n",
       "days_since_last_call     -1.000    3.0   -1.000   -1.000   -1.000\n",
       "num_contacts_prev         0.000    2.0    0.000    1.000    0.000\n",
       "poutcome                  2.000    1.0    2.000    0.000    2.000\n",
       "contact_weekday           3.000    4.0    5.000    5.000    1.000\n",
       "cpi                      93.918  100.0   93.994   92.893   92.201"
      ]
     },
     "execution_count": 177,
     "metadata": {},
     "output_type": "execute_result"
    }
   ],
   "source": [
    "df_test.head().T"
   ]
  },
  {
   "cell_type": "markdown",
   "metadata": {},
   "source": [
    "## Visualization, Modeling, Machine Learning\n",
    "\n",
    "Can you help Lending Bank to predict whether a client would subscribe to the term deposit and explain how different features affect that? Please explain your findings effectively to technical and non-technical audiences using comments and visualizations, if appropriate.\n",
    "- **Build an optimized model that effectively solves the business problem.**\n",
    "- **The model would be evaluated on the basis of F1 score.**\n",
    "- **Read the test.csv file and prepare features for testing.**"
   ]
  },
  {
   "cell_type": "markdown",
   "metadata": {},
   "source": [
    "### Basic Modeling  -  Decision Tree\n",
    "\n",
    "Due the fact most of the feature are categorical, we will use Decision Tree as base model."
   ]
  },
  {
   "cell_type": "code",
   "execution_count": 178,
   "metadata": {},
   "outputs": [],
   "source": [
    "import numpy as np\n",
    "from matplotlib import pyplot as plt\n",
    "from sklearn.model_selection import cross_val_score\n",
    "from sklearn.tree import DecisionTreeClassifier"
   ]
  },
  {
   "cell_type": "code",
   "execution_count": 179,
   "metadata": {},
   "outputs": [],
   "source": [
    "random_state_seed = 2022 # Just for reproducibility"
   ]
  },
  {
   "cell_type": "code",
   "execution_count": 180,
   "metadata": {},
   "outputs": [
    {
     "name": "stdout",
     "output_type": "stream",
     "text": [
      "(4000, 12) (4000,)\n"
     ]
    }
   ],
   "source": [
    "data = df_train.drop(['subs_deposit'], axis=1).values\n",
    "target = df_train['subs_deposit'].values\n",
    "print(data.shape, target.shape)"
   ]
  },
  {
   "cell_type": "markdown",
   "metadata": {},
   "source": [
    "Apply cross-validation to find the best_depth of the DT tree."
   ]
  },
  {
   "cell_type": "code",
   "execution_count": 181,
   "metadata": {},
   "outputs": [],
   "source": [
    "score_list = []\n",
    "dt_depth_list = []\n",
    "cv_score_ave = []\n",
    "for dt_depth in range(1,25+1):\n",
    "    model_DT = DecisionTreeClassifier(random_state=random_state_seed,\n",
    "                                    max_depth=dt_depth)\n",
    "    score = cross_val_score(model_DT, data, target, cv=10)\n",
    "    score_list.append(score)\n",
    "    dt_depth_list.append(dt_depth)\n",
    "    cv_score_ave.append(score.mean())"
   ]
  },
  {
   "cell_type": "code",
   "execution_count": 182,
   "metadata": {},
   "outputs": [],
   "source": [
    "score_mat = np.stack(score_list, axis=0)\n",
    "df_score = pd.DataFrame(score_mat,\n",
    "                        columns=['cv' + str(x) for x in range(1, 10 + 1)])\n",
    "\n",
    "df_score\n",
    "df_cv_score = pd.DataFrame({\n",
    "    'depth': dt_depth_list,\n",
    "    'cv_score_ave': cv_score_ave,\n",
    "})\n",
    "df_cv_score = pd.concat([df_cv_score, df_score], axis=1)\n",
    "# df_cv_score\n",
    "df_cv_score.to_csv('df_cv_score_DT.csv')"
   ]
  },
  {
   "cell_type": "code",
   "execution_count": 183,
   "metadata": {},
   "outputs": [
    {
     "data": {
      "image/png": "[encoded data removed]",
      "text/plain": [
       "<Figure size 864x576 with 1 Axes>"
      ]
     },
     "metadata": {
      "needs_background": "light"
     },
     "output_type": "display_data"
    }
   ],
   "source": [
    "ax = df_score.T.boxplot(figsize=(12, 8))\n",
    "ax.plot(dt_depth_list, cv_score_ave, 'r--', linewidth=2, label='average_cv_score: Acc')\n",
    "# ax.xtick(dt_depth_list)\n",
    "ax.set_xticklabels(dt_depth_list)\n",
    "ax.set_xlabel('max_depth')\n",
    "ax.set_ylabel('cv_score_ave: accuracy score')\n",
    "ax.legend()\n",
    "# ax.set_ylim([0, 1])\n",
    "plt.show()"
   ]
  },
  {
   "cell_type": "code",
   "execution_count": 187,
   "metadata": {},
   "outputs": [
    {
     "name": "stdout",
     "output_type": "stream",
     "text": [
      "The best depth of the DT tree is 9\n"
     ]
    }
   ],
   "source": [
    "best_depth = df_cv_score[df_cv_score.cv_score_ave == df_cv_score.cv_score_ave.max()].depth.values[0]\n",
    "print('The best depth of the DT tree is {}'.format(best_depth))"
   ]
  },
  {
   "cell_type": "code",
   "execution_count": 224,
   "metadata": {},
   "outputs": [
    {
     "name": "stdout",
     "output_type": "stream",
     "text": [
      "accuracy: 0.9095\n",
      "balanced_accuracy_score: 0.9049949111406874\n",
      "roc_auc_score: 0.9049949111406874\n",
      "recall_score: 0.8830188679245283\n",
      "f1_score: 0.8858044164037855\n",
      "[[2234  176]\n",
      " [ 186 1404]]\n"
     ]
    }
   ],
   "source": [
    "from sklearn import tree\n",
    "from sklearn import metrics\n",
    " \n",
    "\n",
    "model_DT = DecisionTreeClassifier(random_state=random_state_seed,\n",
    "                                  max_depth=best_depth,\n",
    "                                  criterion='gini')\n",
    "model_DT.fit(data, target)\n",
    "\n",
    "y_pred = model_DT.predict(data)\n",
    "y_prob = model_DT.predict_proba(data)\n",
    "print('accuracy:', metrics.accuracy_score(target, y_pred))\n",
    "print('balanced_accuracy_score:',\n",
    "      metrics.balanced_accuracy_score(target, y_pred))\n",
    "print('roc_auc_score:', metrics.roc_auc_score(target, y_pred))\n",
    "print('recall_score:', metrics.recall_score(target, y_pred))\n",
    "print('f1_score:', metrics.f1_score(target, y_pred))\n",
    "print(metrics.confusion_matrix(target, y_pred))"
   ]
  },
  {
   "cell_type": "code",
   "execution_count": 193,
   "metadata": {},
   "outputs": [
    {
     "data": {
      "text/plain": [
       "['model_DT.joblib']"
      ]
     },
     "execution_count": 193,
     "metadata": {},
     "output_type": "execute_result"
    }
   ],
   "source": [
    " # save the model\n",
    "from joblib import dump, load\n",
    "dump(model_DT, 'model_DT.joblib')"
   ]
  },
  {
   "cell_type": "markdown",
   "metadata": {},
   "source": [
    "\n",
    "\n",
    "**The bank wants to know what are the most important features for your model.  Can you tell them?**\n",
    "\n",
    "> #### Task:\n",
    "- **Visualize the top 20 features and their feature importance.**\n"
   ]
  },
  {
   "cell_type": "markdown",
   "metadata": {},
   "source": [
    "The DT tree based method to show the results."
   ]
  },
  {
   "cell_type": "code",
   "execution_count": 201,
   "metadata": {},
   "outputs": [],
   "source": [
    "feature_names = list(df_train.drop(columns='subs_deposit').columns.values)\n",
    "# feature_names"
   ]
  },
  {
   "cell_type": "code",
   "execution_count": 204,
   "metadata": {},
   "outputs": [
    {
     "data": {
      "image/png": "[encoded data removed]",
      "text/plain": [
       "<Figure size 432x288 with 1 Axes>"
      ]
     },
     "metadata": {
      "needs_background": "light"
     },
     "output_type": "display_data"
    },
    {
     "data": {
      "text/html": [
       "<div>\n",
       "<style scoped>\n",
       "    .dataframe tbody tr th:only-of-type {\n",
       "        vertical-align: middle;\n",
       "    }\n",
       "\n",
       "    .dataframe tbody tr th {\n",
       "        vertical-align: top;\n",
       "    }\n",
       "\n",
       "    .dataframe thead th {\n",
       "        text-align: right;\n",
       "    }\n",
       "</style>\n",
       "<table border=\"1\" class=\"dataframe\">\n",
       "  <thead>\n",
       "    <tr style=\"text-align: right;\">\n",
       "      <th></th>\n",
       "      <th>feature_name</th>\n",
       "      <th>score</th>\n",
       "      <th>cum_score</th>\n",
       "    </tr>\n",
       "  </thead>\n",
       "  <tbody>\n",
       "    <tr>\n",
       "      <th>0</th>\n",
       "      <td>prev_call_duration</td>\n",
       "      <td>0.466646</td>\n",
       "      <td>0.466646</td>\n",
       "    </tr>\n",
       "    <tr>\n",
       "      <th>1</th>\n",
       "      <td>cpi</td>\n",
       "      <td>0.308640</td>\n",
       "      <td>0.775285</td>\n",
       "    </tr>\n",
       "    <tr>\n",
       "      <th>2</th>\n",
       "      <td>days_since_last_call</td>\n",
       "      <td>0.128815</td>\n",
       "      <td>0.904100</td>\n",
       "    </tr>\n",
       "    <tr>\n",
       "      <th>3</th>\n",
       "      <td>poutcome</td>\n",
       "      <td>0.027127</td>\n",
       "      <td>0.931227</td>\n",
       "    </tr>\n",
       "    <tr>\n",
       "      <th>4</th>\n",
       "      <td>education</td>\n",
       "      <td>0.017777</td>\n",
       "      <td>0.949004</td>\n",
       "    </tr>\n",
       "    <tr>\n",
       "      <th>5</th>\n",
       "      <td>contact_weekday</td>\n",
       "      <td>0.014906</td>\n",
       "      <td>0.963910</td>\n",
       "    </tr>\n",
       "    <tr>\n",
       "      <th>6</th>\n",
       "      <td>job</td>\n",
       "      <td>0.010044</td>\n",
       "      <td>0.973954</td>\n",
       "    </tr>\n",
       "    <tr>\n",
       "      <th>7</th>\n",
       "      <td>marital</td>\n",
       "      <td>0.008981</td>\n",
       "      <td>0.982935</td>\n",
       "    </tr>\n",
       "    <tr>\n",
       "      <th>8</th>\n",
       "      <td>age_bracket</td>\n",
       "      <td>0.006431</td>\n",
       "      <td>0.989366</td>\n",
       "    </tr>\n",
       "    <tr>\n",
       "      <th>9</th>\n",
       "      <td>has_personal_loan</td>\n",
       "      <td>0.005252</td>\n",
       "      <td>0.994618</td>\n",
       "    </tr>\n",
       "    <tr>\n",
       "      <th>10</th>\n",
       "      <td>num_contacts_prev</td>\n",
       "      <td>0.003876</td>\n",
       "      <td>0.998495</td>\n",
       "    </tr>\n",
       "    <tr>\n",
       "      <th>11</th>\n",
       "      <td>has_housing_loan</td>\n",
       "      <td>0.001505</td>\n",
       "      <td>1.000000</td>\n",
       "    </tr>\n",
       "  </tbody>\n",
       "</table>\n",
       "</div>"
      ],
      "text/plain": [
       "            feature_name     score  cum_score\n",
       "0     prev_call_duration  0.466646   0.466646\n",
       "1                    cpi  0.308640   0.775285\n",
       "2   days_since_last_call  0.128815   0.904100\n",
       "3               poutcome  0.027127   0.931227\n",
       "4              education  0.017777   0.949004\n",
       "5        contact_weekday  0.014906   0.963910\n",
       "6                    job  0.010044   0.973954\n",
       "7                marital  0.008981   0.982935\n",
       "8            age_bracket  0.006431   0.989366\n",
       "9      has_personal_loan  0.005252   0.994618\n",
       "10     num_contacts_prev  0.003876   0.998495\n",
       "11      has_housing_loan  0.001505   1.000000"
      ]
     },
     "metadata": {},
     "output_type": "display_data"
    }
   ],
   "source": [
    "df_feature_importances = pd.DataFrame({'feature_name': feature_names, 'score':model_DT.feature_importances_})\n",
    "df_feature_importances.sort_values(by='score', ascending=False, inplace=True)\n",
    "df_feature_importances.reset_index(drop=True, inplace =True)\n",
    "\n",
    "df_feature_importances['cum_score'] = df_feature_importances.score.cumsum()\n",
    "ax = df_feature_importances.plot.barh(x='feature_name', y='score')\n",
    "plt.show()\n",
    "\n",
    "\n",
    "display(df_feature_importances)"
   ]
  },
  {
   "cell_type": "markdown",
   "metadata": {},
   "source": [
    "Based on the results, we can find that the Top 3 important features are\n",
    "- pre_call_duration\n",
    "- cpi\n",
    "- days_since_last_call\n",
    "\n",
    "3 of them taks 90% contribution for the model.\n"
   ]
  },
  {
   "cell_type": "markdown",
   "metadata": {},
   "source": [
    "### One More Step on ML: Random Forest "
   ]
  },
  {
   "cell_type": "code",
   "execution_count": 256,
   "metadata": {},
   "outputs": [
    {
     "name": "stdout",
     "output_type": "stream",
     "text": [
      "(4000, 12) (4000,)\n"
     ]
    }
   ],
   "source": [
    "from sklearn.ensemble import RandomForestClassifier\n",
    "data = df_train.drop(['subs_deposit'], axis=1).values\n",
    "target = df_train['subs_deposit'].values\n",
    "print(data.shape, target.shape)"
   ]
  },
  {
   "cell_type": "code",
   "execution_count": 257,
   "metadata": {},
   "outputs": [],
   "source": [
    "score_list = []\n",
    "tree_num_list = []\n",
    "cv_score_ave = []\n",
    "\n",
    "n_estimators_max = 40 # Original setting is 100 \n",
    "\n",
    "for n in range(1, n_estimators_max+1):\n",
    "    model_RF = RandomForestClassifier(n_estimators=n,\n",
    "                                    random_state=random_state_seed,\n",
    "                                    max_depth=best_depth)\n",
    "    score = cross_val_score(model_RF, data, target, cv=10)\n",
    "    score_list.append(score)\n",
    "    tree_num_list.append(n)\n",
    "    cv_score_ave.append(score.mean())"
   ]
  },
  {
   "cell_type": "code",
   "execution_count": 258,
   "metadata": {},
   "outputs": [],
   "source": [
    "score_mat = np.stack(score_list, axis=0)\n",
    "df_score = pd.DataFrame(score_mat,\n",
    "                        columns=['cv' + str(x) for x in range(1, 10+1)])\n",
    "\n",
    "# df_score \n",
    "df_cv_score = pd.DataFrame({\n",
    "    'depth': tree_num_list,\n",
    "    'cv_score_ave': cv_score_ave,\n",
    "})\n",
    "df_cv_score = pd.concat([df_cv_score, df_score], axis=1)\n",
    "# df_cv_score\n",
    "df_cv_score.to_csv('df_cv_score_RF.csv')"
   ]
  },
  {
   "cell_type": "code",
   "execution_count": 259,
   "metadata": {},
   "outputs": [
    {
     "data": {
      "image/png": "[encoded data removed]",
      "text/plain": [
       "<Figure size 1440x576 with 1 Axes>"
      ]
     },
     "metadata": {
      "needs_background": "light"
     },
     "output_type": "display_data"
    }
   ],
   "source": [
    "ax = df_score.T.boxplot(figsize=(20, 8))\n",
    "ax.plot(tree_num_list,\n",
    "        cv_score_ave,\n",
    "        'r--',\n",
    "        linewidth=2,\n",
    "        label='average_cv_score: Acc')\n",
    "# ax.xtick(tree_num_list)\n",
    "ax.set_xticklabels(tree_num_list)\n",
    "ax.set_xlabel('max_depth')\n",
    "ax.set_ylabel('cv_score_ave: accuracy score')\n",
    "ax.legend()\n",
    "# ax.set_ylim([0, 1])\n",
    "plt.show()"
   ]
  },
  {
   "cell_type": "code",
   "execution_count": 260,
   "metadata": {},
   "outputs": [],
   "source": [
    "best_n = df_cv_score[df_cv_score['cv_score_ave'] == df_cv_score['cv_score_ave'].max()].depth.values[0]"
   ]
  },
  {
   "cell_type": "code",
   "execution_count": 261,
   "metadata": {},
   "outputs": [
    {
     "name": "stdout",
     "output_type": "stream",
     "text": [
      "RF model has 72 DT Tree with depth 9\n"
     ]
    }
   ],
   "source": [
    "print('RF model has {} DT Tree with depth {}'.format(best_n, best_depth))"
   ]
  },
  {
   "cell_type": "code",
   "execution_count": 262,
   "metadata": {},
   "outputs": [
    {
     "name": "stdout",
     "output_type": "stream",
     "text": [
      "accuracy: 0.89725\n",
      "balanced_accuracy_score: 0.8893721130509669\n",
      "roc_auc_score: 0.889372113050967\n",
      "recall_score: 0.8509433962264151\n",
      "f1_score: 0.8681424446583254\n",
      "[[2236  174]\n",
      " [ 237 1353]]\n"
     ]
    },
    {
     "data": {
      "text/plain": [
       "['model_RF.joblib']"
      ]
     },
     "execution_count": 262,
     "metadata": {},
     "output_type": "execute_result"
    }
   ],
   "source": [
    "model_RF = RandomForestClassifier(n_estimators=best_n,\n",
    "                                  max_depth=best_depth)\n",
    "model_RF.fit(data, target)\n",
    "\n",
    "y_pred = model_RF.predict(data)\n",
    "print('accuracy:', metrics.accuracy_score(target, y_pred))\n",
    "print('balanced_accuracy_score:',\n",
    "      metrics.balanced_accuracy_score(target, y_pred))\n",
    "print('roc_auc_score:', metrics.roc_auc_score(target, y_pred))\n",
    "print('recall_score:', metrics.recall_score(target, y_pred))\n",
    "print('f1_score:', metrics.f1_score(target, y_pred))\n",
    "print(metrics.confusion_matrix(target, y_pred))\n",
    "dump(model_RF, 'model_RF.joblib')"
   ]
  },
  {
   "cell_type": "markdown",
   "metadata": {},
   "source": [
    "#### Comparing DT and RF model"
   ]
  },
  {
   "cell_type": "markdown",
   "metadata": {},
   "source": [
    "Base on the above results, we find the training performance as follows:\n",
    "\n",
    " |- | DT | RF | \n",
    " | -------- |------ |------ |\n",
    " |accuracy: |0.9095 |0.8972 |\n",
    " |f1_score: |0.8858 |0.8681 | \n",
    " \n",
    " \n",
    " Again more advanced model can be applied with different approaches, like gradient boosted tree model.\n",
    " \n",
    " But the feature engineering and sample selection are the most important for the ML modelling.\n"
   ]
  },
  {
   "cell_type": "markdown",
   "metadata": {},
   "source": [
    "> #### Task:\n",
    "- **Submit the predictions on the test dataset using your optimized model** <br/>\n",
    "    For each record in the Test set (test.csv), you must predict the 'subs_deposit' variable (1/0). The 1/0 would depend on the **best F1 score**.\n",
    "    You should submit a CSV file with test entries plus a header row. Your submission will show an error if you have extra columns beyond 'client_id' and 'subs_deposit' or extra rows.\n",
    "The file (`submission.csv`) should have exactly 2 columns:\n",
    "    - **client_id**\n",
    "    - **subs_deposit** (contains 1/0)"
   ]
  },
  {
   "cell_type": "code",
   "execution_count": 240,
   "metadata": {},
   "outputs": [
    {
     "data": {
      "text/html": [
       "<div>\n",
       "<style scoped>\n",
       "    .dataframe tbody tr th:only-of-type {\n",
       "        vertical-align: middle;\n",
       "    }\n",
       "\n",
       "    .dataframe tbody tr th {\n",
       "        vertical-align: top;\n",
       "    }\n",
       "\n",
       "    .dataframe thead th {\n",
       "        text-align: right;\n",
       "    }\n",
       "</style>\n",
       "<table border=\"1\" class=\"dataframe\">\n",
       "  <thead>\n",
       "    <tr style=\"text-align: right;\">\n",
       "      <th>client_id</th>\n",
       "      <th>19271</th>\n",
       "      <th>36488</th>\n",
       "      <th>2750</th>\n",
       "      <th>4797</th>\n",
       "      <th>29971</th>\n",
       "    </tr>\n",
       "  </thead>\n",
       "  <tbody>\n",
       "    <tr>\n",
       "      <th>age_bracket</th>\n",
       "      <td>2.000</td>\n",
       "      <td>3.0</td>\n",
       "      <td>3.000</td>\n",
       "      <td>2.000</td>\n",
       "      <td>3.000</td>\n",
       "    </tr>\n",
       "    <tr>\n",
       "      <th>job</th>\n",
       "      <td>4.000</td>\n",
       "      <td>5.0</td>\n",
       "      <td>1.000</td>\n",
       "      <td>1.000</td>\n",
       "      <td>2.000</td>\n",
       "    </tr>\n",
       "    <tr>\n",
       "      <th>marital</th>\n",
       "      <td>1.000</td>\n",
       "      <td>1.0</td>\n",
       "      <td>1.000</td>\n",
       "      <td>2.000</td>\n",
       "      <td>1.000</td>\n",
       "    </tr>\n",
       "    <tr>\n",
       "      <th>education</th>\n",
       "      <td>3.000</td>\n",
       "      <td>2.0</td>\n",
       "      <td>2.000</td>\n",
       "      <td>3.000</td>\n",
       "      <td>4.000</td>\n",
       "    </tr>\n",
       "    <tr>\n",
       "      <th>has_housing_loan</th>\n",
       "      <td>0.000</td>\n",
       "      <td>0.0</td>\n",
       "      <td>1.000</td>\n",
       "      <td>0.000</td>\n",
       "      <td>1.000</td>\n",
       "    </tr>\n",
       "    <tr>\n",
       "      <th>has_personal_loan</th>\n",
       "      <td>0.000</td>\n",
       "      <td>0.0</td>\n",
       "      <td>0.000</td>\n",
       "      <td>0.000</td>\n",
       "      <td>0.000</td>\n",
       "    </tr>\n",
       "    <tr>\n",
       "      <th>prev_call_duration</th>\n",
       "      <td>99999.000</td>\n",
       "      <td>597.0</td>\n",
       "      <td>358.000</td>\n",
       "      <td>197.000</td>\n",
       "      <td>210.000</td>\n",
       "    </tr>\n",
       "    <tr>\n",
       "      <th>days_since_last_call</th>\n",
       "      <td>-1.000</td>\n",
       "      <td>3.0</td>\n",
       "      <td>-1.000</td>\n",
       "      <td>-1.000</td>\n",
       "      <td>-1.000</td>\n",
       "    </tr>\n",
       "    <tr>\n",
       "      <th>num_contacts_prev</th>\n",
       "      <td>0.000</td>\n",
       "      <td>2.0</td>\n",
       "      <td>0.000</td>\n",
       "      <td>1.000</td>\n",
       "      <td>0.000</td>\n",
       "    </tr>\n",
       "    <tr>\n",
       "      <th>poutcome</th>\n",
       "      <td>2.000</td>\n",
       "      <td>1.0</td>\n",
       "      <td>2.000</td>\n",
       "      <td>0.000</td>\n",
       "      <td>2.000</td>\n",
       "    </tr>\n",
       "    <tr>\n",
       "      <th>contact_weekday</th>\n",
       "      <td>3.000</td>\n",
       "      <td>4.0</td>\n",
       "      <td>5.000</td>\n",
       "      <td>5.000</td>\n",
       "      <td>1.000</td>\n",
       "    </tr>\n",
       "    <tr>\n",
       "      <th>cpi</th>\n",
       "      <td>93.918</td>\n",
       "      <td>100.0</td>\n",
       "      <td>93.994</td>\n",
       "      <td>92.893</td>\n",
       "      <td>92.201</td>\n",
       "    </tr>\n",
       "  </tbody>\n",
       "</table>\n",
       "</div>"
      ],
      "text/plain": [
       "client_id                 19271  36488     2750     4797    29971\n",
       "age_bracket               2.000    3.0    3.000    2.000    3.000\n",
       "job                       4.000    5.0    1.000    1.000    2.000\n",
       "marital                   1.000    1.0    1.000    2.000    1.000\n",
       "education                 3.000    2.0    2.000    3.000    4.000\n",
       "has_housing_loan          0.000    0.0    1.000    0.000    1.000\n",
       "has_personal_loan         0.000    0.0    0.000    0.000    0.000\n",
       "prev_call_duration    99999.000  597.0  358.000  197.000  210.000\n",
       "days_since_last_call     -1.000    3.0   -1.000   -1.000   -1.000\n",
       "num_contacts_prev         0.000    2.0    0.000    1.000    0.000\n",
       "poutcome                  2.000    1.0    2.000    0.000    2.000\n",
       "contact_weekday           3.000    4.0    5.000    5.000    1.000\n",
       "cpi                      93.918  100.0   93.994   92.893   92.201"
      ]
     },
     "execution_count": 240,
     "metadata": {},
     "output_type": "execute_result"
    }
   ],
   "source": [
    "df_test.head().T"
   ]
  },
  {
   "cell_type": "code",
   "execution_count": 241,
   "metadata": {},
   "outputs": [
    {
     "name": "stdout",
     "output_type": "stream",
     "text": [
      "(1000, 12)\n"
     ]
    }
   ],
   "source": [
    "Xt = df_test.values\n",
    "print(Xt.shape)\n"
   ]
  },
  {
   "cell_type": "code",
   "execution_count": 242,
   "metadata": {},
   "outputs": [],
   "source": [
    "y_pred = model_RF.predict(Xt)"
   ]
  },
  {
   "cell_type": "code",
   "execution_count": 283,
   "metadata": {},
   "outputs": [],
   "source": [
    "# df_test.index"
   ]
  },
  {
   "cell_type": "code",
   "execution_count": 244,
   "metadata": {},
   "outputs": [],
   "source": [
    "data_sub = pd.DataFrame()\n",
    "data_sub['clinet_id'] = df_test.index\n",
    "data_sub['subs_deposit']= y_pred"
   ]
  },
  {
   "cell_type": "code",
   "execution_count": 245,
   "metadata": {},
   "outputs": [
    {
     "data": {
      "text/html": [
       "<div>\n",
       "<style scoped>\n",
       "    .dataframe tbody tr th:only-of-type {\n",
       "        vertical-align: middle;\n",
       "    }\n",
       "\n",
       "    .dataframe tbody tr th {\n",
       "        vertical-align: top;\n",
       "    }\n",
       "\n",
       "    .dataframe thead th {\n",
       "        text-align: right;\n",
       "    }\n",
       "</style>\n",
       "<table border=\"1\" class=\"dataframe\">\n",
       "  <thead>\n",
       "    <tr style=\"text-align: right;\">\n",
       "      <th></th>\n",
       "      <th>clinet_id</th>\n",
       "      <th>subs_deposit</th>\n",
       "    </tr>\n",
       "  </thead>\n",
       "  <tbody>\n",
       "    <tr>\n",
       "      <th>0</th>\n",
       "      <td>19271</td>\n",
       "      <td>1</td>\n",
       "    </tr>\n",
       "    <tr>\n",
       "      <th>1</th>\n",
       "      <td>36488</td>\n",
       "      <td>1</td>\n",
       "    </tr>\n",
       "    <tr>\n",
       "      <th>2</th>\n",
       "      <td>2750</td>\n",
       "      <td>0</td>\n",
       "    </tr>\n",
       "    <tr>\n",
       "      <th>3</th>\n",
       "      <td>4797</td>\n",
       "      <td>0</td>\n",
       "    </tr>\n",
       "    <tr>\n",
       "      <th>4</th>\n",
       "      <td>29971</td>\n",
       "      <td>0</td>\n",
       "    </tr>\n",
       "  </tbody>\n",
       "</table>\n",
       "</div>"
      ],
      "text/plain": [
       "  clinet_id  subs_deposit\n",
       "0     19271             1\n",
       "1     36488             1\n",
       "2      2750             0\n",
       "3      4797             0\n",
       "4     29971             0"
      ]
     },
     "execution_count": 245,
     "metadata": {},
     "output_type": "execute_result"
    }
   ],
   "source": [
    "data_sub.head()"
   ]
  },
  {
   "cell_type": "code",
   "execution_count": 246,
   "metadata": {},
   "outputs": [],
   "source": [
    "#Submission\n",
    "data_sub.to_csv('submissions.csv',index=False)"
   ]
  },
  {
   "cell_type": "markdown",
   "metadata": {},
   "source": [
    "### AutoML Approach (Looks like this Python 3.7 is incompatible)\n"
   ]
  },
  {
   "cell_type": "code",
   "execution_count": 268,
   "metadata": {},
   "outputs": [],
   "source": [
    "# import sys\n",
    "# !{sys.executable} -m pip install -q autogluon==0.3.0"
   ]
  },
  {
   "cell_type": "markdown",
   "metadata": {},
   "source": [
    "```\n",
    "ERROR: After October 2020 you may experience errors when installing or updating packages. This is because pip will change the way that it resolves dependency conflicts.\n",
    "\n",
    "We recommend you use --use-feature=2020-resolver to test your packages with the new resolver before it becomes the default.\n",
    "\n",
    "transformers 4.16.2 requires tokenizers!=0.11.3,>=0.10.1, but you'll have tokenizers 0.9.4 which is incompatible.\n",
    "```"
   ]
  },
  {
   "cell_type": "markdown",
   "metadata": {},
   "source": [
    "<font color='green'>The HackerRank Environment does not support the most recent packages I need, thus here is a running leaderboard from my local machine.</font>"
   ]
  },
  {
   "cell_type": "code",
   "execution_count": 271,
   "metadata": {},
   "outputs": [
    {
     "data": {
      "text/html": [
       "<div>\n",
       "<style scoped>\n",
       "    .dataframe tbody tr th:only-of-type {\n",
       "        vertical-align: middle;\n",
       "    }\n",
       "\n",
       "    .dataframe tbody tr th {\n",
       "        vertical-align: top;\n",
       "    }\n",
       "\n",
       "    .dataframe thead th {\n",
       "        text-align: right;\n",
       "    }\n",
       "</style>\n",
       "<table border=\"1\" class=\"dataframe\">\n",
       "  <thead>\n",
       "    <tr style=\"text-align: right;\">\n",
       "      <th></th>\n",
       "      <th>model</th>\n",
       "      <th>score_test</th>\n",
       "      <th>score_val</th>\n",
       "      <th>pred_time_test</th>\n",
       "      <th>pred_time_val</th>\n",
       "      <th>fit_time</th>\n",
       "      <th>pred_time_test_marginal</th>\n",
       "      <th>pred_time_val_marginal</th>\n",
       "      <th>fit_time_marginal</th>\n",
       "      <th>stack_level</th>\n",
       "      <th>can_infer</th>\n",
       "      <th>fit_order</th>\n",
       "    </tr>\n",
       "  </thead>\n",
       "  <tbody>\n",
       "    <tr>\n",
       "      <th>0</th>\n",
       "      <td>LightGBM</td>\n",
       "      <td>0.918071</td>\n",
       "      <td>0.894</td>\n",
       "      <td>0.017220</td>\n",
       "      <td>0.004336</td>\n",
       "      <td>0.360453</td>\n",
       "      <td>0.017220</td>\n",
       "      <td>0.004336</td>\n",
       "      <td>0.360453</td>\n",
       "      <td>1</td>\n",
       "      <td>True</td>\n",
       "      <td>4</td>\n",
       "    </tr>\n",
       "    <tr>\n",
       "      <th>1</th>\n",
       "      <td>WeightedEnsemble_L2</td>\n",
       "      <td>0.918071</td>\n",
       "      <td>0.894</td>\n",
       "      <td>0.031053</td>\n",
       "      <td>0.005443</td>\n",
       "      <td>0.764001</td>\n",
       "      <td>0.013833</td>\n",
       "      <td>0.001107</td>\n",
       "      <td>0.403548</td>\n",
       "      <td>2</td>\n",
       "      <td>True</td>\n",
       "      <td>14</td>\n",
       "    </tr>\n",
       "    <tr>\n",
       "      <th>2</th>\n",
       "      <td>XGBoost</td>\n",
       "      <td>0.960073</td>\n",
       "      <td>0.892</td>\n",
       "      <td>0.013635</td>\n",
       "      <td>0.005324</td>\n",
       "      <td>0.543825</td>\n",
       "      <td>0.013635</td>\n",
       "      <td>0.005324</td>\n",
       "      <td>0.543825</td>\n",
       "      <td>1</td>\n",
       "      <td>True</td>\n",
       "      <td>11</td>\n",
       "    </tr>\n",
       "    <tr>\n",
       "      <th>3</th>\n",
       "      <td>CatBoost</td>\n",
       "      <td>0.903033</td>\n",
       "      <td>0.890</td>\n",
       "      <td>0.003097</td>\n",
       "      <td>0.001884</td>\n",
       "      <td>0.740376</td>\n",
       "      <td>0.003097</td>\n",
       "      <td>0.001884</td>\n",
       "      <td>0.740376</td>\n",
       "      <td>1</td>\n",
       "      <td>True</td>\n",
       "      <td>7</td>\n",
       "    </tr>\n",
       "    <tr>\n",
       "      <th>4</th>\n",
       "      <td>LightGBMLarge</td>\n",
       "      <td>0.935442</td>\n",
       "      <td>0.876</td>\n",
       "      <td>0.007446</td>\n",
       "      <td>0.002962</td>\n",
       "      <td>0.669745</td>\n",
       "      <td>0.007446</td>\n",
       "      <td>0.002962</td>\n",
       "      <td>0.669745</td>\n",
       "      <td>1</td>\n",
       "      <td>True</td>\n",
       "      <td>13</td>\n",
       "    </tr>\n",
       "    <tr>\n",
       "      <th>5</th>\n",
       "      <td>RandomForestGini</td>\n",
       "      <td>0.982888</td>\n",
       "      <td>0.868</td>\n",
       "      <td>0.114401</td>\n",
       "      <td>0.044079</td>\n",
       "      <td>0.452505</td>\n",
       "      <td>0.114401</td>\n",
       "      <td>0.044079</td>\n",
       "      <td>0.452505</td>\n",
       "      <td>1</td>\n",
       "      <td>True</td>\n",
       "      <td>5</td>\n",
       "    </tr>\n",
       "    <tr>\n",
       "      <th>6</th>\n",
       "      <td>RandomForestEntr</td>\n",
       "      <td>0.982370</td>\n",
       "      <td>0.864</td>\n",
       "      <td>0.086212</td>\n",
       "      <td>0.043229</td>\n",
       "      <td>0.442688</td>\n",
       "      <td>0.086212</td>\n",
       "      <td>0.043229</td>\n",
       "      <td>0.442688</td>\n",
       "      <td>1</td>\n",
       "      <td>True</td>\n",
       "      <td>6</td>\n",
       "    </tr>\n",
       "    <tr>\n",
       "      <th>7</th>\n",
       "      <td>LightGBMXT</td>\n",
       "      <td>0.880996</td>\n",
       "      <td>0.864</td>\n",
       "      <td>0.023965</td>\n",
       "      <td>0.004307</td>\n",
       "      <td>0.948602</td>\n",
       "      <td>0.023965</td>\n",
       "      <td>0.004307</td>\n",
       "      <td>0.948602</td>\n",
       "      <td>1</td>\n",
       "      <td>True</td>\n",
       "      <td>3</td>\n",
       "    </tr>\n",
       "    <tr>\n",
       "      <th>8</th>\n",
       "      <td>ExtraTreesGini</td>\n",
       "      <td>0.980036</td>\n",
       "      <td>0.846</td>\n",
       "      <td>0.107915</td>\n",
       "      <td>0.042035</td>\n",
       "      <td>0.422966</td>\n",
       "      <td>0.107915</td>\n",
       "      <td>0.042035</td>\n",
       "      <td>0.422966</td>\n",
       "      <td>1</td>\n",
       "      <td>True</td>\n",
       "      <td>8</td>\n",
       "    </tr>\n",
       "    <tr>\n",
       "      <th>9</th>\n",
       "      <td>ExtraTreesEntr</td>\n",
       "      <td>0.979777</td>\n",
       "      <td>0.844</td>\n",
       "      <td>0.104916</td>\n",
       "      <td>0.042172</td>\n",
       "      <td>0.426081</td>\n",
       "      <td>0.104916</td>\n",
       "      <td>0.042172</td>\n",
       "      <td>0.426081</td>\n",
       "      <td>1</td>\n",
       "      <td>True</td>\n",
       "      <td>9</td>\n",
       "    </tr>\n",
       "    <tr>\n",
       "      <th>10</th>\n",
       "      <td>NeuralNetFastAI</td>\n",
       "      <td>0.841327</td>\n",
       "      <td>0.838</td>\n",
       "      <td>0.053679</td>\n",
       "      <td>0.013687</td>\n",
       "      <td>3.480154</td>\n",
       "      <td>0.053679</td>\n",
       "      <td>0.013687</td>\n",
       "      <td>3.480154</td>\n",
       "      <td>1</td>\n",
       "      <td>True</td>\n",
       "      <td>10</td>\n",
       "    </tr>\n",
       "    <tr>\n",
       "      <th>11</th>\n",
       "      <td>NeuralNetTorch</td>\n",
       "      <td>0.830438</td>\n",
       "      <td>0.832</td>\n",
       "      <td>0.034092</td>\n",
       "      <td>0.010846</td>\n",
       "      <td>4.145456</td>\n",
       "      <td>0.034092</td>\n",
       "      <td>0.010846</td>\n",
       "      <td>4.145456</td>\n",
       "      <td>1</td>\n",
       "      <td>True</td>\n",
       "      <td>12</td>\n",
       "    </tr>\n",
       "    <tr>\n",
       "      <th>12</th>\n",
       "      <td>KNeighborsUnif</td>\n",
       "      <td>0.830179</td>\n",
       "      <td>0.770</td>\n",
       "      <td>0.011579</td>\n",
       "      <td>0.023624</td>\n",
       "      <td>0.007227</td>\n",
       "      <td>0.011579</td>\n",
       "      <td>0.023624</td>\n",
       "      <td>0.007227</td>\n",
       "      <td>1</td>\n",
       "      <td>True</td>\n",
       "      <td>1</td>\n",
       "    </tr>\n",
       "    <tr>\n",
       "      <th>13</th>\n",
       "      <td>KNeighborsDist</td>\n",
       "      <td>0.969147</td>\n",
       "      <td>0.762</td>\n",
       "      <td>0.032084</td>\n",
       "      <td>0.005519</td>\n",
       "      <td>0.009535</td>\n",
       "      <td>0.032084</td>\n",
       "      <td>0.005519</td>\n",
       "      <td>0.009535</td>\n",
       "      <td>1</td>\n",
       "      <td>True</td>\n",
       "      <td>2</td>\n",
       "    </tr>\n",
       "  </tbody>\n",
       "</table>\n",
       "</div>"
      ],
      "text/plain": [
       "                  model  score_test  score_val  pred_time_test  pred_time_val  \\\n",
       "0              LightGBM    0.918071      0.894        0.017220       0.004336   \n",
       "1   WeightedEnsemble_L2    0.918071      0.894        0.031053       0.005443   \n",
       "2               XGBoost    0.960073      0.892        0.013635       0.005324   \n",
       "3              CatBoost    0.903033      0.890        0.003097       0.001884   \n",
       "4         LightGBMLarge    0.935442      0.876        0.007446       0.002962   \n",
       "5      RandomForestGini    0.982888      0.868        0.114401       0.044079   \n",
       "6      RandomForestEntr    0.982370      0.864        0.086212       0.043229   \n",
       "7            LightGBMXT    0.880996      0.864        0.023965       0.004307   \n",
       "8        ExtraTreesGini    0.980036      0.846        0.107915       0.042035   \n",
       "9        ExtraTreesEntr    0.979777      0.844        0.104916       0.042172   \n",
       "10      NeuralNetFastAI    0.841327      0.838        0.053679       0.013687   \n",
       "11       NeuralNetTorch    0.830438      0.832        0.034092       0.010846   \n",
       "12       KNeighborsUnif    0.830179      0.770        0.011579       0.023624   \n",
       "13       KNeighborsDist    0.969147      0.762        0.032084       0.005519   \n",
       "\n",
       "    fit_time  pred_time_test_marginal  pred_time_val_marginal  \\\n",
       "0   0.360453                 0.017220                0.004336   \n",
       "1   0.764001                 0.013833                0.001107   \n",
       "2   0.543825                 0.013635                0.005324   \n",
       "3   0.740376                 0.003097                0.001884   \n",
       "4   0.669745                 0.007446                0.002962   \n",
       "5   0.452505                 0.114401                0.044079   \n",
       "6   0.442688                 0.086212                0.043229   \n",
       "7   0.948602                 0.023965                0.004307   \n",
       "8   0.422966                 0.107915                0.042035   \n",
       "9   0.426081                 0.104916                0.042172   \n",
       "10  3.480154                 0.053679                0.013687   \n",
       "11  4.145456                 0.034092                0.010846   \n",
       "12  0.007227                 0.011579                0.023624   \n",
       "13  0.009535                 0.032084                0.005519   \n",
       "\n",
       "    fit_time_marginal  stack_level  can_infer  fit_order  \n",
       "0            0.360453            1       True          4  \n",
       "1            0.403548            2       True         14  \n",
       "2            0.543825            1       True         11  \n",
       "3            0.740376            1       True          7  \n",
       "4            0.669745            1       True         13  \n",
       "5            0.452505            1       True          5  \n",
       "6            0.442688            1       True          6  \n",
       "7            0.948602            1       True          3  \n",
       "8            0.422966            1       True          8  \n",
       "9            0.426081            1       True          9  \n",
       "10           3.480154            1       True         10  \n",
       "11           4.145456            1       True         12  \n",
       "12           0.007227            1       True          1  \n",
       "13           0.009535            1       True          2  "
      ]
     },
     "metadata": {},
     "output_type": "display_data"
    }
   ],
   "source": [
    "df=pd.read_csv('df_leaderboard.csv')\n",
    "display(df)"
   ]
  },
  {
   "cell_type": "markdown",
   "metadata": {},
   "source": [
    "We can see most of the Tree-based model get better valication scores around 0.89.\n",
    "\n",
    "Thus, the DT tree model can provide a simple solution for this tasks.\n",
    "\n",
    "\n",
    "### END"
   ]
  }
 ],
 "metadata": {
  "kernelspec": {
   "display_name": "Python 3",
   "language": "python",
   "name": "python3"
  },
  "language_info": {
   "codemirror_mode": {
    "name": "ipython",
    "version": 3
   },
   "file_extension": ".py",
   "mimetype": "text/x-python",
   "name": "python",
   "nbconvert_exporter": "python",
   "pygments_lexer": "ipython3",
   "version": "3.8.10"
  },
  "toc": {
   "base_numbering": 1,
   "nav_menu": {},
   "number_sections": true,
   "sideBar": true,
   "skip_h1_title": false,
   "title_cell": "Table of Contents",
   "title_sidebar": "Contents",
   "toc_cell": false,
   "toc_position": {},
   "toc_section_display": true,
   "toc_window_display": false
  }
 },
 "nbformat": 4,
 "nbformat_minor": 4
}
